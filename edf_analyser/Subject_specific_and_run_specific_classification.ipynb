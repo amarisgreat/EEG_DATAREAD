{
  "cells": [
    {
      "cell_type": "code",
      "execution_count": 1,
      "metadata": {
        "id": "ZGRxuKVRoT_h"
      },
      "outputs": [
        {
          "name": "stdout",
          "output_type": "stream",
          "text": [
            "Note: you may need to restart the kernel to use updated packages.\n"
          ]
        }
      ],
      "source": [
        "pip install -q scikit-learn imbalanced-learn matplotlib seaborn"
      ]
    },
    {
      "cell_type": "code",
      "execution_count": 2,
      "metadata": {
        "id": "g2_5DrQswrPg"
      },
      "outputs": [],
      "source": [
        "\n",
        "\n",
        "import os\n",
        "import numpy as np\n",
        "import pandas as pd\n",
        "import matplotlib.pyplot as plt\n",
        "import seaborn as sns\n",
        "import re\n",
        "from sklearn.model_selection import train_test_split\n",
        "from sklearn.metrics import (\n",
        "    accuracy_score, precision_score, recall_score, f1_score, confusion_matrix\n",
        ")\n",
        "from sklearn.manifold import TSNE\n",
        "from sklearn.svm import SVC\n"
      ]
    },
    {
      "cell_type": "code",
      "execution_count": 3,
      "metadata": {
        "id": "B58MQP8ywT6m"
      },
      "outputs": [
        {
          "name": "stderr",
          "output_type": "stream",
          "text": [
            "<>:2: SyntaxWarning: invalid escape sequence '\\A'\n",
            "<>:2: SyntaxWarning: invalid escape sequence '\\A'\n",
            "C:\\Users\\Lenovo\\AppData\\Local\\Temp\\ipykernel_14144\\1174684870.py:2: SyntaxWarning: invalid escape sequence '\\A'\n",
            "  base_dir = \"E:\\AMAR\\git\\EEG_DATAREAD\\edf_analyser\\preprocessed_data_psd_erd\"\n"
          ]
        }
      ],
      "source": [
        "# Update this to your own Google Drive path\n",
        "base_dir = \"E:\\AMAR\\git\\EEG_DATAREAD\\edf_analyser\\preprocessed_data_psd_erd\"\n",
        "features_dir = os.path.join(base_dir, \"features\")\n",
        "labels_dir = os.path.join(base_dir, \"labels\")\n",
        "save_plot_dir = os.path.join(base_dir, \"c_plots\")\n",
        "os.makedirs(save_plot_dir, exist_ok=True)\n",
        "\n",
        "global_class_map = {\n",
        "    'rest': 0,\n",
        "    'real_left_fist': 1,\n",
        "    'real_right_fist': 2,\n",
        "    'imagined_left_fist': 3,\n",
        "    'imagined_right_fist': 4,\n",
        "    'real_both_fists': 5,\n",
        "    'real_both_feet': 6,\n",
        "    'imagined_both_fists': 7,\n",
        "    'imagined_both_feet': 8\n",
        "}\n",
        "\n",
        "def get_class_ids_from_run(run_number):\n",
        "    if run_number in [3, 7, 11]:\n",
        "        return {'rest': 'rest', 'real_left_fist': 'real_left_fist', 'real_right_fist': 'real_right_fist'}\n",
        "    elif run_number in [4, 8, 12]:\n",
        "        return {'rest': 'rest', 'imagined_left_fist': 'imagined_left_fist', 'imagined_right_fist': 'imagined_right_fist'}\n",
        "    elif run_number in [5, 9, 13]:\n",
        "        return {'rest': 'rest', 'real_both_fists': 'real_both_fists', 'real_both_feet': 'real_both_feet'}\n",
        "    elif run_number in [6, 10, 14]:\n",
        "        return {'rest': 'rest', 'imagined_both_fists': 'imagined_both_fists', 'imagined_both_feet': 'imagined_both_feet'}\n",
        "    else:\n",
        "        return None\n"
      ]
    },
    {
      "cell_type": "code",
      "execution_count": 4,
      "metadata": {
        "id": "ksmmrxSIwXXi"
      },
      "outputs": [],
      "source": [
        "def evaluate_model(X, y, task_name, save_dir=None, prefix=None, subject_id=None, run_num=None, results_list=None):\n",
        "    X_train, X_test, y_train, y_test = train_test_split(X, y, stratify=y, test_size=0.3, random_state=42)\n",
        "\n",
        "    clf = SVC(kernel='rbf', C=1, gamma='scale')\n",
        "    clf.fit(X_train, y_train)\n",
        "    y_pred = clf.predict(X_test)\n",
        "\n",
        "    acc = accuracy_score(y_test, y_pred)\n",
        "    prec = precision_score(y_test, y_pred, average='binary')\n",
        "    rec = recall_score(y_test, y_pred, average='binary')\n",
        "    f1 = f1_score(y_test, y_pred, average='binary')\n",
        "\n",
        "    print(f\"Task: {task_name} | Acc: {acc:.2f} | Prec: {prec:.2f} | Rec: {rec:.2f} | F1: {f1:.2f}\")\n",
        "\n",
        "    if results_list is not None:\n",
        "        results_list.append({\n",
        "            \"Subject\": subject_id,\n",
        "            \"Run\": run_num,\n",
        "            \"Task\": task_name,\n",
        "            \"Accuracy\": round(acc, 4),\n",
        "            \"Precision\": round(prec, 4),\n",
        "            \"Recall\": round(rec, 4),\n",
        "            \"F1\": round(f1, 4)\n",
        "        })\n",
        "\n",
        "    # Confusion Matrix\n",
        "    cm = confusion_matrix(y_test, y_pred)\n",
        "    plt.figure(figsize=(4, 3))\n",
        "    sns.heatmap(cm, annot=True, fmt=\"d\", cmap=\"Blues\", cbar=False)\n",
        "    plt.title(f\"Confusion Matrix: {task_name}\")\n",
        "    plt.xlabel(\"Predicted\")\n",
        "    plt.ylabel(\"True\")\n",
        "    if save_dir and prefix:\n",
        "        cm_path = os.path.join(save_dir, f\"{prefix}_confusion_matrix.png\")\n",
        "        plt.savefig(cm_path)\n",
        "    plt.close()\n",
        "\n",
        "    # t-SNE\n",
        "    if len(X) >= 10:\n",
        "        try:\n",
        "            tsne = TSNE(n_components=2, perplexity=min(30, len(X) // 3), init='random', random_state=42)\n",
        "            X_embedded = tsne.fit_transform(X)\n",
        "            plt.figure(figsize=(5, 4))\n",
        "            sns.scatterplot(x=X_embedded[:, 0], y=X_embedded[:, 1], hue=y, palette='Set1')\n",
        "            plt.title(f\"t-SNE: {task_name}\")\n",
        "            if save_dir and prefix:\n",
        "                tsne_path = os.path.join(save_dir, f\"{prefix}_tsne.png\")\n",
        "                plt.savefig(tsne_path)\n",
        "            plt.close()\n",
        "        except Exception as e:\n",
        "            print(f\"[{task_name}] t-SNE failed: {e}\")\n"
      ]
    },
    {
      "cell_type": "code",
      "execution_count": 5,
      "metadata": {
        "colab": {
          "base_uri": "https://localhost:8080/"
        },
        "id": "IRnJfjspw1lu",
        "outputId": "13e31b94-2d1d-4e5c-ccf3-4d692e4645a9"
      },
      "outputs": [
        {
          "name": "stderr",
          "output_type": "stream",
          "text": [
            "e:\\e\\exe\\MNE-Python\\Lib\\site-packages\\sklearn\\metrics\\_classification.py:1565: UndefinedMetricWarning: Precision is ill-defined and being set to 0.0 due to no predicted samples. Use `zero_division` parameter to control this behavior.\n",
            "  _warn_prf(average, modifier, f\"{metric.capitalize()} is\", len(result))\n"
          ]
        },
        {
          "name": "stdout",
          "output_type": "stream",
          "text": [
            "Task: S001 Run 3: Real Left vs Real Right | Acc: 0.57 | Prec: 0.00 | Rec: 0.00 | F1: 0.00\n"
          ]
        },
        {
          "name": "stderr",
          "output_type": "stream",
          "text": [
            "e:\\e\\exe\\MNE-Python\\Lib\\site-packages\\sklearn\\metrics\\_classification.py:1565: UndefinedMetricWarning: Precision is ill-defined and being set to 0.0 due to no predicted samples. Use `zero_division` parameter to control this behavior.\n",
            "  _warn_prf(average, modifier, f\"{metric.capitalize()} is\", len(result))\n"
          ]
        },
        {
          "name": "stdout",
          "output_type": "stream",
          "text": [
            "Task: S001 Run 7: Real Left vs Real Right | Acc: 0.57 | Prec: 0.00 | Rec: 0.00 | F1: 0.00\n"
          ]
        },
        {
          "name": "stderr",
          "output_type": "stream",
          "text": [
            "e:\\e\\exe\\MNE-Python\\Lib\\site-packages\\sklearn\\metrics\\_classification.py:1565: UndefinedMetricWarning: Precision is ill-defined and being set to 0.0 due to no predicted samples. Use `zero_division` parameter to control this behavior.\n",
            "  _warn_prf(average, modifier, f\"{metric.capitalize()} is\", len(result))\n"
          ]
        },
        {
          "name": "stdout",
          "output_type": "stream",
          "text": [
            "Task: S001 Run 11: Real Left vs Real Right | Acc: 0.71 | Prec: 0.00 | Rec: 0.00 | F1: 0.00\n",
            "Task: S002 Run 3: Real Left vs Real Right | Acc: 0.86 | Prec: 1.00 | Rec: 0.67 | F1: 0.80\n"
          ]
        },
        {
          "name": "stderr",
          "output_type": "stream",
          "text": [
            "e:\\e\\exe\\MNE-Python\\Lib\\site-packages\\sklearn\\metrics\\_classification.py:1565: UndefinedMetricWarning: Precision is ill-defined and being set to 0.0 due to no predicted samples. Use `zero_division` parameter to control this behavior.\n",
            "  _warn_prf(average, modifier, f\"{metric.capitalize()} is\", len(result))\n"
          ]
        },
        {
          "name": "stdout",
          "output_type": "stream",
          "text": [
            "Task: S002 Run 7: Real Left vs Real Right | Acc: 0.71 | Prec: 0.00 | Rec: 0.00 | F1: 0.00\n",
            "Task: S002 Run 11: Real Left vs Real Right | Acc: 0.71 | Prec: 1.00 | Rec: 0.33 | F1: 0.50\n",
            "Task: S003 Run 3: Real Left vs Real Right | Acc: 0.86 | Prec: 1.00 | Rec: 0.50 | F1: 0.67\n"
          ]
        },
        {
          "name": "stderr",
          "output_type": "stream",
          "text": [
            "e:\\e\\exe\\MNE-Python\\Lib\\site-packages\\sklearn\\metrics\\_classification.py:1565: UndefinedMetricWarning: Precision is ill-defined and being set to 0.0 due to no predicted samples. Use `zero_division` parameter to control this behavior.\n",
            "  _warn_prf(average, modifier, f\"{metric.capitalize()} is\", len(result))\n"
          ]
        },
        {
          "name": "stdout",
          "output_type": "stream",
          "text": [
            "Task: S003 Run 7: Real Left vs Real Right | Acc: 0.57 | Prec: 0.00 | Rec: 0.00 | F1: 0.00\n"
          ]
        },
        {
          "name": "stderr",
          "output_type": "stream",
          "text": [
            "e:\\e\\exe\\MNE-Python\\Lib\\site-packages\\sklearn\\metrics\\_classification.py:1565: UndefinedMetricWarning: Precision is ill-defined and being set to 0.0 due to no predicted samples. Use `zero_division` parameter to control this behavior.\n",
            "  _warn_prf(average, modifier, f\"{metric.capitalize()} is\", len(result))\n"
          ]
        },
        {
          "name": "stdout",
          "output_type": "stream",
          "text": [
            "Task: S003 Run 11: Real Left vs Real Right | Acc: 0.71 | Prec: 0.00 | Rec: 0.00 | F1: 0.00\n",
            "Task: S004 Run 3: Real Left vs Real Right | Acc: 0.57 | Prec: 0.33 | Rec: 0.50 | F1: 0.40\n"
          ]
        },
        {
          "name": "stderr",
          "output_type": "stream",
          "text": [
            "e:\\e\\exe\\MNE-Python\\Lib\\site-packages\\sklearn\\metrics\\_classification.py:1565: UndefinedMetricWarning: Precision is ill-defined and being set to 0.0 due to no predicted samples. Use `zero_division` parameter to control this behavior.\n",
            "  _warn_prf(average, modifier, f\"{metric.capitalize()} is\", len(result))\n"
          ]
        },
        {
          "name": "stdout",
          "output_type": "stream",
          "text": [
            "Task: S004 Run 7: Real Left vs Real Right | Acc: 0.71 | Prec: 0.00 | Rec: 0.00 | F1: 0.00\n",
            "Task: S004 Run 11: Real Left vs Real Right | Acc: 0.86 | Prec: 1.00 | Rec: 0.67 | F1: 0.80\n",
            "Task: S005 Run 3: Real Left vs Real Right | Acc: 0.71 | Prec: 0.50 | Rec: 0.50 | F1: 0.50\n"
          ]
        },
        {
          "name": "stderr",
          "output_type": "stream",
          "text": [
            "e:\\e\\exe\\MNE-Python\\Lib\\site-packages\\sklearn\\metrics\\_classification.py:1565: UndefinedMetricWarning: Precision is ill-defined and being set to 0.0 due to no predicted samples. Use `zero_division` parameter to control this behavior.\n",
            "  _warn_prf(average, modifier, f\"{metric.capitalize()} is\", len(result))\n"
          ]
        },
        {
          "name": "stdout",
          "output_type": "stream",
          "text": [
            "Task: S005 Run 7: Real Left vs Real Right | Acc: 0.57 | Prec: 0.00 | Rec: 0.00 | F1: 0.00\n"
          ]
        },
        {
          "name": "stderr",
          "output_type": "stream",
          "text": [
            "e:\\e\\exe\\MNE-Python\\Lib\\site-packages\\sklearn\\metrics\\_classification.py:1565: UndefinedMetricWarning: Precision is ill-defined and being set to 0.0 due to no predicted samples. Use `zero_division` parameter to control this behavior.\n",
            "  _warn_prf(average, modifier, f\"{metric.capitalize()} is\", len(result))\n"
          ]
        },
        {
          "name": "stdout",
          "output_type": "stream",
          "text": [
            "Task: S005 Run 11: Real Left vs Real Right | Acc: 0.57 | Prec: 0.00 | Rec: 0.00 | F1: 0.00\n",
            "Task: S006 Run 3: Real Left vs Real Right | Acc: 0.71 | Prec: 1.00 | Rec: 0.33 | F1: 0.50\n"
          ]
        },
        {
          "name": "stderr",
          "output_type": "stream",
          "text": [
            "e:\\e\\exe\\MNE-Python\\Lib\\site-packages\\sklearn\\metrics\\_classification.py:1565: UndefinedMetricWarning: Precision is ill-defined and being set to 0.0 due to no predicted samples. Use `zero_division` parameter to control this behavior.\n",
            "  _warn_prf(average, modifier, f\"{metric.capitalize()} is\", len(result))\n"
          ]
        },
        {
          "name": "stdout",
          "output_type": "stream",
          "text": [
            "Task: S006 Run 7: Real Left vs Real Right | Acc: 0.71 | Prec: 0.00 | Rec: 0.00 | F1: 0.00\n"
          ]
        },
        {
          "name": "stderr",
          "output_type": "stream",
          "text": [
            "e:\\e\\exe\\MNE-Python\\Lib\\site-packages\\sklearn\\metrics\\_classification.py:1565: UndefinedMetricWarning: Precision is ill-defined and being set to 0.0 due to no predicted samples. Use `zero_division` parameter to control this behavior.\n",
            "  _warn_prf(average, modifier, f\"{metric.capitalize()} is\", len(result))\n"
          ]
        },
        {
          "name": "stdout",
          "output_type": "stream",
          "text": [
            "Task: S006 Run 11: Real Left vs Real Right | Acc: 0.71 | Prec: 0.00 | Rec: 0.00 | F1: 0.00\n",
            "Task: S007 Run 3: Real Left vs Real Right | Acc: 0.86 | Prec: 1.00 | Rec: 0.50 | F1: 0.67\n",
            "Task: S007 Run 7: Real Left vs Real Right | Acc: 0.86 | Prec: 1.00 | Rec: 0.67 | F1: 0.80\n",
            "Task: S007 Run 11: Real Left vs Real Right | Acc: 0.57 | Prec: 0.50 | Rec: 0.33 | F1: 0.40\n"
          ]
        },
        {
          "name": "stderr",
          "output_type": "stream",
          "text": [
            "e:\\e\\exe\\MNE-Python\\Lib\\site-packages\\sklearn\\metrics\\_classification.py:1565: UndefinedMetricWarning: Precision is ill-defined and being set to 0.0 due to no predicted samples. Use `zero_division` parameter to control this behavior.\n",
            "  _warn_prf(average, modifier, f\"{metric.capitalize()} is\", len(result))\n"
          ]
        },
        {
          "name": "stdout",
          "output_type": "stream",
          "text": [
            "Task: S008 Run 3: Real Left vs Real Right | Acc: 0.71 | Prec: 0.00 | Rec: 0.00 | F1: 0.00\n",
            "Task: S008 Run 7: Real Left vs Real Right | Acc: 0.86 | Prec: 1.00 | Rec: 0.50 | F1: 0.67\n",
            "Task: S008 Run 11: Real Left vs Real Right | Acc: 1.00 | Prec: 1.00 | Rec: 1.00 | F1: 1.00\n"
          ]
        },
        {
          "name": "stderr",
          "output_type": "stream",
          "text": [
            "e:\\e\\exe\\MNE-Python\\Lib\\site-packages\\sklearn\\metrics\\_classification.py:1565: UndefinedMetricWarning: Precision is ill-defined and being set to 0.0 due to no predicted samples. Use `zero_division` parameter to control this behavior.\n",
            "  _warn_prf(average, modifier, f\"{metric.capitalize()} is\", len(result))\n"
          ]
        },
        {
          "name": "stdout",
          "output_type": "stream",
          "text": [
            "Task: S009 Run 3: Real Left vs Real Right | Acc: 0.57 | Prec: 0.00 | Rec: 0.00 | F1: 0.00\n"
          ]
        },
        {
          "name": "stderr",
          "output_type": "stream",
          "text": [
            "e:\\e\\exe\\MNE-Python\\Lib\\site-packages\\sklearn\\metrics\\_classification.py:1565: UndefinedMetricWarning: Precision is ill-defined and being set to 0.0 due to no predicted samples. Use `zero_division` parameter to control this behavior.\n",
            "  _warn_prf(average, modifier, f\"{metric.capitalize()} is\", len(result))\n"
          ]
        },
        {
          "name": "stdout",
          "output_type": "stream",
          "text": [
            "Task: S009 Run 7: Real Left vs Real Right | Acc: 0.57 | Prec: 0.00 | Rec: 0.00 | F1: 0.00\n"
          ]
        },
        {
          "name": "stderr",
          "output_type": "stream",
          "text": [
            "e:\\e\\exe\\MNE-Python\\Lib\\site-packages\\sklearn\\metrics\\_classification.py:1565: UndefinedMetricWarning: Precision is ill-defined and being set to 0.0 due to no predicted samples. Use `zero_division` parameter to control this behavior.\n",
            "  _warn_prf(average, modifier, f\"{metric.capitalize()} is\", len(result))\n"
          ]
        },
        {
          "name": "stdout",
          "output_type": "stream",
          "text": [
            "Task: S009 Run 11: Real Left vs Real Right | Acc: 0.71 | Prec: 0.00 | Rec: 0.00 | F1: 0.00\n"
          ]
        },
        {
          "name": "stderr",
          "output_type": "stream",
          "text": [
            "e:\\e\\exe\\MNE-Python\\Lib\\site-packages\\sklearn\\metrics\\_classification.py:1565: UndefinedMetricWarning: Precision is ill-defined and being set to 0.0 due to no predicted samples. Use `zero_division` parameter to control this behavior.\n",
            "  _warn_prf(average, modifier, f\"{metric.capitalize()} is\", len(result))\n"
          ]
        },
        {
          "name": "stdout",
          "output_type": "stream",
          "text": [
            "Task: S010 Run 3: Real Left vs Real Right | Acc: 0.57 | Prec: 0.00 | Rec: 0.00 | F1: 0.00\n"
          ]
        },
        {
          "name": "stderr",
          "output_type": "stream",
          "text": [
            "e:\\e\\exe\\MNE-Python\\Lib\\site-packages\\sklearn\\metrics\\_classification.py:1565: UndefinedMetricWarning: Precision is ill-defined and being set to 0.0 due to no predicted samples. Use `zero_division` parameter to control this behavior.\n",
            "  _warn_prf(average, modifier, f\"{metric.capitalize()} is\", len(result))\n"
          ]
        },
        {
          "name": "stdout",
          "output_type": "stream",
          "text": [
            "Task: S010 Run 7: Real Left vs Real Right | Acc: 0.57 | Prec: 0.00 | Rec: 0.00 | F1: 0.00\n",
            "Task: S010 Run 11: Real Left vs Real Right | Acc: 0.43 | Prec: 0.00 | Rec: 0.00 | F1: 0.00\n",
            "Task: S011 Run 3: Real Left vs Real Right | Acc: 0.86 | Prec: 1.00 | Rec: 0.50 | F1: 0.67\n"
          ]
        },
        {
          "name": "stderr",
          "output_type": "stream",
          "text": [
            "e:\\e\\exe\\MNE-Python\\Lib\\site-packages\\sklearn\\metrics\\_classification.py:1565: UndefinedMetricWarning: Precision is ill-defined and being set to 0.0 due to no predicted samples. Use `zero_division` parameter to control this behavior.\n",
            "  _warn_prf(average, modifier, f\"{metric.capitalize()} is\", len(result))\n"
          ]
        },
        {
          "name": "stdout",
          "output_type": "stream",
          "text": [
            "Task: S011 Run 7: Real Left vs Real Right | Acc: 0.71 | Prec: 0.00 | Rec: 0.00 | F1: 0.00\n"
          ]
        },
        {
          "name": "stderr",
          "output_type": "stream",
          "text": [
            "e:\\e\\exe\\MNE-Python\\Lib\\site-packages\\sklearn\\metrics\\_classification.py:1565: UndefinedMetricWarning: Precision is ill-defined and being set to 0.0 due to no predicted samples. Use `zero_division` parameter to control this behavior.\n",
            "  _warn_prf(average, modifier, f\"{metric.capitalize()} is\", len(result))\n"
          ]
        },
        {
          "name": "stdout",
          "output_type": "stream",
          "text": [
            "Task: S011 Run 11: Real Left vs Real Right | Acc: 0.57 | Prec: 0.00 | Rec: 0.00 | F1: 0.00\n",
            "Task: S012 Run 3: Real Left vs Real Right | Acc: 0.57 | Prec: 0.50 | Rec: 0.33 | F1: 0.40\n",
            "Task: S012 Run 7: Real Left vs Real Right | Acc: 0.71 | Prec: 1.00 | Rec: 0.33 | F1: 0.50\n",
            "Task: S012 Run 11: Real Left vs Real Right | Acc: 0.71 | Prec: 1.00 | Rec: 0.33 | F1: 0.50\n"
          ]
        },
        {
          "name": "stderr",
          "output_type": "stream",
          "text": [
            "e:\\e\\exe\\MNE-Python\\Lib\\site-packages\\sklearn\\metrics\\_classification.py:1565: UndefinedMetricWarning: Precision is ill-defined and being set to 0.0 due to no predicted samples. Use `zero_division` parameter to control this behavior.\n",
            "  _warn_prf(average, modifier, f\"{metric.capitalize()} is\", len(result))\n"
          ]
        },
        {
          "name": "stdout",
          "output_type": "stream",
          "text": [
            "Task: S013 Run 3: Real Left vs Real Right | Acc: 0.57 | Prec: 0.00 | Rec: 0.00 | F1: 0.00\n",
            "Task: S013 Run 7: Real Left vs Real Right | Acc: 0.43 | Prec: 0.00 | Rec: 0.00 | F1: 0.00\n"
          ]
        },
        {
          "name": "stderr",
          "output_type": "stream",
          "text": [
            "e:\\e\\exe\\MNE-Python\\Lib\\site-packages\\sklearn\\metrics\\_classification.py:1565: UndefinedMetricWarning: Precision is ill-defined and being set to 0.0 due to no predicted samples. Use `zero_division` parameter to control this behavior.\n",
            "  _warn_prf(average, modifier, f\"{metric.capitalize()} is\", len(result))\n"
          ]
        },
        {
          "name": "stdout",
          "output_type": "stream",
          "text": [
            "Task: S013 Run 11: Real Left vs Real Right | Acc: 0.57 | Prec: 0.00 | Rec: 0.00 | F1: 0.00\n",
            "Task: S014 Run 3: Real Left vs Real Right | Acc: 0.71 | Prec: 0.50 | Rec: 0.50 | F1: 0.50\n"
          ]
        },
        {
          "name": "stderr",
          "output_type": "stream",
          "text": [
            "e:\\e\\exe\\MNE-Python\\Lib\\site-packages\\sklearn\\metrics\\_classification.py:1565: UndefinedMetricWarning: Precision is ill-defined and being set to 0.0 due to no predicted samples. Use `zero_division` parameter to control this behavior.\n",
            "  _warn_prf(average, modifier, f\"{metric.capitalize()} is\", len(result))\n"
          ]
        },
        {
          "name": "stdout",
          "output_type": "stream",
          "text": [
            "Task: S014 Run 7: Real Left vs Real Right | Acc: 0.71 | Prec: 0.00 | Rec: 0.00 | F1: 0.00\n"
          ]
        },
        {
          "name": "stderr",
          "output_type": "stream",
          "text": [
            "e:\\e\\exe\\MNE-Python\\Lib\\site-packages\\sklearn\\metrics\\_classification.py:1565: UndefinedMetricWarning: Precision is ill-defined and being set to 0.0 due to no predicted samples. Use `zero_division` parameter to control this behavior.\n",
            "  _warn_prf(average, modifier, f\"{metric.capitalize()} is\", len(result))\n"
          ]
        },
        {
          "name": "stdout",
          "output_type": "stream",
          "text": [
            "Task: S014 Run 11: Real Left vs Real Right | Acc: 0.57 | Prec: 0.00 | Rec: 0.00 | F1: 0.00\n"
          ]
        },
        {
          "name": "stderr",
          "output_type": "stream",
          "text": [
            "e:\\e\\exe\\MNE-Python\\Lib\\site-packages\\sklearn\\metrics\\_classification.py:1565: UndefinedMetricWarning: Precision is ill-defined and being set to 0.0 due to no predicted samples. Use `zero_division` parameter to control this behavior.\n",
            "  _warn_prf(average, modifier, f\"{metric.capitalize()} is\", len(result))\n"
          ]
        },
        {
          "name": "stdout",
          "output_type": "stream",
          "text": [
            "Task: S015 Run 3: Real Left vs Real Right | Acc: 0.71 | Prec: 0.00 | Rec: 0.00 | F1: 0.00\n",
            "Task: S015 Run 7: Real Left vs Real Right | Acc: 0.71 | Prec: 0.50 | Rec: 0.50 | F1: 0.50\n"
          ]
        },
        {
          "name": "stderr",
          "output_type": "stream",
          "text": [
            "e:\\e\\exe\\MNE-Python\\Lib\\site-packages\\sklearn\\metrics\\_classification.py:1565: UndefinedMetricWarning: Precision is ill-defined and being set to 0.0 due to no predicted samples. Use `zero_division` parameter to control this behavior.\n",
            "  _warn_prf(average, modifier, f\"{metric.capitalize()} is\", len(result))\n"
          ]
        },
        {
          "name": "stdout",
          "output_type": "stream",
          "text": [
            "Task: S015 Run 11: Real Left vs Real Right | Acc: 0.57 | Prec: 0.00 | Rec: 0.00 | F1: 0.00\n",
            "Task: S016 Run 3: Real Left vs Real Right | Acc: 0.43 | Prec: 0.00 | Rec: 0.00 | F1: 0.00\n"
          ]
        },
        {
          "name": "stderr",
          "output_type": "stream",
          "text": [
            "e:\\e\\exe\\MNE-Python\\Lib\\site-packages\\sklearn\\metrics\\_classification.py:1565: UndefinedMetricWarning: Precision is ill-defined and being set to 0.0 due to no predicted samples. Use `zero_division` parameter to control this behavior.\n",
            "  _warn_prf(average, modifier, f\"{metric.capitalize()} is\", len(result))\n"
          ]
        },
        {
          "name": "stdout",
          "output_type": "stream",
          "text": [
            "Task: S016 Run 7: Real Left vs Real Right | Acc: 0.71 | Prec: 0.00 | Rec: 0.00 | F1: 0.00\n",
            "Task: S016 Run 11: Real Left vs Real Right | Acc: 0.71 | Prec: 1.00 | Rec: 0.33 | F1: 0.50\n"
          ]
        },
        {
          "name": "stderr",
          "output_type": "stream",
          "text": [
            "e:\\e\\exe\\MNE-Python\\Lib\\site-packages\\sklearn\\metrics\\_classification.py:1565: UndefinedMetricWarning: Precision is ill-defined and being set to 0.0 due to no predicted samples. Use `zero_division` parameter to control this behavior.\n",
            "  _warn_prf(average, modifier, f\"{metric.capitalize()} is\", len(result))\n"
          ]
        },
        {
          "name": "stdout",
          "output_type": "stream",
          "text": [
            "Task: S017 Run 3: Real Left vs Real Right | Acc: 0.57 | Prec: 0.00 | Rec: 0.00 | F1: 0.00\n",
            "Task: S017 Run 7: Real Left vs Real Right | Acc: 0.57 | Prec: 0.50 | Rec: 0.33 | F1: 0.40\n"
          ]
        },
        {
          "name": "stderr",
          "output_type": "stream",
          "text": [
            "e:\\e\\exe\\MNE-Python\\Lib\\site-packages\\sklearn\\metrics\\_classification.py:1565: UndefinedMetricWarning: Precision is ill-defined and being set to 0.0 due to no predicted samples. Use `zero_division` parameter to control this behavior.\n",
            "  _warn_prf(average, modifier, f\"{metric.capitalize()} is\", len(result))\n"
          ]
        },
        {
          "name": "stdout",
          "output_type": "stream",
          "text": [
            "Task: S017 Run 11: Real Left vs Real Right | Acc: 0.71 | Prec: 0.00 | Rec: 0.00 | F1: 0.00\n",
            "Task: S018 Run 3: Real Left vs Real Right | Acc: 0.71 | Prec: 0.67 | Rec: 0.67 | F1: 0.67\n",
            "Task: S018 Run 7: Real Left vs Real Right | Acc: 0.86 | Prec: 1.00 | Rec: 0.50 | F1: 0.67\n"
          ]
        },
        {
          "name": "stderr",
          "output_type": "stream",
          "text": [
            "e:\\e\\exe\\MNE-Python\\Lib\\site-packages\\sklearn\\metrics\\_classification.py:1565: UndefinedMetricWarning: Precision is ill-defined and being set to 0.0 due to no predicted samples. Use `zero_division` parameter to control this behavior.\n",
            "  _warn_prf(average, modifier, f\"{metric.capitalize()} is\", len(result))\n"
          ]
        },
        {
          "name": "stdout",
          "output_type": "stream",
          "text": [
            "Task: S018 Run 11: Real Left vs Real Right | Acc: 0.71 | Prec: 0.00 | Rec: 0.00 | F1: 0.00\n"
          ]
        },
        {
          "name": "stderr",
          "output_type": "stream",
          "text": [
            "e:\\e\\exe\\MNE-Python\\Lib\\site-packages\\sklearn\\metrics\\_classification.py:1565: UndefinedMetricWarning: Precision is ill-defined and being set to 0.0 due to no predicted samples. Use `zero_division` parameter to control this behavior.\n",
            "  _warn_prf(average, modifier, f\"{metric.capitalize()} is\", len(result))\n"
          ]
        },
        {
          "name": "stdout",
          "output_type": "stream",
          "text": [
            "Task: S019 Run 3: Real Left vs Real Right | Acc: 0.57 | Prec: 0.00 | Rec: 0.00 | F1: 0.00\n"
          ]
        },
        {
          "name": "stderr",
          "output_type": "stream",
          "text": [
            "e:\\e\\exe\\MNE-Python\\Lib\\site-packages\\sklearn\\metrics\\_classification.py:1565: UndefinedMetricWarning: Precision is ill-defined and being set to 0.0 due to no predicted samples. Use `zero_division` parameter to control this behavior.\n",
            "  _warn_prf(average, modifier, f\"{metric.capitalize()} is\", len(result))\n"
          ]
        },
        {
          "name": "stdout",
          "output_type": "stream",
          "text": [
            "Task: S019 Run 7: Real Left vs Real Right | Acc: 0.57 | Prec: 0.00 | Rec: 0.00 | F1: 0.00\n"
          ]
        },
        {
          "name": "stderr",
          "output_type": "stream",
          "text": [
            "e:\\e\\exe\\MNE-Python\\Lib\\site-packages\\sklearn\\metrics\\_classification.py:1565: UndefinedMetricWarning: Precision is ill-defined and being set to 0.0 due to no predicted samples. Use `zero_division` parameter to control this behavior.\n",
            "  _warn_prf(average, modifier, f\"{metric.capitalize()} is\", len(result))\n"
          ]
        },
        {
          "name": "stdout",
          "output_type": "stream",
          "text": [
            "Task: S019 Run 11: Real Left vs Real Right | Acc: 0.57 | Prec: 0.00 | Rec: 0.00 | F1: 0.00\n",
            "Task: S020 Run 3: Real Left vs Real Right | Acc: 0.57 | Prec: 0.00 | Rec: 0.00 | F1: 0.00\n",
            "Task: S020 Run 7: Real Left vs Real Right | Acc: 0.86 | Prec: 0.67 | Rec: 1.00 | F1: 0.80\n",
            "Task: S020 Run 11: Real Left vs Real Right | Acc: 0.86 | Prec: 1.00 | Rec: 0.50 | F1: 0.67\n"
          ]
        },
        {
          "name": "stderr",
          "output_type": "stream",
          "text": [
            "e:\\e\\exe\\MNE-Python\\Lib\\site-packages\\sklearn\\metrics\\_classification.py:1565: UndefinedMetricWarning: Precision is ill-defined and being set to 0.0 due to no predicted samples. Use `zero_division` parameter to control this behavior.\n",
            "  _warn_prf(average, modifier, f\"{metric.capitalize()} is\", len(result))\n"
          ]
        },
        {
          "name": "stdout",
          "output_type": "stream",
          "text": [
            "Task: S021 Run 3: Real Left vs Real Right | Acc: 0.57 | Prec: 0.00 | Rec: 0.00 | F1: 0.00\n"
          ]
        },
        {
          "name": "stderr",
          "output_type": "stream",
          "text": [
            "e:\\e\\exe\\MNE-Python\\Lib\\site-packages\\sklearn\\metrics\\_classification.py:1565: UndefinedMetricWarning: Precision is ill-defined and being set to 0.0 due to no predicted samples. Use `zero_division` parameter to control this behavior.\n",
            "  _warn_prf(average, modifier, f\"{metric.capitalize()} is\", len(result))\n"
          ]
        },
        {
          "name": "stdout",
          "output_type": "stream",
          "text": [
            "Task: S021 Run 7: Real Left vs Real Right | Acc: 0.57 | Prec: 0.00 | Rec: 0.00 | F1: 0.00\n"
          ]
        },
        {
          "name": "stderr",
          "output_type": "stream",
          "text": [
            "e:\\e\\exe\\MNE-Python\\Lib\\site-packages\\sklearn\\metrics\\_classification.py:1565: UndefinedMetricWarning: Precision is ill-defined and being set to 0.0 due to no predicted samples. Use `zero_division` parameter to control this behavior.\n",
            "  _warn_prf(average, modifier, f\"{metric.capitalize()} is\", len(result))\n"
          ]
        },
        {
          "name": "stdout",
          "output_type": "stream",
          "text": [
            "Task: S021 Run 11: Real Left vs Real Right | Acc: 0.57 | Prec: 0.00 | Rec: 0.00 | F1: 0.00\n",
            "Task: S022 Run 3: Real Left vs Real Right | Acc: 1.00 | Prec: 1.00 | Rec: 1.00 | F1: 1.00\n",
            "Task: S022 Run 7: Real Left vs Real Right | Acc: 1.00 | Prec: 1.00 | Rec: 1.00 | F1: 1.00\n",
            "Task: S022 Run 11: Real Left vs Real Right | Acc: 1.00 | Prec: 1.00 | Rec: 1.00 | F1: 1.00\n",
            "Task: S023 Run 3: Real Left vs Real Right | Acc: 0.57 | Prec: 0.50 | Rec: 0.33 | F1: 0.40\n"
          ]
        },
        {
          "name": "stderr",
          "output_type": "stream",
          "text": [
            "e:\\e\\exe\\MNE-Python\\Lib\\site-packages\\sklearn\\metrics\\_classification.py:1565: UndefinedMetricWarning: Precision is ill-defined and being set to 0.0 due to no predicted samples. Use `zero_division` parameter to control this behavior.\n",
            "  _warn_prf(average, modifier, f\"{metric.capitalize()} is\", len(result))\n"
          ]
        },
        {
          "name": "stdout",
          "output_type": "stream",
          "text": [
            "Task: S023 Run 7: Real Left vs Real Right | Acc: 0.71 | Prec: 0.00 | Rec: 0.00 | F1: 0.00\n"
          ]
        },
        {
          "name": "stderr",
          "output_type": "stream",
          "text": [
            "e:\\e\\exe\\MNE-Python\\Lib\\site-packages\\sklearn\\metrics\\_classification.py:1565: UndefinedMetricWarning: Precision is ill-defined and being set to 0.0 due to no predicted samples. Use `zero_division` parameter to control this behavior.\n",
            "  _warn_prf(average, modifier, f\"{metric.capitalize()} is\", len(result))\n"
          ]
        },
        {
          "name": "stdout",
          "output_type": "stream",
          "text": [
            "Task: S023 Run 11: Real Left vs Real Right | Acc: 0.71 | Prec: 0.00 | Rec: 0.00 | F1: 0.00\n",
            "Task: S024 Run 3: Real Left vs Real Right | Acc: 0.86 | Prec: 1.00 | Rec: 0.50 | F1: 0.67\n"
          ]
        },
        {
          "name": "stderr",
          "output_type": "stream",
          "text": [
            "e:\\e\\exe\\MNE-Python\\Lib\\site-packages\\sklearn\\metrics\\_classification.py:1565: UndefinedMetricWarning: Precision is ill-defined and being set to 0.0 due to no predicted samples. Use `zero_division` parameter to control this behavior.\n",
            "  _warn_prf(average, modifier, f\"{metric.capitalize()} is\", len(result))\n"
          ]
        },
        {
          "name": "stdout",
          "output_type": "stream",
          "text": [
            "Task: S024 Run 7: Real Left vs Real Right | Acc: 0.57 | Prec: 0.00 | Rec: 0.00 | F1: 0.00\n",
            "Task: S024 Run 11: Real Left vs Real Right | Acc: 0.86 | Prec: 1.00 | Rec: 0.67 | F1: 0.80\n",
            "Task: S025 Run 3: Real Left vs Real Right | Acc: 0.86 | Prec: 0.67 | Rec: 1.00 | F1: 0.80\n"
          ]
        },
        {
          "name": "stderr",
          "output_type": "stream",
          "text": [
            "e:\\e\\exe\\MNE-Python\\Lib\\site-packages\\sklearn\\metrics\\_classification.py:1565: UndefinedMetricWarning: Precision is ill-defined and being set to 0.0 due to no predicted samples. Use `zero_division` parameter to control this behavior.\n",
            "  _warn_prf(average, modifier, f\"{metric.capitalize()} is\", len(result))\n"
          ]
        },
        {
          "name": "stdout",
          "output_type": "stream",
          "text": [
            "Task: S025 Run 7: Real Left vs Real Right | Acc: 0.57 | Prec: 0.00 | Rec: 0.00 | F1: 0.00\n",
            "Task: S025 Run 11: Real Left vs Real Right | Acc: 1.00 | Prec: 1.00 | Rec: 1.00 | F1: 1.00\n"
          ]
        },
        {
          "name": "stderr",
          "output_type": "stream",
          "text": [
            "e:\\e\\exe\\MNE-Python\\Lib\\site-packages\\sklearn\\metrics\\_classification.py:1565: UndefinedMetricWarning: Precision is ill-defined and being set to 0.0 due to no predicted samples. Use `zero_division` parameter to control this behavior.\n",
            "  _warn_prf(average, modifier, f\"{metric.capitalize()} is\", len(result))\n"
          ]
        },
        {
          "name": "stdout",
          "output_type": "stream",
          "text": [
            "Task: S026 Run 3: Real Left vs Real Right | Acc: 0.57 | Prec: 0.00 | Rec: 0.00 | F1: 0.00\n",
            "Task: S026 Run 7: Real Left vs Real Right | Acc: 0.86 | Prec: 0.75 | Rec: 1.00 | F1: 0.86\n"
          ]
        },
        {
          "name": "stderr",
          "output_type": "stream",
          "text": [
            "e:\\e\\exe\\MNE-Python\\Lib\\site-packages\\sklearn\\metrics\\_classification.py:1565: UndefinedMetricWarning: Precision is ill-defined and being set to 0.0 due to no predicted samples. Use `zero_division` parameter to control this behavior.\n",
            "  _warn_prf(average, modifier, f\"{metric.capitalize()} is\", len(result))\n"
          ]
        },
        {
          "name": "stdout",
          "output_type": "stream",
          "text": [
            "Task: S026 Run 11: Real Left vs Real Right | Acc: 0.71 | Prec: 0.00 | Rec: 0.00 | F1: 0.00\n",
            "Task: S027 Run 3: Real Left vs Real Right | Acc: 0.86 | Prec: 1.00 | Rec: 0.50 | F1: 0.67\n",
            "Task: S027 Run 7: Real Left vs Real Right | Acc: 0.57 | Prec: 0.50 | Rec: 0.33 | F1: 0.40\n",
            "Task: S027 Run 11: Real Left vs Real Right | Acc: 0.86 | Prec: 1.00 | Rec: 0.67 | F1: 0.80\n"
          ]
        },
        {
          "name": "stderr",
          "output_type": "stream",
          "text": [
            "e:\\e\\exe\\MNE-Python\\Lib\\site-packages\\sklearn\\metrics\\_classification.py:1565: UndefinedMetricWarning: Precision is ill-defined and being set to 0.0 due to no predicted samples. Use `zero_division` parameter to control this behavior.\n",
            "  _warn_prf(average, modifier, f\"{metric.capitalize()} is\", len(result))\n"
          ]
        },
        {
          "name": "stdout",
          "output_type": "stream",
          "text": [
            "Task: S028 Run 3: Real Left vs Real Right | Acc: 0.57 | Prec: 0.00 | Rec: 0.00 | F1: 0.00\n",
            "Task: S028 Run 7: Real Left vs Real Right | Acc: 0.71 | Prec: 1.00 | Rec: 0.33 | F1: 0.50\n",
            "Task: S028 Run 11: Real Left vs Real Right | Acc: 0.57 | Prec: 0.00 | Rec: 0.00 | F1: 0.00\n",
            "Task: S029 Run 3: Real Left vs Real Right | Acc: 0.86 | Prec: 1.00 | Rec: 0.50 | F1: 0.67\n",
            "Task: S029 Run 7: Real Left vs Real Right | Acc: 0.86 | Prec: 1.00 | Rec: 0.50 | F1: 0.67\n",
            "Task: S029 Run 11: Real Left vs Real Right | Acc: 0.86 | Prec: 0.75 | Rec: 1.00 | F1: 0.86\n"
          ]
        },
        {
          "name": "stderr",
          "output_type": "stream",
          "text": [
            "e:\\e\\exe\\MNE-Python\\Lib\\site-packages\\sklearn\\metrics\\_classification.py:1565: UndefinedMetricWarning: Precision is ill-defined and being set to 0.0 due to no predicted samples. Use `zero_division` parameter to control this behavior.\n",
            "  _warn_prf(average, modifier, f\"{metric.capitalize()} is\", len(result))\n"
          ]
        },
        {
          "name": "stdout",
          "output_type": "stream",
          "text": [
            "Task: S030 Run 3: Real Left vs Real Right | Acc: 0.71 | Prec: 0.00 | Rec: 0.00 | F1: 0.00\n"
          ]
        },
        {
          "name": "stderr",
          "output_type": "stream",
          "text": [
            "e:\\e\\exe\\MNE-Python\\Lib\\site-packages\\sklearn\\metrics\\_classification.py:1565: UndefinedMetricWarning: Precision is ill-defined and being set to 0.0 due to no predicted samples. Use `zero_division` parameter to control this behavior.\n",
            "  _warn_prf(average, modifier, f\"{metric.capitalize()} is\", len(result))\n"
          ]
        },
        {
          "name": "stdout",
          "output_type": "stream",
          "text": [
            "Task: S030 Run 7: Real Left vs Real Right | Acc: 0.57 | Prec: 0.00 | Rec: 0.00 | F1: 0.00\n"
          ]
        },
        {
          "name": "stderr",
          "output_type": "stream",
          "text": [
            "e:\\e\\exe\\MNE-Python\\Lib\\site-packages\\sklearn\\metrics\\_classification.py:1565: UndefinedMetricWarning: Precision is ill-defined and being set to 0.0 due to no predicted samples. Use `zero_division` parameter to control this behavior.\n",
            "  _warn_prf(average, modifier, f\"{metric.capitalize()} is\", len(result))\n"
          ]
        },
        {
          "name": "stdout",
          "output_type": "stream",
          "text": [
            "Task: S030 Run 11: Real Left vs Real Right | Acc: 0.71 | Prec: 0.00 | Rec: 0.00 | F1: 0.00\n",
            "Task: S031 Run 3: Real Left vs Real Right | Acc: 0.71 | Prec: 0.50 | Rec: 0.50 | F1: 0.50\n"
          ]
        },
        {
          "name": "stderr",
          "output_type": "stream",
          "text": [
            "e:\\e\\exe\\MNE-Python\\Lib\\site-packages\\sklearn\\metrics\\_classification.py:1565: UndefinedMetricWarning: Precision is ill-defined and being set to 0.0 due to no predicted samples. Use `zero_division` parameter to control this behavior.\n",
            "  _warn_prf(average, modifier, f\"{metric.capitalize()} is\", len(result))\n"
          ]
        },
        {
          "name": "stdout",
          "output_type": "stream",
          "text": [
            "Task: S031 Run 7: Real Left vs Real Right | Acc: 0.57 | Prec: 0.00 | Rec: 0.00 | F1: 0.00\n",
            "Task: S031 Run 11: Real Left vs Real Right | Acc: 0.71 | Prec: 1.00 | Rec: 0.33 | F1: 0.50\n",
            "Task: S032 Run 3: Real Left vs Real Right | Acc: 0.71 | Prec: 1.00 | Rec: 0.33 | F1: 0.50\n"
          ]
        },
        {
          "name": "stderr",
          "output_type": "stream",
          "text": [
            "e:\\e\\exe\\MNE-Python\\Lib\\site-packages\\sklearn\\metrics\\_classification.py:1565: UndefinedMetricWarning: Precision is ill-defined and being set to 0.0 due to no predicted samples. Use `zero_division` parameter to control this behavior.\n",
            "  _warn_prf(average, modifier, f\"{metric.capitalize()} is\", len(result))\n"
          ]
        },
        {
          "name": "stdout",
          "output_type": "stream",
          "text": [
            "Task: S032 Run 7: Real Left vs Real Right | Acc: 0.57 | Prec: 0.00 | Rec: 0.00 | F1: 0.00\n",
            "Task: S032 Run 11: Real Left vs Real Right | Acc: 0.86 | Prec: 0.67 | Rec: 1.00 | F1: 0.80\n",
            "Task: S033 Run 3: Real Left vs Real Right | Acc: 1.00 | Prec: 1.00 | Rec: 1.00 | F1: 1.00\n",
            "Task: S033 Run 7: Real Left vs Real Right | Acc: 0.86 | Prec: 1.00 | Rec: 0.50 | F1: 0.67\n",
            "Task: S033 Run 11: Real Left vs Real Right | Acc: 0.86 | Prec: 1.00 | Rec: 0.50 | F1: 0.67\n",
            "Task: S034 Run 3: Real Left vs Real Right | Acc: 1.00 | Prec: 1.00 | Rec: 1.00 | F1: 1.00\n",
            "Task: S034 Run 7: Real Left vs Real Right | Acc: 1.00 | Prec: 1.00 | Rec: 1.00 | F1: 1.00\n",
            "Task: S034 Run 11: Real Left vs Real Right | Acc: 0.71 | Prec: 0.50 | Rec: 1.00 | F1: 0.67\n",
            "Task: S035 Run 3: Real Left vs Real Right | Acc: 0.86 | Prec: 1.00 | Rec: 0.50 | F1: 0.67\n"
          ]
        },
        {
          "name": "stderr",
          "output_type": "stream",
          "text": [
            "e:\\e\\exe\\MNE-Python\\Lib\\site-packages\\sklearn\\metrics\\_classification.py:1565: UndefinedMetricWarning: Precision is ill-defined and being set to 0.0 due to no predicted samples. Use `zero_division` parameter to control this behavior.\n",
            "  _warn_prf(average, modifier, f\"{metric.capitalize()} is\", len(result))\n"
          ]
        },
        {
          "name": "stdout",
          "output_type": "stream",
          "text": [
            "Task: S035 Run 7: Real Left vs Real Right | Acc: 0.71 | Prec: 0.00 | Rec: 0.00 | F1: 0.00\n"
          ]
        },
        {
          "name": "stderr",
          "output_type": "stream",
          "text": [
            "e:\\e\\exe\\MNE-Python\\Lib\\site-packages\\sklearn\\metrics\\_classification.py:1565: UndefinedMetricWarning: Precision is ill-defined and being set to 0.0 due to no predicted samples. Use `zero_division` parameter to control this behavior.\n",
            "  _warn_prf(average, modifier, f\"{metric.capitalize()} is\", len(result))\n"
          ]
        },
        {
          "name": "stdout",
          "output_type": "stream",
          "text": [
            "Task: S035 Run 11: Real Left vs Real Right | Acc: 0.71 | Prec: 0.00 | Rec: 0.00 | F1: 0.00\n",
            "Task: S036 Run 3: Real Left vs Real Right | Acc: 0.71 | Prec: 1.00 | Rec: 0.33 | F1: 0.50\n"
          ]
        },
        {
          "name": "stderr",
          "output_type": "stream",
          "text": [
            "e:\\e\\exe\\MNE-Python\\Lib\\site-packages\\sklearn\\metrics\\_classification.py:1565: UndefinedMetricWarning: Precision is ill-defined and being set to 0.0 due to no predicted samples. Use `zero_division` parameter to control this behavior.\n",
            "  _warn_prf(average, modifier, f\"{metric.capitalize()} is\", len(result))\n"
          ]
        },
        {
          "name": "stdout",
          "output_type": "stream",
          "text": [
            "Task: S036 Run 7: Real Left vs Real Right | Acc: 0.71 | Prec: 0.00 | Rec: 0.00 | F1: 0.00\n",
            "Task: S036 Run 11: Real Left vs Real Right | Acc: 0.57 | Prec: 0.50 | Rec: 0.33 | F1: 0.40\n",
            "Task: S037 Run 3: Real Left vs Real Right | Acc: 0.71 | Prec: 0.50 | Rec: 0.50 | F1: 0.50\n",
            "Task: S037 Run 7: Real Left vs Real Right | Acc: 0.86 | Prec: 1.00 | Rec: 0.50 | F1: 0.67\n",
            "Task: S037 Run 11: Real Left vs Real Right | Acc: 1.00 | Prec: 1.00 | Rec: 1.00 | F1: 1.00\n",
            "Task: S038 Run 3: Real Left vs Real Right | Acc: 0.86 | Prec: 1.00 | Rec: 0.50 | F1: 0.67\n",
            "Task: S038 Run 7: Real Left vs Real Right | Acc: 0.71 | Prec: 1.00 | Rec: 0.33 | F1: 0.50\n"
          ]
        },
        {
          "name": "stderr",
          "output_type": "stream",
          "text": [
            "e:\\e\\exe\\MNE-Python\\Lib\\site-packages\\sklearn\\metrics\\_classification.py:1565: UndefinedMetricWarning: Precision is ill-defined and being set to 0.0 due to no predicted samples. Use `zero_division` parameter to control this behavior.\n",
            "  _warn_prf(average, modifier, f\"{metric.capitalize()} is\", len(result))\n"
          ]
        },
        {
          "name": "stdout",
          "output_type": "stream",
          "text": [
            "Task: S038 Run 11: Real Left vs Real Right | Acc: 0.57 | Prec: 0.00 | Rec: 0.00 | F1: 0.00\n",
            "Task: S039 Run 3: Real Left vs Real Right | Acc: 0.43 | Prec: 0.33 | Rec: 0.33 | F1: 0.33\n"
          ]
        },
        {
          "name": "stderr",
          "output_type": "stream",
          "text": [
            "e:\\e\\exe\\MNE-Python\\Lib\\site-packages\\sklearn\\metrics\\_classification.py:1565: UndefinedMetricWarning: Precision is ill-defined and being set to 0.0 due to no predicted samples. Use `zero_division` parameter to control this behavior.\n",
            "  _warn_prf(average, modifier, f\"{metric.capitalize()} is\", len(result))\n"
          ]
        },
        {
          "name": "stdout",
          "output_type": "stream",
          "text": [
            "Task: S039 Run 7: Real Left vs Real Right | Acc: 0.71 | Prec: 0.00 | Rec: 0.00 | F1: 0.00\n"
          ]
        },
        {
          "name": "stderr",
          "output_type": "stream",
          "text": [
            "e:\\e\\exe\\MNE-Python\\Lib\\site-packages\\sklearn\\metrics\\_classification.py:1565: UndefinedMetricWarning: Precision is ill-defined and being set to 0.0 due to no predicted samples. Use `zero_division` parameter to control this behavior.\n",
            "  _warn_prf(average, modifier, f\"{metric.capitalize()} is\", len(result))\n"
          ]
        },
        {
          "name": "stdout",
          "output_type": "stream",
          "text": [
            "Task: S039 Run 11: Real Left vs Real Right | Acc: 0.57 | Prec: 0.00 | Rec: 0.00 | F1: 0.00\n"
          ]
        },
        {
          "name": "stderr",
          "output_type": "stream",
          "text": [
            "e:\\e\\exe\\MNE-Python\\Lib\\site-packages\\sklearn\\metrics\\_classification.py:1565: UndefinedMetricWarning: Precision is ill-defined and being set to 0.0 due to no predicted samples. Use `zero_division` parameter to control this behavior.\n",
            "  _warn_prf(average, modifier, f\"{metric.capitalize()} is\", len(result))\n"
          ]
        },
        {
          "name": "stdout",
          "output_type": "stream",
          "text": [
            "Task: S040 Run 3: Real Left vs Real Right | Acc: 0.57 | Prec: 0.00 | Rec: 0.00 | F1: 0.00\n",
            "Task: S040 Run 7: Real Left vs Real Right | Acc: 0.43 | Prec: 0.00 | Rec: 0.00 | F1: 0.00\n"
          ]
        },
        {
          "name": "stderr",
          "output_type": "stream",
          "text": [
            "e:\\e\\exe\\MNE-Python\\Lib\\site-packages\\sklearn\\metrics\\_classification.py:1565: UndefinedMetricWarning: Precision is ill-defined and being set to 0.0 due to no predicted samples. Use `zero_division` parameter to control this behavior.\n",
            "  _warn_prf(average, modifier, f\"{metric.capitalize()} is\", len(result))\n"
          ]
        },
        {
          "name": "stdout",
          "output_type": "stream",
          "text": [
            "Task: S040 Run 11: Real Left vs Real Right | Acc: 0.71 | Prec: 0.00 | Rec: 0.00 | F1: 0.00\n",
            "Task: S041 Run 3: Real Left vs Real Right | Acc: 0.86 | Prec: 1.00 | Rec: 0.50 | F1: 0.67\n",
            "Task: S041 Run 7: Real Left vs Real Right | Acc: 1.00 | Prec: 1.00 | Rec: 1.00 | F1: 1.00\n"
          ]
        },
        {
          "name": "stderr",
          "output_type": "stream",
          "text": [
            "e:\\e\\exe\\MNE-Python\\Lib\\site-packages\\sklearn\\metrics\\_classification.py:1565: UndefinedMetricWarning: Precision is ill-defined and being set to 0.0 due to no predicted samples. Use `zero_division` parameter to control this behavior.\n",
            "  _warn_prf(average, modifier, f\"{metric.capitalize()} is\", len(result))\n"
          ]
        },
        {
          "name": "stdout",
          "output_type": "stream",
          "text": [
            "Task: S041 Run 11: Real Left vs Real Right | Acc: 0.71 | Prec: 0.00 | Rec: 0.00 | F1: 0.00\n",
            "Task: S042 Run 3: Real Left vs Real Right | Acc: 0.57 | Prec: 0.50 | Rec: 0.67 | F1: 0.57\n",
            "Task: S042 Run 7: Real Left vs Real Right | Acc: 0.86 | Prec: 1.00 | Rec: 0.50 | F1: 0.67\n"
          ]
        },
        {
          "name": "stderr",
          "output_type": "stream",
          "text": [
            "e:\\e\\exe\\MNE-Python\\Lib\\site-packages\\sklearn\\metrics\\_classification.py:1565: UndefinedMetricWarning: Precision is ill-defined and being set to 0.0 due to no predicted samples. Use `zero_division` parameter to control this behavior.\n",
            "  _warn_prf(average, modifier, f\"{metric.capitalize()} is\", len(result))\n"
          ]
        },
        {
          "name": "stdout",
          "output_type": "stream",
          "text": [
            "Task: S042 Run 11: Real Left vs Real Right | Acc: 0.71 | Prec: 0.00 | Rec: 0.00 | F1: 0.00\n",
            "Task: S043 Run 3: Real Left vs Real Right | Acc: 0.86 | Prec: 1.00 | Rec: 0.50 | F1: 0.67\n",
            "Task: S043 Run 7: Real Left vs Real Right | Acc: 1.00 | Prec: 1.00 | Rec: 1.00 | F1: 1.00\n",
            "Task: S043 Run 11: Real Left vs Real Right | Acc: 0.86 | Prec: 1.00 | Rec: 0.67 | F1: 0.80\n",
            "Task: S044 Run 3: Real Left vs Real Right | Acc: 0.71 | Prec: 1.00 | Rec: 0.33 | F1: 0.50\n"
          ]
        },
        {
          "name": "stderr",
          "output_type": "stream",
          "text": [
            "e:\\e\\exe\\MNE-Python\\Lib\\site-packages\\sklearn\\metrics\\_classification.py:1565: UndefinedMetricWarning: Precision is ill-defined and being set to 0.0 due to no predicted samples. Use `zero_division` parameter to control this behavior.\n",
            "  _warn_prf(average, modifier, f\"{metric.capitalize()} is\", len(result))\n"
          ]
        },
        {
          "name": "stdout",
          "output_type": "stream",
          "text": [
            "Task: S044 Run 7: Real Left vs Real Right | Acc: 0.57 | Prec: 0.00 | Rec: 0.00 | F1: 0.00\n"
          ]
        },
        {
          "name": "stderr",
          "output_type": "stream",
          "text": [
            "e:\\e\\exe\\MNE-Python\\Lib\\site-packages\\sklearn\\metrics\\_classification.py:1565: UndefinedMetricWarning: Precision is ill-defined and being set to 0.0 due to no predicted samples. Use `zero_division` parameter to control this behavior.\n",
            "  _warn_prf(average, modifier, f\"{metric.capitalize()} is\", len(result))\n"
          ]
        },
        {
          "name": "stdout",
          "output_type": "stream",
          "text": [
            "Task: S044 Run 11: Real Left vs Real Right | Acc: 0.71 | Prec: 0.00 | Rec: 0.00 | F1: 0.00\n"
          ]
        },
        {
          "name": "stderr",
          "output_type": "stream",
          "text": [
            "e:\\e\\exe\\MNE-Python\\Lib\\site-packages\\sklearn\\metrics\\_classification.py:1565: UndefinedMetricWarning: Precision is ill-defined and being set to 0.0 due to no predicted samples. Use `zero_division` parameter to control this behavior.\n",
            "  _warn_prf(average, modifier, f\"{metric.capitalize()} is\", len(result))\n"
          ]
        },
        {
          "name": "stdout",
          "output_type": "stream",
          "text": [
            "Task: S045 Run 3: Real Left vs Real Right | Acc: 0.71 | Prec: 0.00 | Rec: 0.00 | F1: 0.00\n"
          ]
        },
        {
          "name": "stderr",
          "output_type": "stream",
          "text": [
            "e:\\e\\exe\\MNE-Python\\Lib\\site-packages\\sklearn\\metrics\\_classification.py:1565: UndefinedMetricWarning: Precision is ill-defined and being set to 0.0 due to no predicted samples. Use `zero_division` parameter to control this behavior.\n",
            "  _warn_prf(average, modifier, f\"{metric.capitalize()} is\", len(result))\n"
          ]
        },
        {
          "name": "stdout",
          "output_type": "stream",
          "text": [
            "Task: S045 Run 7: Real Left vs Real Right | Acc: 0.57 | Prec: 0.00 | Rec: 0.00 | F1: 0.00\n",
            "Task: S045 Run 11: Real Left vs Real Right | Acc: 1.00 | Prec: 1.00 | Rec: 1.00 | F1: 1.00\n",
            "Task: S046 Run 3: Real Left vs Real Right | Acc: 0.86 | Prec: 0.67 | Rec: 1.00 | F1: 0.80\n",
            "Task: S046 Run 7: Real Left vs Real Right | Acc: 0.57 | Prec: 0.50 | Rec: 0.67 | F1: 0.57\n"
          ]
        },
        {
          "name": "stderr",
          "output_type": "stream",
          "text": [
            "e:\\e\\exe\\MNE-Python\\Lib\\site-packages\\sklearn\\metrics\\_classification.py:1565: UndefinedMetricWarning: Precision is ill-defined and being set to 0.0 due to no predicted samples. Use `zero_division` parameter to control this behavior.\n",
            "  _warn_prf(average, modifier, f\"{metric.capitalize()} is\", len(result))\n"
          ]
        },
        {
          "name": "stdout",
          "output_type": "stream",
          "text": [
            "Task: S046 Run 11: Real Left vs Real Right | Acc: 0.71 | Prec: 0.00 | Rec: 0.00 | F1: 0.00\n",
            "Task: S047 Run 3: Real Left vs Real Right | Acc: 0.29 | Prec: 0.00 | Rec: 0.00 | F1: 0.00\n"
          ]
        },
        {
          "name": "stderr",
          "output_type": "stream",
          "text": [
            "e:\\e\\exe\\MNE-Python\\Lib\\site-packages\\sklearn\\metrics\\_classification.py:1565: UndefinedMetricWarning: Precision is ill-defined and being set to 0.0 due to no predicted samples. Use `zero_division` parameter to control this behavior.\n",
            "  _warn_prf(average, modifier, f\"{metric.capitalize()} is\", len(result))\n"
          ]
        },
        {
          "name": "stdout",
          "output_type": "stream",
          "text": [
            "Task: S047 Run 7: Real Left vs Real Right | Acc: 0.57 | Prec: 0.00 | Rec: 0.00 | F1: 0.00\n",
            "Task: S047 Run 11: Real Left vs Real Right | Acc: 0.57 | Prec: 0.00 | Rec: 0.00 | F1: 0.00\n",
            "Task: S048 Run 3: Real Left vs Real Right | Acc: 1.00 | Prec: 1.00 | Rec: 1.00 | F1: 1.00\n",
            "Task: S048 Run 7: Real Left vs Real Right | Acc: 0.71 | Prec: 1.00 | Rec: 0.33 | F1: 0.50\n",
            "Task: S048 Run 11: Real Left vs Real Right | Acc: 0.71 | Prec: 0.50 | Rec: 0.50 | F1: 0.50\n",
            "Task: S049 Run 3: Real Left vs Real Right | Acc: 0.57 | Prec: 0.00 | Rec: 0.00 | F1: 0.00\n",
            "Task: S049 Run 7: Real Left vs Real Right | Acc: 0.71 | Prec: 0.50 | Rec: 1.00 | F1: 0.67\n",
            "Task: S049 Run 11: Real Left vs Real Right | Acc: 0.71 | Prec: 1.00 | Rec: 0.33 | F1: 0.50\n"
          ]
        },
        {
          "name": "stderr",
          "output_type": "stream",
          "text": [
            "e:\\e\\exe\\MNE-Python\\Lib\\site-packages\\sklearn\\metrics\\_classification.py:1565: UndefinedMetricWarning: Precision is ill-defined and being set to 0.0 due to no predicted samples. Use `zero_division` parameter to control this behavior.\n",
            "  _warn_prf(average, modifier, f\"{metric.capitalize()} is\", len(result))\n"
          ]
        },
        {
          "name": "stdout",
          "output_type": "stream",
          "text": [
            "Task: S050 Run 3: Real Left vs Real Right | Acc: 0.57 | Prec: 0.00 | Rec: 0.00 | F1: 0.00\n",
            "Task: S050 Run 7: Real Left vs Real Right | Acc: 0.71 | Prec: 1.00 | Rec: 0.33 | F1: 0.50\n"
          ]
        },
        {
          "name": "stderr",
          "output_type": "stream",
          "text": [
            "e:\\e\\exe\\MNE-Python\\Lib\\site-packages\\sklearn\\metrics\\_classification.py:1565: UndefinedMetricWarning: Precision is ill-defined and being set to 0.0 due to no predicted samples. Use `zero_division` parameter to control this behavior.\n",
            "  _warn_prf(average, modifier, f\"{metric.capitalize()} is\", len(result))\n"
          ]
        },
        {
          "name": "stdout",
          "output_type": "stream",
          "text": [
            "Task: S050 Run 11: Real Left vs Real Right | Acc: 0.57 | Prec: 0.00 | Rec: 0.00 | F1: 0.00\n"
          ]
        },
        {
          "name": "stderr",
          "output_type": "stream",
          "text": [
            "e:\\e\\exe\\MNE-Python\\Lib\\site-packages\\sklearn\\metrics\\_classification.py:1565: UndefinedMetricWarning: Precision is ill-defined and being set to 0.0 due to no predicted samples. Use `zero_division` parameter to control this behavior.\n",
            "  _warn_prf(average, modifier, f\"{metric.capitalize()} is\", len(result))\n"
          ]
        },
        {
          "name": "stdout",
          "output_type": "stream",
          "text": [
            "Task: S051 Run 3: Real Left vs Real Right | Acc: 0.71 | Prec: 0.00 | Rec: 0.00 | F1: 0.00\n",
            "Task: S051 Run 7: Real Left vs Real Right | Acc: 0.86 | Prec: 1.00 | Rec: 0.50 | F1: 0.67\n",
            "Task: S051 Run 11: Real Left vs Real Right | Acc: 0.57 | Prec: 0.33 | Rec: 0.50 | F1: 0.40\n",
            "Task: S052 Run 3: Real Left vs Real Right | Acc: 0.86 | Prec: 1.00 | Rec: 0.67 | F1: 0.80\n"
          ]
        },
        {
          "name": "stderr",
          "output_type": "stream",
          "text": [
            "e:\\e\\exe\\MNE-Python\\Lib\\site-packages\\sklearn\\metrics\\_classification.py:1565: UndefinedMetricWarning: Precision is ill-defined and being set to 0.0 due to no predicted samples. Use `zero_division` parameter to control this behavior.\n",
            "  _warn_prf(average, modifier, f\"{metric.capitalize()} is\", len(result))\n"
          ]
        },
        {
          "name": "stdout",
          "output_type": "stream",
          "text": [
            "Task: S052 Run 7: Real Left vs Real Right | Acc: 0.71 | Prec: 0.00 | Rec: 0.00 | F1: 0.00\n",
            "Task: S052 Run 11: Real Left vs Real Right | Acc: 0.86 | Prec: 0.67 | Rec: 1.00 | F1: 0.80\n",
            "Task: S053 Run 3: Real Left vs Real Right | Acc: 0.71 | Prec: 0.50 | Rec: 0.50 | F1: 0.50\n",
            "Task: S053 Run 7: Real Left vs Real Right | Acc: 0.86 | Prec: 1.00 | Rec: 0.50 | F1: 0.67\n"
          ]
        },
        {
          "name": "stderr",
          "output_type": "stream",
          "text": [
            "e:\\e\\exe\\MNE-Python\\Lib\\site-packages\\sklearn\\metrics\\_classification.py:1565: UndefinedMetricWarning: Precision is ill-defined and being set to 0.0 due to no predicted samples. Use `zero_division` parameter to control this behavior.\n",
            "  _warn_prf(average, modifier, f\"{metric.capitalize()} is\", len(result))\n"
          ]
        },
        {
          "name": "stdout",
          "output_type": "stream",
          "text": [
            "Task: S053 Run 11: Real Left vs Real Right | Acc: 0.57 | Prec: 0.00 | Rec: 0.00 | F1: 0.00\n"
          ]
        },
        {
          "name": "stderr",
          "output_type": "stream",
          "text": [
            "e:\\e\\exe\\MNE-Python\\Lib\\site-packages\\sklearn\\metrics\\_classification.py:1565: UndefinedMetricWarning: Precision is ill-defined and being set to 0.0 due to no predicted samples. Use `zero_division` parameter to control this behavior.\n",
            "  _warn_prf(average, modifier, f\"{metric.capitalize()} is\", len(result))\n"
          ]
        },
        {
          "name": "stdout",
          "output_type": "stream",
          "text": [
            "Task: S054 Run 3: Real Left vs Real Right | Acc: 0.71 | Prec: 0.00 | Rec: 0.00 | F1: 0.00\n"
          ]
        },
        {
          "name": "stderr",
          "output_type": "stream",
          "text": [
            "e:\\e\\exe\\MNE-Python\\Lib\\site-packages\\sklearn\\metrics\\_classification.py:1565: UndefinedMetricWarning: Precision is ill-defined and being set to 0.0 due to no predicted samples. Use `zero_division` parameter to control this behavior.\n",
            "  _warn_prf(average, modifier, f\"{metric.capitalize()} is\", len(result))\n"
          ]
        },
        {
          "name": "stdout",
          "output_type": "stream",
          "text": [
            "Task: S054 Run 7: Real Left vs Real Right | Acc: 0.71 | Prec: 0.00 | Rec: 0.00 | F1: 0.00\n",
            "Task: S054 Run 11: Real Left vs Real Right | Acc: 0.86 | Prec: 0.75 | Rec: 1.00 | F1: 0.86\n"
          ]
        },
        {
          "name": "stderr",
          "output_type": "stream",
          "text": [
            "e:\\e\\exe\\MNE-Python\\Lib\\site-packages\\sklearn\\metrics\\_classification.py:1565: UndefinedMetricWarning: Precision is ill-defined and being set to 0.0 due to no predicted samples. Use `zero_division` parameter to control this behavior.\n",
            "  _warn_prf(average, modifier, f\"{metric.capitalize()} is\", len(result))\n"
          ]
        },
        {
          "name": "stdout",
          "output_type": "stream",
          "text": [
            "Task: S055 Run 3: Real Left vs Real Right | Acc: 0.71 | Prec: 0.00 | Rec: 0.00 | F1: 0.00\n",
            "Task: S055 Run 7: Real Left vs Real Right | Acc: 0.71 | Prec: 1.00 | Rec: 0.33 | F1: 0.50\n",
            "Task: S055 Run 11: Real Left vs Real Right | Acc: 0.86 | Prec: 1.00 | Rec: 0.50 | F1: 0.67\n",
            "Task: S056 Run 3: Real Left vs Real Right | Acc: 0.86 | Prec: 1.00 | Rec: 0.67 | F1: 0.80\n"
          ]
        },
        {
          "name": "stderr",
          "output_type": "stream",
          "text": [
            "e:\\e\\exe\\MNE-Python\\Lib\\site-packages\\sklearn\\metrics\\_classification.py:1565: UndefinedMetricWarning: Precision is ill-defined and being set to 0.0 due to no predicted samples. Use `zero_division` parameter to control this behavior.\n",
            "  _warn_prf(average, modifier, f\"{metric.capitalize()} is\", len(result))\n"
          ]
        },
        {
          "name": "stdout",
          "output_type": "stream",
          "text": [
            "Task: S056 Run 7: Real Left vs Real Right | Acc: 0.57 | Prec: 0.00 | Rec: 0.00 | F1: 0.00\n"
          ]
        },
        {
          "name": "stderr",
          "output_type": "stream",
          "text": [
            "e:\\e\\exe\\MNE-Python\\Lib\\site-packages\\sklearn\\metrics\\_classification.py:1565: UndefinedMetricWarning: Precision is ill-defined and being set to 0.0 due to no predicted samples. Use `zero_division` parameter to control this behavior.\n",
            "  _warn_prf(average, modifier, f\"{metric.capitalize()} is\", len(result))\n"
          ]
        },
        {
          "name": "stdout",
          "output_type": "stream",
          "text": [
            "Task: S056 Run 11: Real Left vs Real Right | Acc: 0.71 | Prec: 0.00 | Rec: 0.00 | F1: 0.00\n"
          ]
        },
        {
          "name": "stderr",
          "output_type": "stream",
          "text": [
            "e:\\e\\exe\\MNE-Python\\Lib\\site-packages\\sklearn\\metrics\\_classification.py:1565: UndefinedMetricWarning: Precision is ill-defined and being set to 0.0 due to no predicted samples. Use `zero_division` parameter to control this behavior.\n",
            "  _warn_prf(average, modifier, f\"{metric.capitalize()} is\", len(result))\n"
          ]
        },
        {
          "name": "stdout",
          "output_type": "stream",
          "text": [
            "Task: S057 Run 3: Real Left vs Real Right | Acc: 0.57 | Prec: 0.00 | Rec: 0.00 | F1: 0.00\n",
            "Task: S057 Run 7: Real Left vs Real Right | Acc: 0.71 | Prec: 1.00 | Rec: 0.33 | F1: 0.50\n"
          ]
        },
        {
          "name": "stderr",
          "output_type": "stream",
          "text": [
            "e:\\e\\exe\\MNE-Python\\Lib\\site-packages\\sklearn\\metrics\\_classification.py:1565: UndefinedMetricWarning: Precision is ill-defined and being set to 0.0 due to no predicted samples. Use `zero_division` parameter to control this behavior.\n",
            "  _warn_prf(average, modifier, f\"{metric.capitalize()} is\", len(result))\n"
          ]
        },
        {
          "name": "stdout",
          "output_type": "stream",
          "text": [
            "Task: S057 Run 11: Real Left vs Real Right | Acc: 0.57 | Prec: 0.00 | Rec: 0.00 | F1: 0.00\n",
            "Task: S058 Run 3: Real Left vs Real Right | Acc: 1.00 | Prec: 1.00 | Rec: 1.00 | F1: 1.00\n",
            "Task: S058 Run 7: Real Left vs Real Right | Acc: 0.86 | Prec: 1.00 | Rec: 0.67 | F1: 0.80\n"
          ]
        },
        {
          "name": "stderr",
          "output_type": "stream",
          "text": [
            "e:\\e\\exe\\MNE-Python\\Lib\\site-packages\\sklearn\\metrics\\_classification.py:1565: UndefinedMetricWarning: Precision is ill-defined and being set to 0.0 due to no predicted samples. Use `zero_division` parameter to control this behavior.\n",
            "  _warn_prf(average, modifier, f\"{metric.capitalize()} is\", len(result))\n"
          ]
        },
        {
          "name": "stdout",
          "output_type": "stream",
          "text": [
            "Task: S058 Run 11: Real Left vs Real Right | Acc: 0.57 | Prec: 0.00 | Rec: 0.00 | F1: 0.00\n"
          ]
        },
        {
          "name": "stderr",
          "output_type": "stream",
          "text": [
            "e:\\e\\exe\\MNE-Python\\Lib\\site-packages\\sklearn\\metrics\\_classification.py:1565: UndefinedMetricWarning: Precision is ill-defined and being set to 0.0 due to no predicted samples. Use `zero_division` parameter to control this behavior.\n",
            "  _warn_prf(average, modifier, f\"{metric.capitalize()} is\", len(result))\n"
          ]
        },
        {
          "name": "stdout",
          "output_type": "stream",
          "text": [
            "Task: S059 Run 3: Real Left vs Real Right | Acc: 0.57 | Prec: 0.00 | Rec: 0.00 | F1: 0.00\n",
            "Task: S059 Run 7: Real Left vs Real Right | Acc: 0.86 | Prec: 0.67 | Rec: 1.00 | F1: 0.80\n"
          ]
        },
        {
          "name": "stderr",
          "output_type": "stream",
          "text": [
            "e:\\e\\exe\\MNE-Python\\Lib\\site-packages\\sklearn\\metrics\\_classification.py:1565: UndefinedMetricWarning: Precision is ill-defined and being set to 0.0 due to no predicted samples. Use `zero_division` parameter to control this behavior.\n",
            "  _warn_prf(average, modifier, f\"{metric.capitalize()} is\", len(result))\n"
          ]
        },
        {
          "name": "stdout",
          "output_type": "stream",
          "text": [
            "Task: S059 Run 11: Real Left vs Real Right | Acc: 0.71 | Prec: 0.00 | Rec: 0.00 | F1: 0.00\n",
            "Task: S060 Run 3: Real Left vs Real Right | Acc: 0.71 | Prec: 1.00 | Rec: 0.33 | F1: 0.50\n",
            "Task: S060 Run 7: Real Left vs Real Right | Acc: 0.86 | Prec: 1.00 | Rec: 0.50 | F1: 0.67\n"
          ]
        },
        {
          "name": "stderr",
          "output_type": "stream",
          "text": [
            "e:\\e\\exe\\MNE-Python\\Lib\\site-packages\\sklearn\\metrics\\_classification.py:1565: UndefinedMetricWarning: Precision is ill-defined and being set to 0.0 due to no predicted samples. Use `zero_division` parameter to control this behavior.\n",
            "  _warn_prf(average, modifier, f\"{metric.capitalize()} is\", len(result))\n"
          ]
        },
        {
          "name": "stdout",
          "output_type": "stream",
          "text": [
            "Task: S060 Run 11: Real Left vs Real Right | Acc: 0.57 | Prec: 0.00 | Rec: 0.00 | F1: 0.00\n"
          ]
        },
        {
          "name": "stderr",
          "output_type": "stream",
          "text": [
            "e:\\e\\exe\\MNE-Python\\Lib\\site-packages\\sklearn\\metrics\\_classification.py:1565: UndefinedMetricWarning: Precision is ill-defined and being set to 0.0 due to no predicted samples. Use `zero_division` parameter to control this behavior.\n",
            "  _warn_prf(average, modifier, f\"{metric.capitalize()} is\", len(result))\n"
          ]
        },
        {
          "name": "stdout",
          "output_type": "stream",
          "text": [
            "Task: S061 Run 3: Real Left vs Real Right | Acc: 0.57 | Prec: 0.00 | Rec: 0.00 | F1: 0.00\n"
          ]
        },
        {
          "name": "stderr",
          "output_type": "stream",
          "text": [
            "e:\\e\\exe\\MNE-Python\\Lib\\site-packages\\sklearn\\metrics\\_classification.py:1565: UndefinedMetricWarning: Precision is ill-defined and being set to 0.0 due to no predicted samples. Use `zero_division` parameter to control this behavior.\n",
            "  _warn_prf(average, modifier, f\"{metric.capitalize()} is\", len(result))\n"
          ]
        },
        {
          "name": "stdout",
          "output_type": "stream",
          "text": [
            "Task: S061 Run 7: Real Left vs Real Right | Acc: 0.57 | Prec: 0.00 | Rec: 0.00 | F1: 0.00\n"
          ]
        },
        {
          "name": "stderr",
          "output_type": "stream",
          "text": [
            "e:\\e\\exe\\MNE-Python\\Lib\\site-packages\\sklearn\\metrics\\_classification.py:1565: UndefinedMetricWarning: Precision is ill-defined and being set to 0.0 due to no predicted samples. Use `zero_division` parameter to control this behavior.\n",
            "  _warn_prf(average, modifier, f\"{metric.capitalize()} is\", len(result))\n"
          ]
        },
        {
          "name": "stdout",
          "output_type": "stream",
          "text": [
            "Task: S061 Run 11: Real Left vs Real Right | Acc: 0.57 | Prec: 0.00 | Rec: 0.00 | F1: 0.00\n",
            "Task: S062 Run 3: Real Left vs Real Right | Acc: 1.00 | Prec: 1.00 | Rec: 1.00 | F1: 1.00\n",
            "Task: S062 Run 7: Real Left vs Real Right | Acc: 1.00 | Prec: 1.00 | Rec: 1.00 | F1: 1.00\n",
            "Task: S062 Run 11: Real Left vs Real Right | Acc: 0.86 | Prec: 0.75 | Rec: 1.00 | F1: 0.86\n",
            "Task: S063 Run 3: Real Left vs Real Right | Acc: 0.57 | Prec: 0.00 | Rec: 0.00 | F1: 0.00\n"
          ]
        },
        {
          "name": "stderr",
          "output_type": "stream",
          "text": [
            "e:\\e\\exe\\MNE-Python\\Lib\\site-packages\\sklearn\\metrics\\_classification.py:1565: UndefinedMetricWarning: Precision is ill-defined and being set to 0.0 due to no predicted samples. Use `zero_division` parameter to control this behavior.\n",
            "  _warn_prf(average, modifier, f\"{metric.capitalize()} is\", len(result))\n"
          ]
        },
        {
          "name": "stdout",
          "output_type": "stream",
          "text": [
            "Task: S063 Run 7: Real Left vs Real Right | Acc: 0.57 | Prec: 0.00 | Rec: 0.00 | F1: 0.00\n"
          ]
        },
        {
          "name": "stderr",
          "output_type": "stream",
          "text": [
            "e:\\e\\exe\\MNE-Python\\Lib\\site-packages\\sklearn\\metrics\\_classification.py:1565: UndefinedMetricWarning: Precision is ill-defined and being set to 0.0 due to no predicted samples. Use `zero_division` parameter to control this behavior.\n",
            "  _warn_prf(average, modifier, f\"{metric.capitalize()} is\", len(result))\n"
          ]
        },
        {
          "name": "stdout",
          "output_type": "stream",
          "text": [
            "Task: S063 Run 11: Real Left vs Real Right | Acc: 0.71 | Prec: 0.00 | Rec: 0.00 | F1: 0.00\n"
          ]
        },
        {
          "name": "stderr",
          "output_type": "stream",
          "text": [
            "e:\\e\\exe\\MNE-Python\\Lib\\site-packages\\sklearn\\metrics\\_classification.py:1565: UndefinedMetricWarning: Precision is ill-defined and being set to 0.0 due to no predicted samples. Use `zero_division` parameter to control this behavior.\n",
            "  _warn_prf(average, modifier, f\"{metric.capitalize()} is\", len(result))\n"
          ]
        },
        {
          "name": "stdout",
          "output_type": "stream",
          "text": [
            "Task: S064 Run 3: Real Left vs Real Right | Acc: 0.71 | Prec: 0.00 | Rec: 0.00 | F1: 0.00\n",
            "Task: S064 Run 7: Real Left vs Real Right | Acc: 1.00 | Prec: 1.00 | Rec: 1.00 | F1: 1.00\n",
            "Task: S064 Run 11: Real Left vs Real Right | Acc: 0.86 | Prec: 0.67 | Rec: 1.00 | F1: 0.80\n"
          ]
        },
        {
          "name": "stderr",
          "output_type": "stream",
          "text": [
            "e:\\e\\exe\\MNE-Python\\Lib\\site-packages\\sklearn\\metrics\\_classification.py:1565: UndefinedMetricWarning: Precision is ill-defined and being set to 0.0 due to no predicted samples. Use `zero_division` parameter to control this behavior.\n",
            "  _warn_prf(average, modifier, f\"{metric.capitalize()} is\", len(result))\n"
          ]
        },
        {
          "name": "stdout",
          "output_type": "stream",
          "text": [
            "Task: S065 Run 3: Real Left vs Real Right | Acc: 0.71 | Prec: 0.00 | Rec: 0.00 | F1: 0.00\n"
          ]
        },
        {
          "name": "stderr",
          "output_type": "stream",
          "text": [
            "e:\\e\\exe\\MNE-Python\\Lib\\site-packages\\sklearn\\metrics\\_classification.py:1565: UndefinedMetricWarning: Precision is ill-defined and being set to 0.0 due to no predicted samples. Use `zero_division` parameter to control this behavior.\n",
            "  _warn_prf(average, modifier, f\"{metric.capitalize()} is\", len(result))\n"
          ]
        },
        {
          "name": "stdout",
          "output_type": "stream",
          "text": [
            "Task: S065 Run 7: Real Left vs Real Right | Acc: 0.57 | Prec: 0.00 | Rec: 0.00 | F1: 0.00\n"
          ]
        },
        {
          "name": "stderr",
          "output_type": "stream",
          "text": [
            "e:\\e\\exe\\MNE-Python\\Lib\\site-packages\\sklearn\\metrics\\_classification.py:1565: UndefinedMetricWarning: Precision is ill-defined and being set to 0.0 due to no predicted samples. Use `zero_division` parameter to control this behavior.\n",
            "  _warn_prf(average, modifier, f\"{metric.capitalize()} is\", len(result))\n"
          ]
        },
        {
          "name": "stdout",
          "output_type": "stream",
          "text": [
            "Task: S065 Run 11: Real Left vs Real Right | Acc: 0.71 | Prec: 0.00 | Rec: 0.00 | F1: 0.00\n"
          ]
        },
        {
          "name": "stderr",
          "output_type": "stream",
          "text": [
            "e:\\e\\exe\\MNE-Python\\Lib\\site-packages\\sklearn\\metrics\\_classification.py:1565: UndefinedMetricWarning: Precision is ill-defined and being set to 0.0 due to no predicted samples. Use `zero_division` parameter to control this behavior.\n",
            "  _warn_prf(average, modifier, f\"{metric.capitalize()} is\", len(result))\n"
          ]
        },
        {
          "name": "stdout",
          "output_type": "stream",
          "text": [
            "Task: S066 Run 3: Real Left vs Real Right | Acc: 0.57 | Prec: 0.00 | Rec: 0.00 | F1: 0.00\n"
          ]
        },
        {
          "name": "stderr",
          "output_type": "stream",
          "text": [
            "e:\\e\\exe\\MNE-Python\\Lib\\site-packages\\sklearn\\metrics\\_classification.py:1565: UndefinedMetricWarning: Precision is ill-defined and being set to 0.0 due to no predicted samples. Use `zero_division` parameter to control this behavior.\n",
            "  _warn_prf(average, modifier, f\"{metric.capitalize()} is\", len(result))\n"
          ]
        },
        {
          "name": "stdout",
          "output_type": "stream",
          "text": [
            "Task: S066 Run 7: Real Left vs Real Right | Acc: 0.57 | Prec: 0.00 | Rec: 0.00 | F1: 0.00\n",
            "Task: S066 Run 11: Real Left vs Real Right | Acc: 0.86 | Prec: 1.00 | Rec: 0.67 | F1: 0.80\n",
            "Task: S067 Run 3: Real Left vs Real Right | Acc: 0.71 | Prec: 1.00 | Rec: 0.33 | F1: 0.50\n"
          ]
        },
        {
          "name": "stderr",
          "output_type": "stream",
          "text": [
            "e:\\e\\exe\\MNE-Python\\Lib\\site-packages\\sklearn\\metrics\\_classification.py:1565: UndefinedMetricWarning: Precision is ill-defined and being set to 0.0 due to no predicted samples. Use `zero_division` parameter to control this behavior.\n",
            "  _warn_prf(average, modifier, f\"{metric.capitalize()} is\", len(result))\n"
          ]
        },
        {
          "name": "stdout",
          "output_type": "stream",
          "text": [
            "Task: S067 Run 7: Real Left vs Real Right | Acc: 0.71 | Prec: 0.00 | Rec: 0.00 | F1: 0.00\n"
          ]
        },
        {
          "name": "stderr",
          "output_type": "stream",
          "text": [
            "e:\\e\\exe\\MNE-Python\\Lib\\site-packages\\sklearn\\metrics\\_classification.py:1565: UndefinedMetricWarning: Precision is ill-defined and being set to 0.0 due to no predicted samples. Use `zero_division` parameter to control this behavior.\n",
            "  _warn_prf(average, modifier, f\"{metric.capitalize()} is\", len(result))\n"
          ]
        },
        {
          "name": "stdout",
          "output_type": "stream",
          "text": [
            "Task: S067 Run 11: Real Left vs Real Right | Acc: 0.71 | Prec: 0.00 | Rec: 0.00 | F1: 0.00\n"
          ]
        },
        {
          "name": "stderr",
          "output_type": "stream",
          "text": [
            "e:\\e\\exe\\MNE-Python\\Lib\\site-packages\\sklearn\\metrics\\_classification.py:1565: UndefinedMetricWarning: Precision is ill-defined and being set to 0.0 due to no predicted samples. Use `zero_division` parameter to control this behavior.\n",
            "  _warn_prf(average, modifier, f\"{metric.capitalize()} is\", len(result))\n"
          ]
        },
        {
          "name": "stdout",
          "output_type": "stream",
          "text": [
            "Task: S068 Run 3: Real Left vs Real Right | Acc: 0.71 | Prec: 0.00 | Rec: 0.00 | F1: 0.00\n",
            "Task: S068 Run 7: Real Left vs Real Right | Acc: 0.71 | Prec: 1.00 | Rec: 0.33 | F1: 0.50\n",
            "Task: S068 Run 11: Real Left vs Real Right | Acc: 0.57 | Prec: 0.50 | Rec: 0.33 | F1: 0.40\n"
          ]
        },
        {
          "name": "stderr",
          "output_type": "stream",
          "text": [
            "e:\\e\\exe\\MNE-Python\\Lib\\site-packages\\sklearn\\metrics\\_classification.py:1565: UndefinedMetricWarning: Precision is ill-defined and being set to 0.0 due to no predicted samples. Use `zero_division` parameter to control this behavior.\n",
            "  _warn_prf(average, modifier, f\"{metric.capitalize()} is\", len(result))\n"
          ]
        },
        {
          "name": "stdout",
          "output_type": "stream",
          "text": [
            "Task: S069 Run 3: Real Left vs Real Right | Acc: 0.57 | Prec: 0.00 | Rec: 0.00 | F1: 0.00\n",
            "Task: S069 Run 7: Real Left vs Real Right | Acc: 0.57 | Prec: 0.50 | Rec: 0.67 | F1: 0.57\n"
          ]
        },
        {
          "name": "stderr",
          "output_type": "stream",
          "text": [
            "e:\\e\\exe\\MNE-Python\\Lib\\site-packages\\sklearn\\metrics\\_classification.py:1565: UndefinedMetricWarning: Precision is ill-defined and being set to 0.0 due to no predicted samples. Use `zero_division` parameter to control this behavior.\n",
            "  _warn_prf(average, modifier, f\"{metric.capitalize()} is\", len(result))\n"
          ]
        },
        {
          "name": "stdout",
          "output_type": "stream",
          "text": [
            "Task: S069 Run 11: Real Left vs Real Right | Acc: 0.71 | Prec: 0.00 | Rec: 0.00 | F1: 0.00\n"
          ]
        },
        {
          "name": "stderr",
          "output_type": "stream",
          "text": [
            "e:\\e\\exe\\MNE-Python\\Lib\\site-packages\\sklearn\\metrics\\_classification.py:1565: UndefinedMetricWarning: Precision is ill-defined and being set to 0.0 due to no predicted samples. Use `zero_division` parameter to control this behavior.\n",
            "  _warn_prf(average, modifier, f\"{metric.capitalize()} is\", len(result))\n"
          ]
        },
        {
          "name": "stdout",
          "output_type": "stream",
          "text": [
            "Task: S070 Run 3: Real Left vs Real Right | Acc: 0.57 | Prec: 0.00 | Rec: 0.00 | F1: 0.00\n"
          ]
        },
        {
          "name": "stderr",
          "output_type": "stream",
          "text": [
            "e:\\e\\exe\\MNE-Python\\Lib\\site-packages\\sklearn\\metrics\\_classification.py:1565: UndefinedMetricWarning: Precision is ill-defined and being set to 0.0 due to no predicted samples. Use `zero_division` parameter to control this behavior.\n",
            "  _warn_prf(average, modifier, f\"{metric.capitalize()} is\", len(result))\n"
          ]
        },
        {
          "name": "stdout",
          "output_type": "stream",
          "text": [
            "Task: S070 Run 7: Real Left vs Real Right | Acc: 0.57 | Prec: 0.00 | Rec: 0.00 | F1: 0.00\n"
          ]
        },
        {
          "name": "stderr",
          "output_type": "stream",
          "text": [
            "e:\\e\\exe\\MNE-Python\\Lib\\site-packages\\sklearn\\metrics\\_classification.py:1565: UndefinedMetricWarning: Precision is ill-defined and being set to 0.0 due to no predicted samples. Use `zero_division` parameter to control this behavior.\n",
            "  _warn_prf(average, modifier, f\"{metric.capitalize()} is\", len(result))\n"
          ]
        },
        {
          "name": "stdout",
          "output_type": "stream",
          "text": [
            "Task: S070 Run 11: Real Left vs Real Right | Acc: 0.71 | Prec: 0.00 | Rec: 0.00 | F1: 0.00\n"
          ]
        },
        {
          "name": "stderr",
          "output_type": "stream",
          "text": [
            "e:\\e\\exe\\MNE-Python\\Lib\\site-packages\\sklearn\\metrics\\_classification.py:1565: UndefinedMetricWarning: Precision is ill-defined and being set to 0.0 due to no predicted samples. Use `zero_division` parameter to control this behavior.\n",
            "  _warn_prf(average, modifier, f\"{metric.capitalize()} is\", len(result))\n"
          ]
        },
        {
          "name": "stdout",
          "output_type": "stream",
          "text": [
            "Task: S071 Run 3: Real Left vs Real Right | Acc: 0.71 | Prec: 0.00 | Rec: 0.00 | F1: 0.00\n"
          ]
        },
        {
          "name": "stderr",
          "output_type": "stream",
          "text": [
            "e:\\e\\exe\\MNE-Python\\Lib\\site-packages\\sklearn\\metrics\\_classification.py:1565: UndefinedMetricWarning: Precision is ill-defined and being set to 0.0 due to no predicted samples. Use `zero_division` parameter to control this behavior.\n",
            "  _warn_prf(average, modifier, f\"{metric.capitalize()} is\", len(result))\n"
          ]
        },
        {
          "name": "stdout",
          "output_type": "stream",
          "text": [
            "Task: S071 Run 7: Real Left vs Real Right | Acc: 0.57 | Prec: 0.00 | Rec: 0.00 | F1: 0.00\n"
          ]
        },
        {
          "name": "stderr",
          "output_type": "stream",
          "text": [
            "e:\\e\\exe\\MNE-Python\\Lib\\site-packages\\sklearn\\metrics\\_classification.py:1565: UndefinedMetricWarning: Precision is ill-defined and being set to 0.0 due to no predicted samples. Use `zero_division` parameter to control this behavior.\n",
            "  _warn_prf(average, modifier, f\"{metric.capitalize()} is\", len(result))\n"
          ]
        },
        {
          "name": "stdout",
          "output_type": "stream",
          "text": [
            "Task: S071 Run 11: Real Left vs Real Right | Acc: 0.57 | Prec: 0.00 | Rec: 0.00 | F1: 0.00\n"
          ]
        },
        {
          "name": "stderr",
          "output_type": "stream",
          "text": [
            "e:\\e\\exe\\MNE-Python\\Lib\\site-packages\\sklearn\\metrics\\_classification.py:1565: UndefinedMetricWarning: Precision is ill-defined and being set to 0.0 due to no predicted samples. Use `zero_division` parameter to control this behavior.\n",
            "  _warn_prf(average, modifier, f\"{metric.capitalize()} is\", len(result))\n"
          ]
        },
        {
          "name": "stdout",
          "output_type": "stream",
          "text": [
            "Task: S072 Run 3: Real Left vs Real Right | Acc: 0.71 | Prec: 0.00 | Rec: 0.00 | F1: 0.00\n",
            "Task: S072 Run 7: Real Left vs Real Right | Acc: 1.00 | Prec: 1.00 | Rec: 1.00 | F1: 1.00\n",
            "Task: S072 Run 11: Real Left vs Real Right | Acc: 0.86 | Prec: 1.00 | Rec: 0.50 | F1: 0.67\n",
            "Task: S073 Run 3: Real Left vs Real Right | Acc: 1.00 | Prec: 1.00 | Rec: 1.00 | F1: 1.00\n"
          ]
        },
        {
          "name": "stderr",
          "output_type": "stream",
          "text": [
            "e:\\e\\exe\\MNE-Python\\Lib\\site-packages\\sklearn\\metrics\\_classification.py:1565: UndefinedMetricWarning: Precision is ill-defined and being set to 0.0 due to no predicted samples. Use `zero_division` parameter to control this behavior.\n",
            "  _warn_prf(average, modifier, f\"{metric.capitalize()} is\", len(result))\n"
          ]
        },
        {
          "name": "stdout",
          "output_type": "stream",
          "text": [
            "Task: S073 Run 7: Real Left vs Real Right | Acc: 0.71 | Prec: 0.00 | Rec: 0.00 | F1: 0.00\n",
            "Task: S073 Run 11: Real Left vs Real Right | Acc: 0.71 | Prec: 0.50 | Rec: 0.50 | F1: 0.50\n"
          ]
        },
        {
          "name": "stderr",
          "output_type": "stream",
          "text": [
            "e:\\e\\exe\\MNE-Python\\Lib\\site-packages\\sklearn\\metrics\\_classification.py:1565: UndefinedMetricWarning: Precision is ill-defined and being set to 0.0 due to no predicted samples. Use `zero_division` parameter to control this behavior.\n",
            "  _warn_prf(average, modifier, f\"{metric.capitalize()} is\", len(result))\n"
          ]
        },
        {
          "name": "stdout",
          "output_type": "stream",
          "text": [
            "Task: S074 Run 3: Real Left vs Real Right | Acc: 0.71 | Prec: 0.00 | Rec: 0.00 | F1: 0.00\n",
            "Task: S074 Run 7: Real Left vs Real Right | Acc: 0.86 | Prec: 1.00 | Rec: 0.50 | F1: 0.67\n",
            "Task: S074 Run 11: Real Left vs Real Right | Acc: 0.86 | Prec: 0.67 | Rec: 1.00 | F1: 0.80\n",
            "Task: S075 Run 3: Real Left vs Real Right | Acc: 0.57 | Prec: 0.00 | Rec: 0.00 | F1: 0.00\n",
            "Task: S075 Run 7: Real Left vs Real Right | Acc: 0.57 | Prec: 0.50 | Rec: 0.33 | F1: 0.40\n",
            "Task: S075 Run 11: Real Left vs Real Right | Acc: 0.86 | Prec: 0.67 | Rec: 1.00 | F1: 0.80\n",
            "Task: S076 Run 3: Real Left vs Real Right | Acc: 1.00 | Prec: 1.00 | Rec: 1.00 | F1: 1.00\n"
          ]
        },
        {
          "name": "stderr",
          "output_type": "stream",
          "text": [
            "e:\\e\\exe\\MNE-Python\\Lib\\site-packages\\sklearn\\metrics\\_classification.py:1565: UndefinedMetricWarning: Precision is ill-defined and being set to 0.0 due to no predicted samples. Use `zero_division` parameter to control this behavior.\n",
            "  _warn_prf(average, modifier, f\"{metric.capitalize()} is\", len(result))\n"
          ]
        },
        {
          "name": "stdout",
          "output_type": "stream",
          "text": [
            "Task: S076 Run 7: Real Left vs Real Right | Acc: 0.71 | Prec: 0.00 | Rec: 0.00 | F1: 0.00\n",
            "Task: S076 Run 11: Real Left vs Real Right | Acc: 0.86 | Prec: 1.00 | Rec: 0.50 | F1: 0.67\n",
            "Task: S077 Run 3: Real Left vs Real Right | Acc: 0.86 | Prec: 1.00 | Rec: 0.50 | F1: 0.67\n",
            "Task: S077 Run 7: Real Left vs Real Right | Acc: 0.86 | Prec: 1.00 | Rec: 0.50 | F1: 0.67\n"
          ]
        },
        {
          "name": "stderr",
          "output_type": "stream",
          "text": [
            "e:\\e\\exe\\MNE-Python\\Lib\\site-packages\\sklearn\\metrics\\_classification.py:1565: UndefinedMetricWarning: Precision is ill-defined and being set to 0.0 due to no predicted samples. Use `zero_division` parameter to control this behavior.\n",
            "  _warn_prf(average, modifier, f\"{metric.capitalize()} is\", len(result))\n"
          ]
        },
        {
          "name": "stdout",
          "output_type": "stream",
          "text": [
            "Task: S077 Run 11: Real Left vs Real Right | Acc: 0.71 | Prec: 0.00 | Rec: 0.00 | F1: 0.00\n"
          ]
        },
        {
          "name": "stderr",
          "output_type": "stream",
          "text": [
            "e:\\e\\exe\\MNE-Python\\Lib\\site-packages\\sklearn\\metrics\\_classification.py:1565: UndefinedMetricWarning: Precision is ill-defined and being set to 0.0 due to no predicted samples. Use `zero_division` parameter to control this behavior.\n",
            "  _warn_prf(average, modifier, f\"{metric.capitalize()} is\", len(result))\n"
          ]
        },
        {
          "name": "stdout",
          "output_type": "stream",
          "text": [
            "Task: S078 Run 3: Real Left vs Real Right | Acc: 0.71 | Prec: 0.00 | Rec: 0.00 | F1: 0.00\n"
          ]
        },
        {
          "name": "stderr",
          "output_type": "stream",
          "text": [
            "e:\\e\\exe\\MNE-Python\\Lib\\site-packages\\sklearn\\metrics\\_classification.py:1565: UndefinedMetricWarning: Precision is ill-defined and being set to 0.0 due to no predicted samples. Use `zero_division` parameter to control this behavior.\n",
            "  _warn_prf(average, modifier, f\"{metric.capitalize()} is\", len(result))\n"
          ]
        },
        {
          "name": "stdout",
          "output_type": "stream",
          "text": [
            "Task: S078 Run 7: Real Left vs Real Right | Acc: 0.71 | Prec: 0.00 | Rec: 0.00 | F1: 0.00\n"
          ]
        },
        {
          "name": "stderr",
          "output_type": "stream",
          "text": [
            "e:\\e\\exe\\MNE-Python\\Lib\\site-packages\\sklearn\\metrics\\_classification.py:1565: UndefinedMetricWarning: Precision is ill-defined and being set to 0.0 due to no predicted samples. Use `zero_division` parameter to control this behavior.\n",
            "  _warn_prf(average, modifier, f\"{metric.capitalize()} is\", len(result))\n"
          ]
        },
        {
          "name": "stdout",
          "output_type": "stream",
          "text": [
            "Task: S078 Run 11: Real Left vs Real Right | Acc: 0.57 | Prec: 0.00 | Rec: 0.00 | F1: 0.00\n"
          ]
        },
        {
          "name": "stderr",
          "output_type": "stream",
          "text": [
            "e:\\e\\exe\\MNE-Python\\Lib\\site-packages\\sklearn\\metrics\\_classification.py:1565: UndefinedMetricWarning: Precision is ill-defined and being set to 0.0 due to no predicted samples. Use `zero_division` parameter to control this behavior.\n",
            "  _warn_prf(average, modifier, f\"{metric.capitalize()} is\", len(result))\n"
          ]
        },
        {
          "name": "stdout",
          "output_type": "stream",
          "text": [
            "Task: S079 Run 3: Real Left vs Real Right | Acc: 0.57 | Prec: 0.00 | Rec: 0.00 | F1: 0.00\n"
          ]
        },
        {
          "name": "stderr",
          "output_type": "stream",
          "text": [
            "e:\\e\\exe\\MNE-Python\\Lib\\site-packages\\sklearn\\metrics\\_classification.py:1565: UndefinedMetricWarning: Precision is ill-defined and being set to 0.0 due to no predicted samples. Use `zero_division` parameter to control this behavior.\n",
            "  _warn_prf(average, modifier, f\"{metric.capitalize()} is\", len(result))\n"
          ]
        },
        {
          "name": "stdout",
          "output_type": "stream",
          "text": [
            "Task: S079 Run 7: Real Left vs Real Right | Acc: 0.71 | Prec: 0.00 | Rec: 0.00 | F1: 0.00\n"
          ]
        },
        {
          "name": "stderr",
          "output_type": "stream",
          "text": [
            "e:\\e\\exe\\MNE-Python\\Lib\\site-packages\\sklearn\\metrics\\_classification.py:1565: UndefinedMetricWarning: Precision is ill-defined and being set to 0.0 due to no predicted samples. Use `zero_division` parameter to control this behavior.\n",
            "  _warn_prf(average, modifier, f\"{metric.capitalize()} is\", len(result))\n"
          ]
        },
        {
          "name": "stdout",
          "output_type": "stream",
          "text": [
            "Task: S079 Run 11: Real Left vs Real Right | Acc: 0.57 | Prec: 0.00 | Rec: 0.00 | F1: 0.00\n",
            "Task: S080 Run 3: Real Left vs Real Right | Acc: 0.86 | Prec: 1.00 | Rec: 0.67 | F1: 0.80\n",
            "Task: S080 Run 7: Real Left vs Real Right | Acc: 0.86 | Prec: 1.00 | Rec: 0.50 | F1: 0.67\n"
          ]
        },
        {
          "name": "stderr",
          "output_type": "stream",
          "text": [
            "e:\\e\\exe\\MNE-Python\\Lib\\site-packages\\sklearn\\metrics\\_classification.py:1565: UndefinedMetricWarning: Precision is ill-defined and being set to 0.0 due to no predicted samples. Use `zero_division` parameter to control this behavior.\n",
            "  _warn_prf(average, modifier, f\"{metric.capitalize()} is\", len(result))\n"
          ]
        },
        {
          "name": "stdout",
          "output_type": "stream",
          "text": [
            "Task: S080 Run 11: Real Left vs Real Right | Acc: 0.57 | Prec: 0.00 | Rec: 0.00 | F1: 0.00\n",
            "Task: S081 Run 3: Real Left vs Real Right | Acc: 1.00 | Prec: 1.00 | Rec: 1.00 | F1: 1.00\n",
            "Task: S081 Run 7: Real Left vs Real Right | Acc: 1.00 | Prec: 1.00 | Rec: 1.00 | F1: 1.00\n",
            "Task: S081 Run 11: Real Left vs Real Right | Acc: 0.86 | Prec: 1.00 | Rec: 0.50 | F1: 0.67\n"
          ]
        },
        {
          "name": "stderr",
          "output_type": "stream",
          "text": [
            "e:\\e\\exe\\MNE-Python\\Lib\\site-packages\\sklearn\\metrics\\_classification.py:1565: UndefinedMetricWarning: Precision is ill-defined and being set to 0.0 due to no predicted samples. Use `zero_division` parameter to control this behavior.\n",
            "  _warn_prf(average, modifier, f\"{metric.capitalize()} is\", len(result))\n"
          ]
        },
        {
          "name": "stdout",
          "output_type": "stream",
          "text": [
            "Task: S082 Run 3: Real Left vs Real Right | Acc: 0.71 | Prec: 0.00 | Rec: 0.00 | F1: 0.00\n"
          ]
        },
        {
          "name": "stderr",
          "output_type": "stream",
          "text": [
            "e:\\e\\exe\\MNE-Python\\Lib\\site-packages\\sklearn\\metrics\\_classification.py:1565: UndefinedMetricWarning: Precision is ill-defined and being set to 0.0 due to no predicted samples. Use `zero_division` parameter to control this behavior.\n",
            "  _warn_prf(average, modifier, f\"{metric.capitalize()} is\", len(result))\n"
          ]
        },
        {
          "name": "stdout",
          "output_type": "stream",
          "text": [
            "Task: S082 Run 7: Real Left vs Real Right | Acc: 0.57 | Prec: 0.00 | Rec: 0.00 | F1: 0.00\n"
          ]
        },
        {
          "name": "stderr",
          "output_type": "stream",
          "text": [
            "e:\\e\\exe\\MNE-Python\\Lib\\site-packages\\sklearn\\metrics\\_classification.py:1565: UndefinedMetricWarning: Precision is ill-defined and being set to 0.0 due to no predicted samples. Use `zero_division` parameter to control this behavior.\n",
            "  _warn_prf(average, modifier, f\"{metric.capitalize()} is\", len(result))\n"
          ]
        },
        {
          "name": "stdout",
          "output_type": "stream",
          "text": [
            "Task: S082 Run 11: Real Left vs Real Right | Acc: 0.71 | Prec: 0.00 | Rec: 0.00 | F1: 0.00\n",
            "Task: S083 Run 3: Real Left vs Real Right | Acc: 1.00 | Prec: 1.00 | Rec: 1.00 | F1: 1.00\n",
            "Task: S083 Run 7: Real Left vs Real Right | Acc: 1.00 | Prec: 1.00 | Rec: 1.00 | F1: 1.00\n",
            "Task: S083 Run 11: Real Left vs Real Right | Acc: 1.00 | Prec: 1.00 | Rec: 1.00 | F1: 1.00\n"
          ]
        },
        {
          "name": "stderr",
          "output_type": "stream",
          "text": [
            "e:\\e\\exe\\MNE-Python\\Lib\\site-packages\\sklearn\\metrics\\_classification.py:1565: UndefinedMetricWarning: Precision is ill-defined and being set to 0.0 due to no predicted samples. Use `zero_division` parameter to control this behavior.\n",
            "  _warn_prf(average, modifier, f\"{metric.capitalize()} is\", len(result))\n"
          ]
        },
        {
          "name": "stdout",
          "output_type": "stream",
          "text": [
            "Task: S084 Run 3: Real Left vs Real Right | Acc: 0.57 | Prec: 0.00 | Rec: 0.00 | F1: 0.00\n",
            "Task: S084 Run 7: Real Left vs Real Right | Acc: 0.57 | Prec: 0.50 | Rec: 0.33 | F1: 0.40\n"
          ]
        },
        {
          "name": "stderr",
          "output_type": "stream",
          "text": [
            "e:\\e\\exe\\MNE-Python\\Lib\\site-packages\\sklearn\\metrics\\_classification.py:1565: UndefinedMetricWarning: Precision is ill-defined and being set to 0.0 due to no predicted samples. Use `zero_division` parameter to control this behavior.\n",
            "  _warn_prf(average, modifier, f\"{metric.capitalize()} is\", len(result))\n"
          ]
        },
        {
          "name": "stdout",
          "output_type": "stream",
          "text": [
            "Task: S084 Run 11: Real Left vs Real Right | Acc: 0.57 | Prec: 0.00 | Rec: 0.00 | F1: 0.00\n",
            "Task: S085 Run 3: Real Left vs Real Right | Acc: 0.71 | Prec: 0.50 | Rec: 0.50 | F1: 0.50\n",
            "Task: S085 Run 7: Real Left vs Real Right | Acc: 0.71 | Prec: 1.00 | Rec: 0.33 | F1: 0.50\n",
            "Task: S085 Run 11: Real Left vs Real Right | Acc: 0.57 | Prec: 0.00 | Rec: 0.00 | F1: 0.00\n",
            "Task: S086 Run 3: Real Left vs Real Right | Acc: 0.86 | Prec: 1.00 | Rec: 0.50 | F1: 0.67\n"
          ]
        },
        {
          "name": "stderr",
          "output_type": "stream",
          "text": [
            "e:\\e\\exe\\MNE-Python\\Lib\\site-packages\\sklearn\\metrics\\_classification.py:1565: UndefinedMetricWarning: Precision is ill-defined and being set to 0.0 due to no predicted samples. Use `zero_division` parameter to control this behavior.\n",
            "  _warn_prf(average, modifier, f\"{metric.capitalize()} is\", len(result))\n"
          ]
        },
        {
          "name": "stdout",
          "output_type": "stream",
          "text": [
            "Task: S086 Run 7: Real Left vs Real Right | Acc: 0.57 | Prec: 0.00 | Rec: 0.00 | F1: 0.00\n",
            "Task: S086 Run 11: Real Left vs Real Right | Acc: 0.86 | Prec: 1.00 | Rec: 0.50 | F1: 0.67\n"
          ]
        },
        {
          "name": "stderr",
          "output_type": "stream",
          "text": [
            "e:\\e\\exe\\MNE-Python\\Lib\\site-packages\\sklearn\\metrics\\_classification.py:1565: UndefinedMetricWarning: Precision is ill-defined and being set to 0.0 due to no predicted samples. Use `zero_division` parameter to control this behavior.\n",
            "  _warn_prf(average, modifier, f\"{metric.capitalize()} is\", len(result))\n"
          ]
        },
        {
          "name": "stdout",
          "output_type": "stream",
          "text": [
            "Task: S087 Run 3: Real Left vs Real Right | Acc: 0.71 | Prec: 0.00 | Rec: 0.00 | F1: 0.00\n"
          ]
        },
        {
          "name": "stderr",
          "output_type": "stream",
          "text": [
            "e:\\e\\exe\\MNE-Python\\Lib\\site-packages\\sklearn\\metrics\\_classification.py:1565: UndefinedMetricWarning: Precision is ill-defined and being set to 0.0 due to no predicted samples. Use `zero_division` parameter to control this behavior.\n",
            "  _warn_prf(average, modifier, f\"{metric.capitalize()} is\", len(result))\n"
          ]
        },
        {
          "name": "stdout",
          "output_type": "stream",
          "text": [
            "Task: S087 Run 7: Real Left vs Real Right | Acc: 0.71 | Prec: 0.00 | Rec: 0.00 | F1: 0.00\n"
          ]
        },
        {
          "name": "stderr",
          "output_type": "stream",
          "text": [
            "e:\\e\\exe\\MNE-Python\\Lib\\site-packages\\sklearn\\metrics\\_classification.py:1565: UndefinedMetricWarning: Precision is ill-defined and being set to 0.0 due to no predicted samples. Use `zero_division` parameter to control this behavior.\n",
            "  _warn_prf(average, modifier, f\"{metric.capitalize()} is\", len(result))\n"
          ]
        },
        {
          "name": "stdout",
          "output_type": "stream",
          "text": [
            "Task: S087 Run 11: Real Left vs Real Right | Acc: 0.71 | Prec: 0.00 | Rec: 0.00 | F1: 0.00\n"
          ]
        },
        {
          "name": "stderr",
          "output_type": "stream",
          "text": [
            "e:\\e\\exe\\MNE-Python\\Lib\\site-packages\\sklearn\\metrics\\_classification.py:1565: UndefinedMetricWarning: Precision is ill-defined and being set to 0.0 due to no predicted samples. Use `zero_division` parameter to control this behavior.\n",
            "  _warn_prf(average, modifier, f\"{metric.capitalize()} is\", len(result))\n"
          ]
        },
        {
          "name": "stdout",
          "output_type": "stream",
          "text": [
            "Task: S088 Run 3: Real Left vs Real Right | Acc: 0.67 | Prec: 0.00 | Rec: 0.00 | F1: 0.00\n",
            "Task: S088 Run 7: Real Left vs Real Right | Acc: 0.67 | Prec: 0.50 | Rec: 0.33 | F1: 0.40\n"
          ]
        },
        {
          "name": "stderr",
          "output_type": "stream",
          "text": [
            "e:\\e\\exe\\MNE-Python\\Lib\\site-packages\\sklearn\\metrics\\_classification.py:1565: UndefinedMetricWarning: Precision is ill-defined and being set to 0.0 due to no predicted samples. Use `zero_division` parameter to control this behavior.\n",
            "  _warn_prf(average, modifier, f\"{metric.capitalize()} is\", len(result))\n"
          ]
        },
        {
          "name": "stdout",
          "output_type": "stream",
          "text": [
            "Task: S088 Run 11: Real Left vs Real Right | Acc: 0.67 | Prec: 0.00 | Rec: 0.00 | F1: 0.00\n",
            "Task: S089 Run 3: Real Left vs Real Right | Acc: 0.80 | Prec: 1.00 | Rec: 0.33 | F1: 0.50\n",
            "Task: S089 Run 7: Real Left vs Real Right | Acc: 0.71 | Prec: 0.67 | Rec: 0.67 | F1: 0.67\n"
          ]
        },
        {
          "name": "stderr",
          "output_type": "stream",
          "text": [
            "e:\\e\\exe\\MNE-Python\\Lib\\site-packages\\sklearn\\metrics\\_classification.py:1565: UndefinedMetricWarning: Precision is ill-defined and being set to 0.0 due to no predicted samples. Use `zero_division` parameter to control this behavior.\n",
            "  _warn_prf(average, modifier, f\"{metric.capitalize()} is\", len(result))\n"
          ]
        },
        {
          "name": "stdout",
          "output_type": "stream",
          "text": [
            "Task: S089 Run 11: Real Left vs Real Right | Acc: 0.71 | Prec: 0.00 | Rec: 0.00 | F1: 0.00\n",
            "Task: S090 Run 3: Real Left vs Real Right | Acc: 0.43 | Prec: 0.25 | Rec: 0.50 | F1: 0.33\n",
            "Task: S090 Run 7: Real Left vs Real Right | Acc: 0.86 | Prec: 1.00 | Rec: 0.50 | F1: 0.67\n"
          ]
        },
        {
          "name": "stderr",
          "output_type": "stream",
          "text": [
            "e:\\e\\exe\\MNE-Python\\Lib\\site-packages\\sklearn\\metrics\\_classification.py:1565: UndefinedMetricWarning: Precision is ill-defined and being set to 0.0 due to no predicted samples. Use `zero_division` parameter to control this behavior.\n",
            "  _warn_prf(average, modifier, f\"{metric.capitalize()} is\", len(result))\n"
          ]
        },
        {
          "name": "stdout",
          "output_type": "stream",
          "text": [
            "Task: S090 Run 11: Real Left vs Real Right | Acc: 0.71 | Prec: 0.00 | Rec: 0.00 | F1: 0.00\n"
          ]
        },
        {
          "name": "stderr",
          "output_type": "stream",
          "text": [
            "e:\\e\\exe\\MNE-Python\\Lib\\site-packages\\sklearn\\metrics\\_classification.py:1565: UndefinedMetricWarning: Precision is ill-defined and being set to 0.0 due to no predicted samples. Use `zero_division` parameter to control this behavior.\n",
            "  _warn_prf(average, modifier, f\"{metric.capitalize()} is\", len(result))\n"
          ]
        },
        {
          "name": "stdout",
          "output_type": "stream",
          "text": [
            "Task: S091 Run 3: Real Left vs Real Right | Acc: 0.71 | Prec: 0.00 | Rec: 0.00 | F1: 0.00\n",
            "Task: S091 Run 7: Real Left vs Real Right | Acc: 0.86 | Prec: 1.00 | Rec: 0.50 | F1: 0.67\n",
            "Task: S091 Run 11: Real Left vs Real Right | Acc: 0.71 | Prec: 1.00 | Rec: 0.33 | F1: 0.50\n",
            "Task: S092 Run 3: Real Left vs Real Right | Acc: 0.56 | Prec: 0.33 | Rec: 0.33 | F1: 0.33\n",
            "Task: S092 Run 7: Real Left vs Real Right | Acc: 0.33 | Prec: 0.00 | Rec: 0.00 | F1: 0.00\n",
            "Task: S092 Run 11: Real Left vs Real Right | Acc: 0.78 | Prec: 1.00 | Rec: 0.33 | F1: 0.50\n"
          ]
        },
        {
          "name": "stderr",
          "output_type": "stream",
          "text": [
            "e:\\e\\exe\\MNE-Python\\Lib\\site-packages\\sklearn\\metrics\\_classification.py:1565: UndefinedMetricWarning: Precision is ill-defined and being set to 0.0 due to no predicted samples. Use `zero_division` parameter to control this behavior.\n",
            "  _warn_prf(average, modifier, f\"{metric.capitalize()} is\", len(result))\n"
          ]
        },
        {
          "name": "stdout",
          "output_type": "stream",
          "text": [
            "Task: S093 Run 3: Real Left vs Real Right | Acc: 0.57 | Prec: 0.00 | Rec: 0.00 | F1: 0.00\n",
            "Task: S093 Run 7: Real Left vs Real Right | Acc: 0.71 | Prec: 1.00 | Rec: 0.33 | F1: 0.50\n"
          ]
        },
        {
          "name": "stderr",
          "output_type": "stream",
          "text": [
            "e:\\e\\exe\\MNE-Python\\Lib\\site-packages\\sklearn\\metrics\\_classification.py:1565: UndefinedMetricWarning: Precision is ill-defined and being set to 0.0 due to no predicted samples. Use `zero_division` parameter to control this behavior.\n",
            "  _warn_prf(average, modifier, f\"{metric.capitalize()} is\", len(result))\n"
          ]
        },
        {
          "name": "stdout",
          "output_type": "stream",
          "text": [
            "Task: S093 Run 11: Real Left vs Real Right | Acc: 0.71 | Prec: 0.00 | Rec: 0.00 | F1: 0.00\n",
            "Task: S094 Run 3: Real Left vs Real Right | Acc: 1.00 | Prec: 1.00 | Rec: 1.00 | F1: 1.00\n",
            "Task: S094 Run 7: Real Left vs Real Right | Acc: 1.00 | Prec: 1.00 | Rec: 1.00 | F1: 1.00\n",
            "Task: S094 Run 11: Real Left vs Real Right | Acc: 0.86 | Prec: 0.67 | Rec: 1.00 | F1: 0.80\n"
          ]
        },
        {
          "name": "stderr",
          "output_type": "stream",
          "text": [
            "e:\\e\\exe\\MNE-Python\\Lib\\site-packages\\sklearn\\metrics\\_classification.py:1565: UndefinedMetricWarning: Precision is ill-defined and being set to 0.0 due to no predicted samples. Use `zero_division` parameter to control this behavior.\n",
            "  _warn_prf(average, modifier, f\"{metric.capitalize()} is\", len(result))\n"
          ]
        },
        {
          "name": "stdout",
          "output_type": "stream",
          "text": [
            "Task: S095 Run 3: Real Left vs Real Right | Acc: 0.57 | Prec: 0.00 | Rec: 0.00 | F1: 0.00\n"
          ]
        },
        {
          "name": "stderr",
          "output_type": "stream",
          "text": [
            "e:\\e\\exe\\MNE-Python\\Lib\\site-packages\\sklearn\\metrics\\_classification.py:1565: UndefinedMetricWarning: Precision is ill-defined and being set to 0.0 due to no predicted samples. Use `zero_division` parameter to control this behavior.\n",
            "  _warn_prf(average, modifier, f\"{metric.capitalize()} is\", len(result))\n"
          ]
        },
        {
          "name": "stdout",
          "output_type": "stream",
          "text": [
            "Task: S095 Run 7: Real Left vs Real Right | Acc: 0.71 | Prec: 0.00 | Rec: 0.00 | F1: 0.00\n"
          ]
        },
        {
          "name": "stderr",
          "output_type": "stream",
          "text": [
            "e:\\e\\exe\\MNE-Python\\Lib\\site-packages\\sklearn\\metrics\\_classification.py:1565: UndefinedMetricWarning: Precision is ill-defined and being set to 0.0 due to no predicted samples. Use `zero_division` parameter to control this behavior.\n",
            "  _warn_prf(average, modifier, f\"{metric.capitalize()} is\", len(result))\n"
          ]
        },
        {
          "name": "stdout",
          "output_type": "stream",
          "text": [
            "Task: S095 Run 11: Real Left vs Real Right | Acc: 0.71 | Prec: 0.00 | Rec: 0.00 | F1: 0.00\n"
          ]
        },
        {
          "name": "stderr",
          "output_type": "stream",
          "text": [
            "e:\\e\\exe\\MNE-Python\\Lib\\site-packages\\sklearn\\metrics\\_classification.py:1565: UndefinedMetricWarning: Precision is ill-defined and being set to 0.0 due to no predicted samples. Use `zero_division` parameter to control this behavior.\n",
            "  _warn_prf(average, modifier, f\"{metric.capitalize()} is\", len(result))\n"
          ]
        },
        {
          "name": "stdout",
          "output_type": "stream",
          "text": [
            "Task: S096 Run 3: Real Left vs Real Right | Acc: 0.71 | Prec: 0.00 | Rec: 0.00 | F1: 0.00\n"
          ]
        },
        {
          "name": "stderr",
          "output_type": "stream",
          "text": [
            "e:\\e\\exe\\MNE-Python\\Lib\\site-packages\\sklearn\\metrics\\_classification.py:1565: UndefinedMetricWarning: Precision is ill-defined and being set to 0.0 due to no predicted samples. Use `zero_division` parameter to control this behavior.\n",
            "  _warn_prf(average, modifier, f\"{metric.capitalize()} is\", len(result))\n"
          ]
        },
        {
          "name": "stdout",
          "output_type": "stream",
          "text": [
            "Task: S096 Run 7: Real Left vs Real Right | Acc: 0.71 | Prec: 0.00 | Rec: 0.00 | F1: 0.00\n"
          ]
        },
        {
          "name": "stderr",
          "output_type": "stream",
          "text": [
            "e:\\e\\exe\\MNE-Python\\Lib\\site-packages\\sklearn\\metrics\\_classification.py:1565: UndefinedMetricWarning: Precision is ill-defined and being set to 0.0 due to no predicted samples. Use `zero_division` parameter to control this behavior.\n",
            "  _warn_prf(average, modifier, f\"{metric.capitalize()} is\", len(result))\n"
          ]
        },
        {
          "name": "stdout",
          "output_type": "stream",
          "text": [
            "Task: S096 Run 11: Real Left vs Real Right | Acc: 0.57 | Prec: 0.00 | Rec: 0.00 | F1: 0.00\n"
          ]
        },
        {
          "name": "stderr",
          "output_type": "stream",
          "text": [
            "e:\\e\\exe\\MNE-Python\\Lib\\site-packages\\sklearn\\metrics\\_classification.py:1565: UndefinedMetricWarning: Precision is ill-defined and being set to 0.0 due to no predicted samples. Use `zero_division` parameter to control this behavior.\n",
            "  _warn_prf(average, modifier, f\"{metric.capitalize()} is\", len(result))\n"
          ]
        },
        {
          "name": "stdout",
          "output_type": "stream",
          "text": [
            "Task: S097 Run 3: Real Left vs Real Right | Acc: 0.71 | Prec: 0.00 | Rec: 0.00 | F1: 0.00\n"
          ]
        },
        {
          "name": "stderr",
          "output_type": "stream",
          "text": [
            "e:\\e\\exe\\MNE-Python\\Lib\\site-packages\\sklearn\\metrics\\_classification.py:1565: UndefinedMetricWarning: Precision is ill-defined and being set to 0.0 due to no predicted samples. Use `zero_division` parameter to control this behavior.\n",
            "  _warn_prf(average, modifier, f\"{metric.capitalize()} is\", len(result))\n"
          ]
        },
        {
          "name": "stdout",
          "output_type": "stream",
          "text": [
            "Task: S097 Run 7: Real Left vs Real Right | Acc: 0.57 | Prec: 0.00 | Rec: 0.00 | F1: 0.00\n"
          ]
        },
        {
          "name": "stderr",
          "output_type": "stream",
          "text": [
            "e:\\e\\exe\\MNE-Python\\Lib\\site-packages\\sklearn\\metrics\\_classification.py:1565: UndefinedMetricWarning: Precision is ill-defined and being set to 0.0 due to no predicted samples. Use `zero_division` parameter to control this behavior.\n",
            "  _warn_prf(average, modifier, f\"{metric.capitalize()} is\", len(result))\n"
          ]
        },
        {
          "name": "stdout",
          "output_type": "stream",
          "text": [
            "Task: S097 Run 11: Real Left vs Real Right | Acc: 0.71 | Prec: 0.00 | Rec: 0.00 | F1: 0.00\n",
            "Task: S098 Run 3: Real Left vs Real Right | Acc: 1.00 | Prec: 1.00 | Rec: 1.00 | F1: 1.00\n"
          ]
        },
        {
          "name": "stderr",
          "output_type": "stream",
          "text": [
            "e:\\e\\exe\\MNE-Python\\Lib\\site-packages\\sklearn\\metrics\\_classification.py:1565: UndefinedMetricWarning: Precision is ill-defined and being set to 0.0 due to no predicted samples. Use `zero_division` parameter to control this behavior.\n",
            "  _warn_prf(average, modifier, f\"{metric.capitalize()} is\", len(result))\n"
          ]
        },
        {
          "name": "stdout",
          "output_type": "stream",
          "text": [
            "Task: S098 Run 7: Real Left vs Real Right | Acc: 0.71 | Prec: 0.00 | Rec: 0.00 | F1: 0.00\n"
          ]
        },
        {
          "name": "stderr",
          "output_type": "stream",
          "text": [
            "e:\\e\\exe\\MNE-Python\\Lib\\site-packages\\sklearn\\metrics\\_classification.py:1565: UndefinedMetricWarning: Precision is ill-defined and being set to 0.0 due to no predicted samples. Use `zero_division` parameter to control this behavior.\n",
            "  _warn_prf(average, modifier, f\"{metric.capitalize()} is\", len(result))\n"
          ]
        },
        {
          "name": "stdout",
          "output_type": "stream",
          "text": [
            "Task: S098 Run 11: Real Left vs Real Right | Acc: 0.57 | Prec: 0.00 | Rec: 0.00 | F1: 0.00\n"
          ]
        },
        {
          "name": "stderr",
          "output_type": "stream",
          "text": [
            "e:\\e\\exe\\MNE-Python\\Lib\\site-packages\\sklearn\\metrics\\_classification.py:1565: UndefinedMetricWarning: Precision is ill-defined and being set to 0.0 due to no predicted samples. Use `zero_division` parameter to control this behavior.\n",
            "  _warn_prf(average, modifier, f\"{metric.capitalize()} is\", len(result))\n"
          ]
        },
        {
          "name": "stdout",
          "output_type": "stream",
          "text": [
            "Task: S099 Run 3: Real Left vs Real Right | Acc: 0.57 | Prec: 0.00 | Rec: 0.00 | F1: 0.00\n"
          ]
        },
        {
          "name": "stderr",
          "output_type": "stream",
          "text": [
            "e:\\e\\exe\\MNE-Python\\Lib\\site-packages\\sklearn\\metrics\\_classification.py:1565: UndefinedMetricWarning: Precision is ill-defined and being set to 0.0 due to no predicted samples. Use `zero_division` parameter to control this behavior.\n",
            "  _warn_prf(average, modifier, f\"{metric.capitalize()} is\", len(result))\n"
          ]
        },
        {
          "name": "stdout",
          "output_type": "stream",
          "text": [
            "Task: S099 Run 7: Real Left vs Real Right | Acc: 0.57 | Prec: 0.00 | Rec: 0.00 | F1: 0.00\n"
          ]
        },
        {
          "name": "stderr",
          "output_type": "stream",
          "text": [
            "e:\\e\\exe\\MNE-Python\\Lib\\site-packages\\sklearn\\metrics\\_classification.py:1565: UndefinedMetricWarning: Precision is ill-defined and being set to 0.0 due to no predicted samples. Use `zero_division` parameter to control this behavior.\n",
            "  _warn_prf(average, modifier, f\"{metric.capitalize()} is\", len(result))\n"
          ]
        },
        {
          "name": "stdout",
          "output_type": "stream",
          "text": [
            "Task: S099 Run 11: Real Left vs Real Right | Acc: 0.71 | Prec: 0.00 | Rec: 0.00 | F1: 0.00\n"
          ]
        },
        {
          "name": "stderr",
          "output_type": "stream",
          "text": [
            "e:\\e\\exe\\MNE-Python\\Lib\\site-packages\\sklearn\\metrics\\_classification.py:1565: UndefinedMetricWarning: Precision is ill-defined and being set to 0.0 due to no predicted samples. Use `zero_division` parameter to control this behavior.\n",
            "  _warn_prf(average, modifier, f\"{metric.capitalize()} is\", len(result))\n"
          ]
        },
        {
          "name": "stdout",
          "output_type": "stream",
          "text": [
            "Task: S100 Run 3: Real Left vs Real Right | Acc: 0.67 | Prec: 0.00 | Rec: 0.00 | F1: 0.00\n",
            "Task: S100 Run 7: Real Left vs Real Right | Acc: 0.67 | Prec: 0.50 | Rec: 0.50 | F1: 0.50\n",
            "Task: S100 Run 11: Real Left vs Real Right | Acc: 0.83 | Prec: 1.00 | Rec: 0.50 | F1: 0.67\n"
          ]
        },
        {
          "name": "stderr",
          "output_type": "stream",
          "text": [
            "e:\\e\\exe\\MNE-Python\\Lib\\site-packages\\sklearn\\metrics\\_classification.py:1565: UndefinedMetricWarning: Precision is ill-defined and being set to 0.0 due to no predicted samples. Use `zero_division` parameter to control this behavior.\n",
            "  _warn_prf(average, modifier, f\"{metric.capitalize()} is\", len(result))\n"
          ]
        },
        {
          "name": "stdout",
          "output_type": "stream",
          "text": [
            "Task: S101 Run 3: Real Left vs Real Right | Acc: 0.57 | Prec: 0.00 | Rec: 0.00 | F1: 0.00\n"
          ]
        },
        {
          "name": "stderr",
          "output_type": "stream",
          "text": [
            "e:\\e\\exe\\MNE-Python\\Lib\\site-packages\\sklearn\\metrics\\_classification.py:1565: UndefinedMetricWarning: Precision is ill-defined and being set to 0.0 due to no predicted samples. Use `zero_division` parameter to control this behavior.\n",
            "  _warn_prf(average, modifier, f\"{metric.capitalize()} is\", len(result))\n"
          ]
        },
        {
          "name": "stdout",
          "output_type": "stream",
          "text": [
            "Task: S101 Run 7: Real Left vs Real Right | Acc: 0.71 | Prec: 0.00 | Rec: 0.00 | F1: 0.00\n"
          ]
        },
        {
          "name": "stderr",
          "output_type": "stream",
          "text": [
            "e:\\e\\exe\\MNE-Python\\Lib\\site-packages\\sklearn\\metrics\\_classification.py:1565: UndefinedMetricWarning: Precision is ill-defined and being set to 0.0 due to no predicted samples. Use `zero_division` parameter to control this behavior.\n",
            "  _warn_prf(average, modifier, f\"{metric.capitalize()} is\", len(result))\n"
          ]
        },
        {
          "name": "stdout",
          "output_type": "stream",
          "text": [
            "Task: S101 Run 11: Real Left vs Real Right | Acc: 0.57 | Prec: 0.00 | Rec: 0.00 | F1: 0.00\n",
            "Task: S102 Run 3: Real Left vs Real Right | Acc: 0.57 | Prec: 0.00 | Rec: 0.00 | F1: 0.00\n"
          ]
        },
        {
          "name": "stderr",
          "output_type": "stream",
          "text": [
            "e:\\e\\exe\\MNE-Python\\Lib\\site-packages\\sklearn\\metrics\\_classification.py:1565: UndefinedMetricWarning: Precision is ill-defined and being set to 0.0 due to no predicted samples. Use `zero_division` parameter to control this behavior.\n",
            "  _warn_prf(average, modifier, f\"{metric.capitalize()} is\", len(result))\n"
          ]
        },
        {
          "name": "stdout",
          "output_type": "stream",
          "text": [
            "Task: S102 Run 7: Real Left vs Real Right | Acc: 0.71 | Prec: 0.00 | Rec: 0.00 | F1: 0.00\n",
            "Task: S102 Run 11: Real Left vs Real Right | Acc: 0.86 | Prec: 1.00 | Rec: 0.50 | F1: 0.67\n",
            "Task: S103 Run 3: Real Left vs Real Right | Acc: 0.71 | Prec: 1.00 | Rec: 0.33 | F1: 0.50\n",
            "Task: S103 Run 7: Real Left vs Real Right | Acc: 0.71 | Prec: 1.00 | Rec: 0.33 | F1: 0.50\n"
          ]
        },
        {
          "name": "stderr",
          "output_type": "stream",
          "text": [
            "e:\\e\\exe\\MNE-Python\\Lib\\site-packages\\sklearn\\metrics\\_classification.py:1565: UndefinedMetricWarning: Precision is ill-defined and being set to 0.0 due to no predicted samples. Use `zero_division` parameter to control this behavior.\n",
            "  _warn_prf(average, modifier, f\"{metric.capitalize()} is\", len(result))\n"
          ]
        },
        {
          "name": "stdout",
          "output_type": "stream",
          "text": [
            "Task: S103 Run 11: Real Left vs Real Right | Acc: 0.71 | Prec: 0.00 | Rec: 0.00 | F1: 0.00\n",
            "Task: S104 Run 3: Real Left vs Real Right | Acc: 0.71 | Prec: 0.50 | Rec: 0.50 | F1: 0.50\n",
            "Task: S104 Run 7: Real Left vs Real Right | Acc: 0.86 | Prec: 1.00 | Rec: 0.67 | F1: 0.80\n"
          ]
        },
        {
          "name": "stderr",
          "output_type": "stream",
          "text": [
            "e:\\e\\exe\\MNE-Python\\Lib\\site-packages\\sklearn\\metrics\\_classification.py:1565: UndefinedMetricWarning: Precision is ill-defined and being set to 0.0 due to no predicted samples. Use `zero_division` parameter to control this behavior.\n",
            "  _warn_prf(average, modifier, f\"{metric.capitalize()} is\", len(result))\n"
          ]
        },
        {
          "name": "stdout",
          "output_type": "stream",
          "text": [
            "Task: S104 Run 11: Real Left vs Real Right | Acc: 0.57 | Prec: 0.00 | Rec: 0.00 | F1: 0.00\n"
          ]
        },
        {
          "name": "stderr",
          "output_type": "stream",
          "text": [
            "e:\\e\\exe\\MNE-Python\\Lib\\site-packages\\sklearn\\metrics\\_classification.py:1565: UndefinedMetricWarning: Precision is ill-defined and being set to 0.0 due to no predicted samples. Use `zero_division` parameter to control this behavior.\n",
            "  _warn_prf(average, modifier, f\"{metric.capitalize()} is\", len(result))\n"
          ]
        },
        {
          "name": "stdout",
          "output_type": "stream",
          "text": [
            "Task: S105 Run 3: Real Left vs Real Right | Acc: 0.71 | Prec: 0.00 | Rec: 0.00 | F1: 0.00\n"
          ]
        },
        {
          "name": "stderr",
          "output_type": "stream",
          "text": [
            "e:\\e\\exe\\MNE-Python\\Lib\\site-packages\\sklearn\\metrics\\_classification.py:1565: UndefinedMetricWarning: Precision is ill-defined and being set to 0.0 due to no predicted samples. Use `zero_division` parameter to control this behavior.\n",
            "  _warn_prf(average, modifier, f\"{metric.capitalize()} is\", len(result))\n"
          ]
        },
        {
          "name": "stdout",
          "output_type": "stream",
          "text": [
            "Task: S105 Run 7: Real Left vs Real Right | Acc: 0.71 | Prec: 0.00 | Rec: 0.00 | F1: 0.00\n",
            "Task: S105 Run 11: Real Left vs Real Right | Acc: 0.43 | Prec: 0.00 | Rec: 0.00 | F1: 0.00\n",
            "Task: S106 Run 3: Real Left vs Real Right | Acc: 0.57 | Prec: 0.00 | Rec: 0.00 | F1: 0.00\n"
          ]
        },
        {
          "name": "stderr",
          "output_type": "stream",
          "text": [
            "e:\\e\\exe\\MNE-Python\\Lib\\site-packages\\sklearn\\metrics\\_classification.py:1565: UndefinedMetricWarning: Precision is ill-defined and being set to 0.0 due to no predicted samples. Use `zero_division` parameter to control this behavior.\n",
            "  _warn_prf(average, modifier, f\"{metric.capitalize()} is\", len(result))\n"
          ]
        },
        {
          "name": "stdout",
          "output_type": "stream",
          "text": [
            "Task: S106 Run 7: Real Left vs Real Right | Acc: 0.57 | Prec: 0.00 | Rec: 0.00 | F1: 0.00\n"
          ]
        },
        {
          "name": "stderr",
          "output_type": "stream",
          "text": [
            "e:\\e\\exe\\MNE-Python\\Lib\\site-packages\\sklearn\\metrics\\_classification.py:1565: UndefinedMetricWarning: Precision is ill-defined and being set to 0.0 due to no predicted samples. Use `zero_division` parameter to control this behavior.\n",
            "  _warn_prf(average, modifier, f\"{metric.capitalize()} is\", len(result))\n"
          ]
        },
        {
          "name": "stdout",
          "output_type": "stream",
          "text": [
            "Task: S106 Run 11: Real Left vs Real Right | Acc: 0.71 | Prec: 0.00 | Rec: 0.00 | F1: 0.00\n"
          ]
        },
        {
          "name": "stderr",
          "output_type": "stream",
          "text": [
            "e:\\e\\exe\\MNE-Python\\Lib\\site-packages\\sklearn\\metrics\\_classification.py:1565: UndefinedMetricWarning: Precision is ill-defined and being set to 0.0 due to no predicted samples. Use `zero_division` parameter to control this behavior.\n",
            "  _warn_prf(average, modifier, f\"{metric.capitalize()} is\", len(result))\n"
          ]
        },
        {
          "name": "stdout",
          "output_type": "stream",
          "text": [
            "Task: S107 Run 3: Real Left vs Real Right | Acc: 0.57 | Prec: 0.00 | Rec: 0.00 | F1: 0.00\n",
            "Task: S107 Run 7: Real Left vs Real Right | Acc: 0.86 | Prec: 1.00 | Rec: 0.50 | F1: 0.67\n"
          ]
        },
        {
          "name": "stderr",
          "output_type": "stream",
          "text": [
            "e:\\e\\exe\\MNE-Python\\Lib\\site-packages\\sklearn\\metrics\\_classification.py:1565: UndefinedMetricWarning: Precision is ill-defined and being set to 0.0 due to no predicted samples. Use `zero_division` parameter to control this behavior.\n",
            "  _warn_prf(average, modifier, f\"{metric.capitalize()} is\", len(result))\n"
          ]
        },
        {
          "name": "stdout",
          "output_type": "stream",
          "text": [
            "Task: S107 Run 11: Real Left vs Real Right | Acc: 0.57 | Prec: 0.00 | Rec: 0.00 | F1: 0.00\n",
            "Task: S108 Run 3: Real Left vs Real Right | Acc: 0.86 | Prec: 1.00 | Rec: 0.50 | F1: 0.67\n",
            "Task: S108 Run 7: Real Left vs Real Right | Acc: 0.86 | Prec: 1.00 | Rec: 0.50 | F1: 0.67\n"
          ]
        },
        {
          "name": "stderr",
          "output_type": "stream",
          "text": [
            "e:\\e\\exe\\MNE-Python\\Lib\\site-packages\\sklearn\\metrics\\_classification.py:1565: UndefinedMetricWarning: Precision is ill-defined and being set to 0.0 due to no predicted samples. Use `zero_division` parameter to control this behavior.\n",
            "  _warn_prf(average, modifier, f\"{metric.capitalize()} is\", len(result))\n"
          ]
        },
        {
          "name": "stdout",
          "output_type": "stream",
          "text": [
            "Task: S108 Run 11: Real Left vs Real Right | Acc: 0.71 | Prec: 0.00 | Rec: 0.00 | F1: 0.00\n",
            "Task: S109 Run 3: Real Left vs Real Right | Acc: 0.43 | Prec: 0.00 | Rec: 0.00 | F1: 0.00\n",
            "Task: S109 Run 7: Real Left vs Real Right | Acc: 0.86 | Prec: 1.00 | Rec: 0.50 | F1: 0.67\n"
          ]
        },
        {
          "name": "stderr",
          "output_type": "stream",
          "text": [
            "e:\\e\\exe\\MNE-Python\\Lib\\site-packages\\sklearn\\metrics\\_classification.py:1565: UndefinedMetricWarning: Precision is ill-defined and being set to 0.0 due to no predicted samples. Use `zero_division` parameter to control this behavior.\n",
            "  _warn_prf(average, modifier, f\"{metric.capitalize()} is\", len(result))\n"
          ]
        },
        {
          "name": "stdout",
          "output_type": "stream",
          "text": [
            "Task: S109 Run 11: Real Left vs Real Right | Acc: 0.57 | Prec: 0.00 | Rec: 0.00 | F1: 0.00\n"
          ]
        }
      ],
      "source": [
        "run_results = []\n",
        "\n",
        "task_definitions = [\n",
        "    (\"Real Left vs Real Right\", ['real_left_fist', 'real_right_fist']),\n",
        "    (\"Imagined Left vs Real Left\", ['imagined_left_fist', 'real_left_fist']),\n",
        "    (\"Real Right vs Imagined Right\", ['real_right_fist', 'imagined_right_fist']),\n",
        "    (\"Imagined Left vs Imagined Right\", ['imagined_left_fist', 'imagined_right_fist'])\n",
        "]\n",
        "\n",
        "for fname in sorted(os.listdir(features_dir)):\n",
        "    if not fname.endswith('_features.npy'):\n",
        "        continue\n",
        "\n",
        "    base_name = fname.replace('_features.npy', '')\n",
        "    subj_run_match = re.match(r\"(S\\d{3})R(\\d{2})\", base_name)\n",
        "    if not subj_run_match:\n",
        "        continue\n",
        "\n",
        "    subj_id, run_str = subj_run_match.groups()\n",
        "    run_num = int(run_str)\n",
        "    class_map = get_class_ids_from_run(run_num)\n",
        "    if class_map is None:\n",
        "        continue\n",
        "\n",
        "    feat_path = os.path.join(features_dir, f\"{base_name}_features.npy\")\n",
        "    label_path = os.path.join(labels_dir, f\"{base_name}_labels.npy\")\n",
        "    if not os.path.exists(label_path):\n",
        "        continue\n",
        "\n",
        "    X = np.load(feat_path)\n",
        "    y = np.load(label_path)\n",
        "\n",
        "    for task_name, class_keys in task_definitions:\n",
        "        if all(k in class_map for k in class_keys):\n",
        "            ids = [global_class_map[k] for k in class_keys]\n",
        "            task_mask = np.isin(y, ids)\n",
        "            X_task = X[task_mask]\n",
        "            y_task = y[task_mask]\n",
        "            if len(np.unique(y_task)) != 2:\n",
        "                continue\n",
        "            y_task_bin = (y_task == ids[1]).astype(int)\n",
        "            evaluate_model(\n",
        "                X_task, y_task_bin,\n",
        "                f\"{subj_id} Run {run_num}: {task_name}\",\n",
        "                save_dir=save_plot_dir,\n",
        "                prefix=f\"{subj_id}_R{run_num}_{task_name.replace(' ', '_')}\",\n",
        "                subject_id=subj_id,\n",
        "                run_num=run_num,\n",
        "                results_list=run_results\n",
        "            )\n"
      ]
    },
    {
      "cell_type": "code",
      "execution_count": 6,
      "metadata": {
        "id": "EVZUzWW5Rneo"
      },
      "outputs": [
        {
          "name": "stderr",
          "output_type": "stream",
          "text": [
            "e:\\e\\exe\\MNE-Python\\Lib\\site-packages\\sklearn\\metrics\\_classification.py:1565: UndefinedMetricWarning: Precision is ill-defined and being set to 0.0 due to no predicted samples. Use `zero_division` parameter to control this behavior.\n",
            "  _warn_prf(average, modifier, f\"{metric.capitalize()} is\", len(result))\n"
          ]
        },
        {
          "name": "stdout",
          "output_type": "stream",
          "text": [
            "Task: S001: Real vs Imagined Fists | Acc: 0.74 | Prec: 0.00 | Rec: 0.00 | F1: 0.00\n",
            "Task: S001: Left vs Right Fists | Acc: 0.71 | Prec: 0.33 | Rec: 0.11 | F1: 0.17\n",
            "Task: S002: Real vs Imagined Fists | Acc: 0.79 | Prec: 1.00 | Rec: 0.19 | F1: 0.31\n",
            "Task: S002: Left vs Right Fists | Acc: 0.77 | Prec: 0.80 | Rec: 0.15 | F1: 0.25\n"
          ]
        },
        {
          "name": "stderr",
          "output_type": "stream",
          "text": [
            "e:\\e\\exe\\MNE-Python\\Lib\\site-packages\\sklearn\\metrics\\_classification.py:1565: UndefinedMetricWarning: Precision is ill-defined and being set to 0.0 due to no predicted samples. Use `zero_division` parameter to control this behavior.\n",
            "  _warn_prf(average, modifier, f\"{metric.capitalize()} is\", len(result))\n"
          ]
        },
        {
          "name": "stdout",
          "output_type": "stream",
          "text": [
            "Task: S003: Real vs Imagined Fists | Acc: 0.73 | Prec: 0.00 | Rec: 0.00 | F1: 0.00\n"
          ]
        },
        {
          "name": "stderr",
          "output_type": "stream",
          "text": [
            "e:\\e\\exe\\MNE-Python\\Lib\\site-packages\\sklearn\\metrics\\_classification.py:1565: UndefinedMetricWarning: Precision is ill-defined and being set to 0.0 due to no predicted samples. Use `zero_division` parameter to control this behavior.\n",
            "  _warn_prf(average, modifier, f\"{metric.capitalize()} is\", len(result))\n"
          ]
        },
        {
          "name": "stdout",
          "output_type": "stream",
          "text": [
            "Task: S003: Left vs Right Fists | Acc: 0.74 | Prec: 0.00 | Rec: 0.00 | F1: 0.00\n",
            "Task: S004: Real vs Imagined Fists | Acc: 0.80 | Prec: 0.71 | Rec: 0.37 | F1: 0.49\n",
            "Task: S004: Left vs Right Fists | Acc: 0.74 | Prec: 0.50 | Rec: 0.11 | F1: 0.18\n",
            "Task: S005: Real vs Imagined Fists | Acc: 0.76 | Prec: 0.75 | Rec: 0.11 | F1: 0.19\n",
            "Task: S005: Left vs Right Fists | Acc: 0.75 | Prec: 1.00 | Rec: 0.04 | F1: 0.07\n"
          ]
        },
        {
          "name": "stderr",
          "output_type": "stream",
          "text": [
            "e:\\e\\exe\\MNE-Python\\Lib\\site-packages\\sklearn\\metrics\\_classification.py:1565: UndefinedMetricWarning: Precision is ill-defined and being set to 0.0 due to no predicted samples. Use `zero_division` parameter to control this behavior.\n",
            "  _warn_prf(average, modifier, f\"{metric.capitalize()} is\", len(result))\n"
          ]
        },
        {
          "name": "stdout",
          "output_type": "stream",
          "text": [
            "Task: S006: Real vs Imagined Fists | Acc: 0.74 | Prec: 0.00 | Rec: 0.00 | F1: 0.00\n"
          ]
        },
        {
          "name": "stderr",
          "output_type": "stream",
          "text": [
            "e:\\e\\exe\\MNE-Python\\Lib\\site-packages\\sklearn\\metrics\\_classification.py:1565: UndefinedMetricWarning: Precision is ill-defined and being set to 0.0 due to no predicted samples. Use `zero_division` parameter to control this behavior.\n",
            "  _warn_prf(average, modifier, f\"{metric.capitalize()} is\", len(result))\n"
          ]
        },
        {
          "name": "stdout",
          "output_type": "stream",
          "text": [
            "Task: S006: Left vs Right Fists | Acc: 0.74 | Prec: 0.00 | Rec: 0.00 | F1: 0.00\n",
            "Task: S007: Real vs Imagined Fists | Acc: 0.70 | Prec: 0.00 | Rec: 0.00 | F1: 0.00\n",
            "Task: S007: Left vs Right Fists | Acc: 0.76 | Prec: 1.00 | Rec: 0.07 | F1: 0.14\n",
            "Task: S008: Real vs Imagined Fists | Acc: 0.73 | Prec: 0.33 | Rec: 0.04 | F1: 0.07\n"
          ]
        },
        {
          "name": "stderr",
          "output_type": "stream",
          "text": [
            "e:\\e\\exe\\MNE-Python\\Lib\\site-packages\\sklearn\\metrics\\_classification.py:1565: UndefinedMetricWarning: Precision is ill-defined and being set to 0.0 due to no predicted samples. Use `zero_division` parameter to control this behavior.\n",
            "  _warn_prf(average, modifier, f\"{metric.capitalize()} is\", len(result))\n"
          ]
        },
        {
          "name": "stdout",
          "output_type": "stream",
          "text": [
            "Task: S008: Left vs Right Fists | Acc: 0.74 | Prec: 0.00 | Rec: 0.00 | F1: 0.00\n"
          ]
        },
        {
          "name": "stderr",
          "output_type": "stream",
          "text": [
            "e:\\e\\exe\\MNE-Python\\Lib\\site-packages\\sklearn\\metrics\\_classification.py:1565: UndefinedMetricWarning: Precision is ill-defined and being set to 0.0 due to no predicted samples. Use `zero_division` parameter to control this behavior.\n",
            "  _warn_prf(average, modifier, f\"{metric.capitalize()} is\", len(result))\n"
          ]
        },
        {
          "name": "stdout",
          "output_type": "stream",
          "text": [
            "Task: S009: Real vs Imagined Fists | Acc: 0.75 | Prec: 0.00 | Rec: 0.00 | F1: 0.00\n"
          ]
        },
        {
          "name": "stderr",
          "output_type": "stream",
          "text": [
            "e:\\e\\exe\\MNE-Python\\Lib\\site-packages\\sklearn\\metrics\\_classification.py:1565: UndefinedMetricWarning: Precision is ill-defined and being set to 0.0 due to no predicted samples. Use `zero_division` parameter to control this behavior.\n",
            "  _warn_prf(average, modifier, f\"{metric.capitalize()} is\", len(result))\n"
          ]
        },
        {
          "name": "stdout",
          "output_type": "stream",
          "text": [
            "Task: S009: Left vs Right Fists | Acc: 0.73 | Prec: 0.00 | Rec: 0.00 | F1: 0.00\n"
          ]
        },
        {
          "name": "stderr",
          "output_type": "stream",
          "text": [
            "e:\\e\\exe\\MNE-Python\\Lib\\site-packages\\sklearn\\metrics\\_classification.py:1565: UndefinedMetricWarning: Precision is ill-defined and being set to 0.0 due to no predicted samples. Use `zero_division` parameter to control this behavior.\n",
            "  _warn_prf(average, modifier, f\"{metric.capitalize()} is\", len(result))\n"
          ]
        },
        {
          "name": "stdout",
          "output_type": "stream",
          "text": [
            "Task: S010: Real vs Imagined Fists | Acc: 0.75 | Prec: 0.00 | Rec: 0.00 | F1: 0.00\n"
          ]
        },
        {
          "name": "stderr",
          "output_type": "stream",
          "text": [
            "e:\\e\\exe\\MNE-Python\\Lib\\site-packages\\sklearn\\metrics\\_classification.py:1565: UndefinedMetricWarning: Precision is ill-defined and being set to 0.0 due to no predicted samples. Use `zero_division` parameter to control this behavior.\n",
            "  _warn_prf(average, modifier, f\"{metric.capitalize()} is\", len(result))\n"
          ]
        },
        {
          "name": "stdout",
          "output_type": "stream",
          "text": [
            "Task: S010: Left vs Right Fists | Acc: 0.73 | Prec: 0.00 | Rec: 0.00 | F1: 0.00\n"
          ]
        },
        {
          "name": "stderr",
          "output_type": "stream",
          "text": [
            "e:\\e\\exe\\MNE-Python\\Lib\\site-packages\\sklearn\\metrics\\_classification.py:1565: UndefinedMetricWarning: Precision is ill-defined and being set to 0.0 due to no predicted samples. Use `zero_division` parameter to control this behavior.\n",
            "  _warn_prf(average, modifier, f\"{metric.capitalize()} is\", len(result))\n"
          ]
        },
        {
          "name": "stdout",
          "output_type": "stream",
          "text": [
            "Task: S011: Real vs Imagined Fists | Acc: 0.74 | Prec: 0.00 | Rec: 0.00 | F1: 0.00\n"
          ]
        },
        {
          "name": "stderr",
          "output_type": "stream",
          "text": [
            "e:\\e\\exe\\MNE-Python\\Lib\\site-packages\\sklearn\\metrics\\_classification.py:1565: UndefinedMetricWarning: Precision is ill-defined and being set to 0.0 due to no predicted samples. Use `zero_division` parameter to control this behavior.\n",
            "  _warn_prf(average, modifier, f\"{metric.capitalize()} is\", len(result))\n"
          ]
        },
        {
          "name": "stdout",
          "output_type": "stream",
          "text": [
            "Task: S011: Left vs Right Fists | Acc: 0.74 | Prec: 0.00 | Rec: 0.00 | F1: 0.00\n",
            "Task: S012: Real vs Imagined Fists | Acc: 0.74 | Prec: 0.50 | Rec: 0.04 | F1: 0.07\n"
          ]
        },
        {
          "name": "stderr",
          "output_type": "stream",
          "text": [
            "e:\\e\\exe\\MNE-Python\\Lib\\site-packages\\sklearn\\metrics\\_classification.py:1565: UndefinedMetricWarning: Precision is ill-defined and being set to 0.0 due to no predicted samples. Use `zero_division` parameter to control this behavior.\n",
            "  _warn_prf(average, modifier, f\"{metric.capitalize()} is\", len(result))\n"
          ]
        },
        {
          "name": "stdout",
          "output_type": "stream",
          "text": [
            "Task: S012: Left vs Right Fists | Acc: 0.74 | Prec: 0.00 | Rec: 0.00 | F1: 0.00\n"
          ]
        },
        {
          "name": "stderr",
          "output_type": "stream",
          "text": [
            "e:\\e\\exe\\MNE-Python\\Lib\\site-packages\\sklearn\\metrics\\_classification.py:1565: UndefinedMetricWarning: Precision is ill-defined and being set to 0.0 due to no predicted samples. Use `zero_division` parameter to control this behavior.\n",
            "  _warn_prf(average, modifier, f\"{metric.capitalize()} is\", len(result))\n"
          ]
        },
        {
          "name": "stdout",
          "output_type": "stream",
          "text": [
            "Task: S013: Real vs Imagined Fists | Acc: 0.75 | Prec: 0.00 | Rec: 0.00 | F1: 0.00\n"
          ]
        },
        {
          "name": "stderr",
          "output_type": "stream",
          "text": [
            "e:\\e\\exe\\MNE-Python\\Lib\\site-packages\\sklearn\\metrics\\_classification.py:1565: UndefinedMetricWarning: Precision is ill-defined and being set to 0.0 due to no predicted samples. Use `zero_division` parameter to control this behavior.\n",
            "  _warn_prf(average, modifier, f\"{metric.capitalize()} is\", len(result))\n"
          ]
        },
        {
          "name": "stdout",
          "output_type": "stream",
          "text": [
            "Task: S013: Left vs Right Fists | Acc: 0.73 | Prec: 0.00 | Rec: 0.00 | F1: 0.00\n",
            "Task: S014: Real vs Imagined Fists | Acc: 0.75 | Prec: 1.00 | Rec: 0.04 | F1: 0.07\n",
            "Task: S014: Left vs Right Fists | Acc: 0.77 | Prec: 1.00 | Rec: 0.11 | F1: 0.20\n",
            "Task: S015: Real vs Imagined Fists | Acc: 0.75 | Prec: 0.67 | Rec: 0.07 | F1: 0.13\n",
            "Task: S015: Left vs Right Fists | Acc: 0.72 | Prec: 0.00 | Rec: 0.00 | F1: 0.00\n"
          ]
        },
        {
          "name": "stderr",
          "output_type": "stream",
          "text": [
            "e:\\e\\exe\\MNE-Python\\Lib\\site-packages\\sklearn\\metrics\\_classification.py:1565: UndefinedMetricWarning: Precision is ill-defined and being set to 0.0 due to no predicted samples. Use `zero_division` parameter to control this behavior.\n",
            "  _warn_prf(average, modifier, f\"{metric.capitalize()} is\", len(result))\n"
          ]
        },
        {
          "name": "stdout",
          "output_type": "stream",
          "text": [
            "Task: S016: Real vs Imagined Fists | Acc: 0.74 | Prec: 0.00 | Rec: 0.00 | F1: 0.00\n",
            "Task: S016: Left vs Right Fists | Acc: 0.75 | Prec: 1.00 | Rec: 0.04 | F1: 0.07\n",
            "Task: S017: Real vs Imagined Fists | Acc: 0.76 | Prec: 1.00 | Rec: 0.07 | F1: 0.14\n"
          ]
        },
        {
          "name": "stderr",
          "output_type": "stream",
          "text": [
            "e:\\e\\exe\\MNE-Python\\Lib\\site-packages\\sklearn\\metrics\\_classification.py:1565: UndefinedMetricWarning: Precision is ill-defined and being set to 0.0 due to no predicted samples. Use `zero_division` parameter to control this behavior.\n",
            "  _warn_prf(average, modifier, f\"{metric.capitalize()} is\", len(result))\n"
          ]
        },
        {
          "name": "stdout",
          "output_type": "stream",
          "text": [
            "Task: S017: Left vs Right Fists | Acc: 0.73 | Prec: 0.00 | Rec: 0.00 | F1: 0.00\n"
          ]
        },
        {
          "name": "stderr",
          "output_type": "stream",
          "text": [
            "e:\\e\\exe\\MNE-Python\\Lib\\site-packages\\sklearn\\metrics\\_classification.py:1565: UndefinedMetricWarning: Precision is ill-defined and being set to 0.0 due to no predicted samples. Use `zero_division` parameter to control this behavior.\n",
            "  _warn_prf(average, modifier, f\"{metric.capitalize()} is\", len(result))\n"
          ]
        },
        {
          "name": "stdout",
          "output_type": "stream",
          "text": [
            "Task: S018: Real vs Imagined Fists | Acc: 0.74 | Prec: 0.00 | Rec: 0.00 | F1: 0.00\n"
          ]
        },
        {
          "name": "stderr",
          "output_type": "stream",
          "text": [
            "e:\\e\\exe\\MNE-Python\\Lib\\site-packages\\sklearn\\metrics\\_classification.py:1565: UndefinedMetricWarning: Precision is ill-defined and being set to 0.0 due to no predicted samples. Use `zero_division` parameter to control this behavior.\n",
            "  _warn_prf(average, modifier, f\"{metric.capitalize()} is\", len(result))\n"
          ]
        },
        {
          "name": "stdout",
          "output_type": "stream",
          "text": [
            "Task: S018: Left vs Right Fists | Acc: 0.74 | Prec: 0.00 | Rec: 0.00 | F1: 0.00\n"
          ]
        },
        {
          "name": "stderr",
          "output_type": "stream",
          "text": [
            "e:\\e\\exe\\MNE-Python\\Lib\\site-packages\\sklearn\\metrics\\_classification.py:1565: UndefinedMetricWarning: Precision is ill-defined and being set to 0.0 due to no predicted samples. Use `zero_division` parameter to control this behavior.\n",
            "  _warn_prf(average, modifier, f\"{metric.capitalize()} is\", len(result))\n"
          ]
        },
        {
          "name": "stdout",
          "output_type": "stream",
          "text": [
            "Task: S019: Real vs Imagined Fists | Acc: 0.74 | Prec: 0.00 | Rec: 0.00 | F1: 0.00\n"
          ]
        },
        {
          "name": "stderr",
          "output_type": "stream",
          "text": [
            "e:\\e\\exe\\MNE-Python\\Lib\\site-packages\\sklearn\\metrics\\_classification.py:1565: UndefinedMetricWarning: Precision is ill-defined and being set to 0.0 due to no predicted samples. Use `zero_division` parameter to control this behavior.\n",
            "  _warn_prf(average, modifier, f\"{metric.capitalize()} is\", len(result))\n"
          ]
        },
        {
          "name": "stdout",
          "output_type": "stream",
          "text": [
            "Task: S019: Left vs Right Fists | Acc: 0.74 | Prec: 0.00 | Rec: 0.00 | F1: 0.00\n",
            "Task: S020: Real vs Imagined Fists | Acc: 0.74 | Prec: 0.60 | Rec: 0.11 | F1: 0.18\n",
            "Task: S020: Left vs Right Fists | Acc: 0.75 | Prec: 0.67 | Rec: 0.07 | F1: 0.13\n"
          ]
        },
        {
          "name": "stderr",
          "output_type": "stream",
          "text": [
            "e:\\e\\exe\\MNE-Python\\Lib\\site-packages\\sklearn\\metrics\\_classification.py:1565: UndefinedMetricWarning: Precision is ill-defined and being set to 0.0 due to no predicted samples. Use `zero_division` parameter to control this behavior.\n",
            "  _warn_prf(average, modifier, f\"{metric.capitalize()} is\", len(result))\n"
          ]
        },
        {
          "name": "stdout",
          "output_type": "stream",
          "text": [
            "Task: S021: Real vs Imagined Fists | Acc: 0.75 | Prec: 0.00 | Rec: 0.00 | F1: 0.00\n"
          ]
        },
        {
          "name": "stderr",
          "output_type": "stream",
          "text": [
            "e:\\e\\exe\\MNE-Python\\Lib\\site-packages\\sklearn\\metrics\\_classification.py:1565: UndefinedMetricWarning: Precision is ill-defined and being set to 0.0 due to no predicted samples. Use `zero_division` parameter to control this behavior.\n",
            "  _warn_prf(average, modifier, f\"{metric.capitalize()} is\", len(result))\n"
          ]
        },
        {
          "name": "stdout",
          "output_type": "stream",
          "text": [
            "Task: S021: Left vs Right Fists | Acc: 0.73 | Prec: 0.00 | Rec: 0.00 | F1: 0.00\n",
            "Task: S022: Real vs Imagined Fists | Acc: 0.80 | Prec: 0.73 | Rec: 0.39 | F1: 0.51\n",
            "Task: S022: Left vs Right Fists | Acc: 0.79 | Prec: 0.73 | Rec: 0.30 | F1: 0.42\n",
            "Task: S023: Real vs Imagined Fists | Acc: 0.77 | Prec: 1.00 | Rec: 0.11 | F1: 0.20\n"
          ]
        },
        {
          "name": "stderr",
          "output_type": "stream",
          "text": [
            "e:\\e\\exe\\MNE-Python\\Lib\\site-packages\\sklearn\\metrics\\_classification.py:1565: UndefinedMetricWarning: Precision is ill-defined and being set to 0.0 due to no predicted samples. Use `zero_division` parameter to control this behavior.\n",
            "  _warn_prf(average, modifier, f\"{metric.capitalize()} is\", len(result))\n"
          ]
        },
        {
          "name": "stdout",
          "output_type": "stream",
          "text": [
            "Task: S023: Left vs Right Fists | Acc: 0.74 | Prec: 0.00 | Rec: 0.00 | F1: 0.00\n",
            "Task: S024: Real vs Imagined Fists | Acc: 0.75 | Prec: 1.00 | Rec: 0.04 | F1: 0.07\n"
          ]
        },
        {
          "name": "stderr",
          "output_type": "stream",
          "text": [
            "e:\\e\\exe\\MNE-Python\\Lib\\site-packages\\sklearn\\metrics\\_classification.py:1565: UndefinedMetricWarning: Precision is ill-defined and being set to 0.0 due to no predicted samples. Use `zero_division` parameter to control this behavior.\n",
            "  _warn_prf(average, modifier, f\"{metric.capitalize()} is\", len(result))\n"
          ]
        },
        {
          "name": "stdout",
          "output_type": "stream",
          "text": [
            "Task: S024: Left vs Right Fists | Acc: 0.74 | Prec: 0.00 | Rec: 0.00 | F1: 0.00\n",
            "Task: S025: Real vs Imagined Fists | Acc: 0.75 | Prec: 1.00 | Rec: 0.04 | F1: 0.07\n",
            "Task: S025: Left vs Right Fists | Acc: 0.76 | Prec: 0.57 | Rec: 0.30 | F1: 0.39\n",
            "Task: S026: Real vs Imagined Fists | Acc: 0.73 | Prec: 0.00 | Rec: 0.00 | F1: 0.00\n"
          ]
        },
        {
          "name": "stderr",
          "output_type": "stream",
          "text": [
            "e:\\e\\exe\\MNE-Python\\Lib\\site-packages\\sklearn\\metrics\\_classification.py:1565: UndefinedMetricWarning: Precision is ill-defined and being set to 0.0 due to no predicted samples. Use `zero_division` parameter to control this behavior.\n",
            "  _warn_prf(average, modifier, f\"{metric.capitalize()} is\", len(result))\n"
          ]
        },
        {
          "name": "stdout",
          "output_type": "stream",
          "text": [
            "Task: S026: Left vs Right Fists | Acc: 0.74 | Prec: 0.00 | Rec: 0.00 | F1: 0.00\n",
            "Task: S027: Real vs Imagined Fists | Acc: 0.77 | Prec: 0.62 | Rec: 0.30 | F1: 0.40\n",
            "Task: S027: Left vs Right Fists | Acc: 0.75 | Prec: 0.67 | Rec: 0.07 | F1: 0.13\n",
            "Task: S028: Real vs Imagined Fists | Acc: 0.74 | Prec: 0.50 | Rec: 0.04 | F1: 0.07\n",
            "Task: S028: Left vs Right Fists | Acc: 0.71 | Prec: 0.00 | Rec: 0.00 | F1: 0.00\n",
            "Task: S029: Real vs Imagined Fists | Acc: 0.76 | Prec: 0.67 | Rec: 0.15 | F1: 0.24\n",
            "Task: S029: Left vs Right Fists | Acc: 0.74 | Prec: 0.50 | Rec: 0.11 | F1: 0.18\n"
          ]
        },
        {
          "name": "stderr",
          "output_type": "stream",
          "text": [
            "e:\\e\\exe\\MNE-Python\\Lib\\site-packages\\sklearn\\metrics\\_classification.py:1565: UndefinedMetricWarning: Precision is ill-defined and being set to 0.0 due to no predicted samples. Use `zero_division` parameter to control this behavior.\n",
            "  _warn_prf(average, modifier, f\"{metric.capitalize()} is\", len(result))\n"
          ]
        },
        {
          "name": "stdout",
          "output_type": "stream",
          "text": [
            "Task: S030: Real vs Imagined Fists | Acc: 0.74 | Prec: 0.00 | Rec: 0.00 | F1: 0.00\n"
          ]
        },
        {
          "name": "stderr",
          "output_type": "stream",
          "text": [
            "e:\\e\\exe\\MNE-Python\\Lib\\site-packages\\sklearn\\metrics\\_classification.py:1565: UndefinedMetricWarning: Precision is ill-defined and being set to 0.0 due to no predicted samples. Use `zero_division` parameter to control this behavior.\n",
            "  _warn_prf(average, modifier, f\"{metric.capitalize()} is\", len(result))\n"
          ]
        },
        {
          "name": "stdout",
          "output_type": "stream",
          "text": [
            "Task: S030: Left vs Right Fists | Acc: 0.73 | Prec: 0.00 | Rec: 0.00 | F1: 0.00\n"
          ]
        },
        {
          "name": "stderr",
          "output_type": "stream",
          "text": [
            "e:\\e\\exe\\MNE-Python\\Lib\\site-packages\\sklearn\\metrics\\_classification.py:1565: UndefinedMetricWarning: Precision is ill-defined and being set to 0.0 due to no predicted samples. Use `zero_division` parameter to control this behavior.\n",
            "  _warn_prf(average, modifier, f\"{metric.capitalize()} is\", len(result))\n"
          ]
        },
        {
          "name": "stdout",
          "output_type": "stream",
          "text": [
            "Task: S031: Real vs Imagined Fists | Acc: 0.74 | Prec: 0.00 | Rec: 0.00 | F1: 0.00\n",
            "Task: S031: Left vs Right Fists | Acc: 0.74 | Prec: 0.50 | Rec: 0.15 | F1: 0.23\n",
            "Task: S032: Real vs Imagined Fists | Acc: 0.77 | Prec: 0.58 | Rec: 0.50 | F1: 0.54\n",
            "Task: S032: Left vs Right Fists | Acc: 0.78 | Prec: 0.64 | Rec: 0.33 | F1: 0.44\n",
            "Task: S033: Real vs Imagined Fists | Acc: 0.74 | Prec: 0.53 | Rec: 0.32 | F1: 0.40\n"
          ]
        },
        {
          "name": "stderr",
          "output_type": "stream",
          "text": [
            "e:\\e\\exe\\MNE-Python\\Lib\\site-packages\\sklearn\\metrics\\_classification.py:1565: UndefinedMetricWarning: Precision is ill-defined and being set to 0.0 due to no predicted samples. Use `zero_division` parameter to control this behavior.\n",
            "  _warn_prf(average, modifier, f\"{metric.capitalize()} is\", len(result))\n"
          ]
        },
        {
          "name": "stdout",
          "output_type": "stream",
          "text": [
            "Task: S033: Left vs Right Fists | Acc: 0.75 | Prec: 0.00 | Rec: 0.00 | F1: 0.00\n",
            "Task: S034: Real vs Imagined Fists | Acc: 0.74 | Prec: 0.43 | Rec: 0.12 | F1: 0.18\n",
            "Task: S034: Left vs Right Fists | Acc: 0.78 | Prec: 0.60 | Rec: 0.36 | F1: 0.45\n",
            "Task: S035: Real vs Imagined Fists | Acc: 0.75 | Prec: 1.00 | Rec: 0.04 | F1: 0.07\n",
            "Task: S035: Left vs Right Fists | Acc: 0.79 | Prec: 0.86 | Rec: 0.22 | F1: 0.35\n"
          ]
        },
        {
          "name": "stderr",
          "output_type": "stream",
          "text": [
            "e:\\e\\exe\\MNE-Python\\Lib\\site-packages\\sklearn\\metrics\\_classification.py:1565: UndefinedMetricWarning: Precision is ill-defined and being set to 0.0 due to no predicted samples. Use `zero_division` parameter to control this behavior.\n",
            "  _warn_prf(average, modifier, f\"{metric.capitalize()} is\", len(result))\n"
          ]
        },
        {
          "name": "stdout",
          "output_type": "stream",
          "text": [
            "Task: S036: Real vs Imagined Fists | Acc: 0.74 | Prec: 0.00 | Rec: 0.00 | F1: 0.00\n"
          ]
        },
        {
          "name": "stderr",
          "output_type": "stream",
          "text": [
            "e:\\e\\exe\\MNE-Python\\Lib\\site-packages\\sklearn\\metrics\\_classification.py:1565: UndefinedMetricWarning: Precision is ill-defined and being set to 0.0 due to no predicted samples. Use `zero_division` parameter to control this behavior.\n",
            "  _warn_prf(average, modifier, f\"{metric.capitalize()} is\", len(result))\n"
          ]
        },
        {
          "name": "stdout",
          "output_type": "stream",
          "text": [
            "Task: S036: Left vs Right Fists | Acc: 0.74 | Prec: 0.00 | Rec: 0.00 | F1: 0.00\n"
          ]
        },
        {
          "name": "stderr",
          "output_type": "stream",
          "text": [
            "e:\\e\\exe\\MNE-Python\\Lib\\site-packages\\sklearn\\metrics\\_classification.py:1565: UndefinedMetricWarning: Precision is ill-defined and being set to 0.0 due to no predicted samples. Use `zero_division` parameter to control this behavior.\n",
            "  _warn_prf(average, modifier, f\"{metric.capitalize()} is\", len(result))\n"
          ]
        },
        {
          "name": "stdout",
          "output_type": "stream",
          "text": [
            "Task: S037: Real vs Imagined Fists | Acc: 0.75 | Prec: 0.00 | Rec: 0.00 | F1: 0.00\n"
          ]
        },
        {
          "name": "stderr",
          "output_type": "stream",
          "text": [
            "e:\\e\\exe\\MNE-Python\\Lib\\site-packages\\sklearn\\metrics\\_classification.py:1565: UndefinedMetricWarning: Precision is ill-defined and being set to 0.0 due to no predicted samples. Use `zero_division` parameter to control this behavior.\n",
            "  _warn_prf(average, modifier, f\"{metric.capitalize()} is\", len(result))\n"
          ]
        },
        {
          "name": "stdout",
          "output_type": "stream",
          "text": [
            "Task: S037: Left vs Right Fists | Acc: 0.75 | Prec: 0.00 | Rec: 0.00 | F1: 0.00\n"
          ]
        },
        {
          "name": "stderr",
          "output_type": "stream",
          "text": [
            "e:\\e\\exe\\MNE-Python\\Lib\\site-packages\\sklearn\\metrics\\_classification.py:1565: UndefinedMetricWarning: Precision is ill-defined and being set to 0.0 due to no predicted samples. Use `zero_division` parameter to control this behavior.\n",
            "  _warn_prf(average, modifier, f\"{metric.capitalize()} is\", len(result))\n"
          ]
        },
        {
          "name": "stdout",
          "output_type": "stream",
          "text": [
            "Task: S038: Real vs Imagined Fists | Acc: 0.74 | Prec: 0.00 | Rec: 0.00 | F1: 0.00\n",
            "Task: S038: Left vs Right Fists | Acc: 0.72 | Prec: 0.00 | Rec: 0.00 | F1: 0.00\n"
          ]
        },
        {
          "name": "stderr",
          "output_type": "stream",
          "text": [
            "e:\\e\\exe\\MNE-Python\\Lib\\site-packages\\sklearn\\metrics\\_classification.py:1565: UndefinedMetricWarning: Precision is ill-defined and being set to 0.0 due to no predicted samples. Use `zero_division` parameter to control this behavior.\n",
            "  _warn_prf(average, modifier, f\"{metric.capitalize()} is\", len(result))\n"
          ]
        },
        {
          "name": "stdout",
          "output_type": "stream",
          "text": [
            "Task: S039: Real vs Imagined Fists | Acc: 0.74 | Prec: 0.00 | Rec: 0.00 | F1: 0.00\n"
          ]
        },
        {
          "name": "stderr",
          "output_type": "stream",
          "text": [
            "e:\\e\\exe\\MNE-Python\\Lib\\site-packages\\sklearn\\metrics\\_classification.py:1565: UndefinedMetricWarning: Precision is ill-defined and being set to 0.0 due to no predicted samples. Use `zero_division` parameter to control this behavior.\n",
            "  _warn_prf(average, modifier, f\"{metric.capitalize()} is\", len(result))\n"
          ]
        },
        {
          "name": "stdout",
          "output_type": "stream",
          "text": [
            "Task: S039: Left vs Right Fists | Acc: 0.73 | Prec: 0.00 | Rec: 0.00 | F1: 0.00\n"
          ]
        },
        {
          "name": "stderr",
          "output_type": "stream",
          "text": [
            "e:\\e\\exe\\MNE-Python\\Lib\\site-packages\\sklearn\\metrics\\_classification.py:1565: UndefinedMetricWarning: Precision is ill-defined and being set to 0.0 due to no predicted samples. Use `zero_division` parameter to control this behavior.\n",
            "  _warn_prf(average, modifier, f\"{metric.capitalize()} is\", len(result))\n"
          ]
        },
        {
          "name": "stdout",
          "output_type": "stream",
          "text": [
            "Task: S040: Real vs Imagined Fists | Acc: 0.73 | Prec: 0.00 | Rec: 0.00 | F1: 0.00\n"
          ]
        },
        {
          "name": "stderr",
          "output_type": "stream",
          "text": [
            "e:\\e\\exe\\MNE-Python\\Lib\\site-packages\\sklearn\\metrics\\_classification.py:1565: UndefinedMetricWarning: Precision is ill-defined and being set to 0.0 due to no predicted samples. Use `zero_division` parameter to control this behavior.\n",
            "  _warn_prf(average, modifier, f\"{metric.capitalize()} is\", len(result))\n"
          ]
        },
        {
          "name": "stdout",
          "output_type": "stream",
          "text": [
            "Task: S040: Left vs Right Fists | Acc: 0.74 | Prec: 0.00 | Rec: 0.00 | F1: 0.00\n"
          ]
        },
        {
          "name": "stderr",
          "output_type": "stream",
          "text": [
            "e:\\e\\exe\\MNE-Python\\Lib\\site-packages\\sklearn\\metrics\\_classification.py:1565: UndefinedMetricWarning: Precision is ill-defined and being set to 0.0 due to no predicted samples. Use `zero_division` parameter to control this behavior.\n",
            "  _warn_prf(average, modifier, f\"{metric.capitalize()} is\", len(result))\n"
          ]
        },
        {
          "name": "stdout",
          "output_type": "stream",
          "text": [
            "Task: S041: Real vs Imagined Fists | Acc: 0.75 | Prec: 0.00 | Rec: 0.00 | F1: 0.00\n"
          ]
        },
        {
          "name": "stderr",
          "output_type": "stream",
          "text": [
            "e:\\e\\exe\\MNE-Python\\Lib\\site-packages\\sklearn\\metrics\\_classification.py:1565: UndefinedMetricWarning: Precision is ill-defined and being set to 0.0 due to no predicted samples. Use `zero_division` parameter to control this behavior.\n",
            "  _warn_prf(average, modifier, f\"{metric.capitalize()} is\", len(result))\n"
          ]
        },
        {
          "name": "stdout",
          "output_type": "stream",
          "text": [
            "Task: S041: Left vs Right Fists | Acc: 0.75 | Prec: 0.00 | Rec: 0.00 | F1: 0.00\n",
            "Task: S042: Real vs Imagined Fists | Acc: 0.75 | Prec: 0.56 | Rec: 0.19 | F1: 0.28\n",
            "Task: S042: Left vs Right Fists | Acc: 0.79 | Prec: 0.86 | Rec: 0.22 | F1: 0.35\n",
            "Task: S043: Real vs Imagined Fists | Acc: 0.75 | Prec: 1.00 | Rec: 0.04 | F1: 0.07\n",
            "Task: S043: Left vs Right Fists | Acc: 0.73 | Prec: 0.33 | Rec: 0.04 | F1: 0.07\n",
            "Task: S044: Real vs Imagined Fists | Acc: 0.70 | Prec: 0.17 | Rec: 0.04 | F1: 0.06\n"
          ]
        },
        {
          "name": "stderr",
          "output_type": "stream",
          "text": [
            "e:\\e\\exe\\MNE-Python\\Lib\\site-packages\\sklearn\\metrics\\_classification.py:1565: UndefinedMetricWarning: Precision is ill-defined and being set to 0.0 due to no predicted samples. Use `zero_division` parameter to control this behavior.\n",
            "  _warn_prf(average, modifier, f\"{metric.capitalize()} is\", len(result))\n"
          ]
        },
        {
          "name": "stdout",
          "output_type": "stream",
          "text": [
            "Task: S044: Left vs Right Fists | Acc: 0.74 | Prec: 0.00 | Rec: 0.00 | F1: 0.00\n",
            "Task: S045: Real vs Imagined Fists | Acc: 0.74 | Prec: 0.50 | Rec: 0.04 | F1: 0.07\n",
            "Task: S045: Left vs Right Fists | Acc: 0.70 | Prec: 0.00 | Rec: 0.00 | F1: 0.00\n",
            "Task: S046: Real vs Imagined Fists | Acc: 0.80 | Prec: 0.80 | Rec: 0.30 | F1: 0.43\n"
          ]
        },
        {
          "name": "stderr",
          "output_type": "stream",
          "text": [
            "e:\\e\\exe\\MNE-Python\\Lib\\site-packages\\sklearn\\metrics\\_classification.py:1565: UndefinedMetricWarning: Precision is ill-defined and being set to 0.0 due to no predicted samples. Use `zero_division` parameter to control this behavior.\n",
            "  _warn_prf(average, modifier, f\"{metric.capitalize()} is\", len(result))\n"
          ]
        },
        {
          "name": "stdout",
          "output_type": "stream",
          "text": [
            "Task: S046: Left vs Right Fists | Acc: 0.74 | Prec: 0.00 | Rec: 0.00 | F1: 0.00\n"
          ]
        },
        {
          "name": "stderr",
          "output_type": "stream",
          "text": [
            "e:\\e\\exe\\MNE-Python\\Lib\\site-packages\\sklearn\\metrics\\_classification.py:1565: UndefinedMetricWarning: Precision is ill-defined and being set to 0.0 due to no predicted samples. Use `zero_division` parameter to control this behavior.\n",
            "  _warn_prf(average, modifier, f\"{metric.capitalize()} is\", len(result))\n"
          ]
        },
        {
          "name": "stdout",
          "output_type": "stream",
          "text": [
            "Task: S047: Real vs Imagined Fists | Acc: 0.75 | Prec: 0.00 | Rec: 0.00 | F1: 0.00\n"
          ]
        },
        {
          "name": "stderr",
          "output_type": "stream",
          "text": [
            "e:\\e\\exe\\MNE-Python\\Lib\\site-packages\\sklearn\\metrics\\_classification.py:1565: UndefinedMetricWarning: Precision is ill-defined and being set to 0.0 due to no predicted samples. Use `zero_division` parameter to control this behavior.\n",
            "  _warn_prf(average, modifier, f\"{metric.capitalize()} is\", len(result))\n"
          ]
        },
        {
          "name": "stdout",
          "output_type": "stream",
          "text": [
            "Task: S047: Left vs Right Fists | Acc: 0.73 | Prec: 0.00 | Rec: 0.00 | F1: 0.00\n",
            "Task: S048: Real vs Imagined Fists | Acc: 0.75 | Prec: 0.60 | Rec: 0.11 | F1: 0.19\n",
            "Task: S048: Left vs Right Fists | Acc: 0.75 | Prec: 1.00 | Rec: 0.04 | F1: 0.07\n",
            "Task: S049: Real vs Imagined Fists | Acc: 0.76 | Prec: 0.67 | Rec: 0.21 | F1: 0.32\n",
            "Task: S049: Left vs Right Fists | Acc: 0.73 | Prec: 0.00 | Rec: 0.00 | F1: 0.00\n"
          ]
        },
        {
          "name": "stderr",
          "output_type": "stream",
          "text": [
            "e:\\e\\exe\\MNE-Python\\Lib\\site-packages\\sklearn\\metrics\\_classification.py:1565: UndefinedMetricWarning: Precision is ill-defined and being set to 0.0 due to no predicted samples. Use `zero_division` parameter to control this behavior.\n",
            "  _warn_prf(average, modifier, f\"{metric.capitalize()} is\", len(result))\n"
          ]
        },
        {
          "name": "stdout",
          "output_type": "stream",
          "text": [
            "Task: S050: Real vs Imagined Fists | Acc: 0.75 | Prec: 0.00 | Rec: 0.00 | F1: 0.00\n"
          ]
        },
        {
          "name": "stderr",
          "output_type": "stream",
          "text": [
            "e:\\e\\exe\\MNE-Python\\Lib\\site-packages\\sklearn\\metrics\\_classification.py:1565: UndefinedMetricWarning: Precision is ill-defined and being set to 0.0 due to no predicted samples. Use `zero_division` parameter to control this behavior.\n",
            "  _warn_prf(average, modifier, f\"{metric.capitalize()} is\", len(result))\n"
          ]
        },
        {
          "name": "stdout",
          "output_type": "stream",
          "text": [
            "Task: S050: Left vs Right Fists | Acc: 0.73 | Prec: 0.00 | Rec: 0.00 | F1: 0.00\n",
            "Task: S051: Real vs Imagined Fists | Acc: 0.76 | Prec: 1.00 | Rec: 0.04 | F1: 0.07\n",
            "Task: S051: Left vs Right Fists | Acc: 0.75 | Prec: 0.50 | Rec: 0.08 | F1: 0.13\n",
            "Task: S052: Real vs Imagined Fists | Acc: 0.73 | Prec: 0.00 | Rec: 0.00 | F1: 0.00\n",
            "Task: S052: Left vs Right Fists | Acc: 0.72 | Prec: 0.00 | Rec: 0.00 | F1: 0.00\n"
          ]
        },
        {
          "name": "stderr",
          "output_type": "stream",
          "text": [
            "e:\\e\\exe\\MNE-Python\\Lib\\site-packages\\sklearn\\metrics\\_classification.py:1565: UndefinedMetricWarning: Precision is ill-defined and being set to 0.0 due to no predicted samples. Use `zero_division` parameter to control this behavior.\n",
            "  _warn_prf(average, modifier, f\"{metric.capitalize()} is\", len(result))\n"
          ]
        },
        {
          "name": "stdout",
          "output_type": "stream",
          "text": [
            "Task: S053: Real vs Imagined Fists | Acc: 0.74 | Prec: 0.00 | Rec: 0.00 | F1: 0.00\n"
          ]
        },
        {
          "name": "stderr",
          "output_type": "stream",
          "text": [
            "e:\\e\\exe\\MNE-Python\\Lib\\site-packages\\sklearn\\metrics\\_classification.py:1565: UndefinedMetricWarning: Precision is ill-defined and being set to 0.0 due to no predicted samples. Use `zero_division` parameter to control this behavior.\n",
            "  _warn_prf(average, modifier, f\"{metric.capitalize()} is\", len(result))\n"
          ]
        },
        {
          "name": "stdout",
          "output_type": "stream",
          "text": [
            "Task: S053: Left vs Right Fists | Acc: 0.74 | Prec: 0.00 | Rec: 0.00 | F1: 0.00\n",
            "Task: S054: Real vs Imagined Fists | Acc: 0.66 | Prec: 0.15 | Rec: 0.07 | F1: 0.10\n",
            "Task: S054: Left vs Right Fists | Acc: 0.70 | Prec: 0.41 | Rec: 0.33 | F1: 0.37\n",
            "Task: S055: Real vs Imagined Fists | Acc: 0.77 | Prec: 0.60 | Rec: 0.33 | F1: 0.43\n",
            "Task: S055: Left vs Right Fists | Acc: 0.88 | Prec: 0.94 | Rec: 0.56 | F1: 0.70\n"
          ]
        },
        {
          "name": "stderr",
          "output_type": "stream",
          "text": [
            "e:\\e\\exe\\MNE-Python\\Lib\\site-packages\\sklearn\\metrics\\_classification.py:1565: UndefinedMetricWarning: Precision is ill-defined and being set to 0.0 due to no predicted samples. Use `zero_division` parameter to control this behavior.\n",
            "  _warn_prf(average, modifier, f\"{metric.capitalize()} is\", len(result))\n"
          ]
        },
        {
          "name": "stdout",
          "output_type": "stream",
          "text": [
            "Task: S056: Real vs Imagined Fists | Acc: 0.74 | Prec: 0.00 | Rec: 0.00 | F1: 0.00\n"
          ]
        },
        {
          "name": "stderr",
          "output_type": "stream",
          "text": [
            "e:\\e\\exe\\MNE-Python\\Lib\\site-packages\\sklearn\\metrics\\_classification.py:1565: UndefinedMetricWarning: Precision is ill-defined and being set to 0.0 due to no predicted samples. Use `zero_division` parameter to control this behavior.\n",
            "  _warn_prf(average, modifier, f\"{metric.capitalize()} is\", len(result))\n"
          ]
        },
        {
          "name": "stdout",
          "output_type": "stream",
          "text": [
            "Task: S056: Left vs Right Fists | Acc: 0.74 | Prec: 0.00 | Rec: 0.00 | F1: 0.00\n",
            "Task: S057: Real vs Imagined Fists | Acc: 0.77 | Prec: 1.00 | Rec: 0.08 | F1: 0.14\n",
            "Task: S057: Left vs Right Fists | Acc: 0.75 | Prec: 1.00 | Rec: 0.07 | F1: 0.13\n"
          ]
        },
        {
          "name": "stderr",
          "output_type": "stream",
          "text": [
            "e:\\e\\exe\\MNE-Python\\Lib\\site-packages\\sklearn\\metrics\\_classification.py:1565: UndefinedMetricWarning: Precision is ill-defined and being set to 0.0 due to no predicted samples. Use `zero_division` parameter to control this behavior.\n",
            "  _warn_prf(average, modifier, f\"{metric.capitalize()} is\", len(result))\n"
          ]
        },
        {
          "name": "stdout",
          "output_type": "stream",
          "text": [
            "Task: S058: Real vs Imagined Fists | Acc: 0.75 | Prec: 0.00 | Rec: 0.00 | F1: 0.00\n",
            "Task: S058: Left vs Right Fists | Acc: 0.77 | Prec: 1.00 | Rec: 0.14 | F1: 0.25\n"
          ]
        },
        {
          "name": "stderr",
          "output_type": "stream",
          "text": [
            "e:\\e\\exe\\MNE-Python\\Lib\\site-packages\\sklearn\\metrics\\_classification.py:1565: UndefinedMetricWarning: Precision is ill-defined and being set to 0.0 due to no predicted samples. Use `zero_division` parameter to control this behavior.\n",
            "  _warn_prf(average, modifier, f\"{metric.capitalize()} is\", len(result))\n"
          ]
        },
        {
          "name": "stdout",
          "output_type": "stream",
          "text": [
            "Task: S059: Real vs Imagined Fists | Acc: 0.74 | Prec: 0.00 | Rec: 0.00 | F1: 0.00\n",
            "Task: S059: Left vs Right Fists | Acc: 0.73 | Prec: 0.33 | Rec: 0.04 | F1: 0.07\n"
          ]
        },
        {
          "name": "stderr",
          "output_type": "stream",
          "text": [
            "e:\\e\\exe\\MNE-Python\\Lib\\site-packages\\sklearn\\metrics\\_classification.py:1565: UndefinedMetricWarning: Precision is ill-defined and being set to 0.0 due to no predicted samples. Use `zero_division` parameter to control this behavior.\n",
            "  _warn_prf(average, modifier, f\"{metric.capitalize()} is\", len(result))\n"
          ]
        },
        {
          "name": "stdout",
          "output_type": "stream",
          "text": [
            "Task: S060: Real vs Imagined Fists | Acc: 0.74 | Prec: 0.00 | Rec: 0.00 | F1: 0.00\n",
            "Task: S060: Left vs Right Fists | Acc: 0.76 | Prec: 0.67 | Rec: 0.15 | F1: 0.24\n"
          ]
        },
        {
          "name": "stderr",
          "output_type": "stream",
          "text": [
            "e:\\e\\exe\\MNE-Python\\Lib\\site-packages\\sklearn\\metrics\\_classification.py:1565: UndefinedMetricWarning: Precision is ill-defined and being set to 0.0 due to no predicted samples. Use `zero_division` parameter to control this behavior.\n",
            "  _warn_prf(average, modifier, f\"{metric.capitalize()} is\", len(result))\n"
          ]
        },
        {
          "name": "stdout",
          "output_type": "stream",
          "text": [
            "Task: S061: Real vs Imagined Fists | Acc: 0.75 | Prec: 0.00 | Rec: 0.00 | F1: 0.00\n",
            "Task: S061: Left vs Right Fists | Acc: 0.70 | Prec: 0.20 | Rec: 0.04 | F1: 0.06\n"
          ]
        },
        {
          "name": "stderr",
          "output_type": "stream",
          "text": [
            "e:\\e\\exe\\MNE-Python\\Lib\\site-packages\\sklearn\\metrics\\_classification.py:1565: UndefinedMetricWarning: Precision is ill-defined and being set to 0.0 due to no predicted samples. Use `zero_division` parameter to control this behavior.\n",
            "  _warn_prf(average, modifier, f\"{metric.capitalize()} is\", len(result))\n"
          ]
        },
        {
          "name": "stdout",
          "output_type": "stream",
          "text": [
            "Task: S062: Real vs Imagined Fists | Acc: 0.74 | Prec: 0.00 | Rec: 0.00 | F1: 0.00\n",
            "Task: S062: Left vs Right Fists | Acc: 0.81 | Prec: 0.89 | Rec: 0.30 | F1: 0.44\n"
          ]
        },
        {
          "name": "stderr",
          "output_type": "stream",
          "text": [
            "e:\\e\\exe\\MNE-Python\\Lib\\site-packages\\sklearn\\metrics\\_classification.py:1565: UndefinedMetricWarning: Precision is ill-defined and being set to 0.0 due to no predicted samples. Use `zero_division` parameter to control this behavior.\n",
            "  _warn_prf(average, modifier, f\"{metric.capitalize()} is\", len(result))\n"
          ]
        },
        {
          "name": "stdout",
          "output_type": "stream",
          "text": [
            "Task: S063: Real vs Imagined Fists | Acc: 0.74 | Prec: 0.00 | Rec: 0.00 | F1: 0.00\n",
            "Task: S063: Left vs Right Fists | Acc: 0.73 | Prec: 0.00 | Rec: 0.00 | F1: 0.00\n"
          ]
        },
        {
          "name": "stderr",
          "output_type": "stream",
          "text": [
            "e:\\e\\exe\\MNE-Python\\Lib\\site-packages\\sklearn\\metrics\\_classification.py:1565: UndefinedMetricWarning: Precision is ill-defined and being set to 0.0 due to no predicted samples. Use `zero_division` parameter to control this behavior.\n",
            "  _warn_prf(average, modifier, f\"{metric.capitalize()} is\", len(result))\n"
          ]
        },
        {
          "name": "stdout",
          "output_type": "stream",
          "text": [
            "Task: S064: Real vs Imagined Fists | Acc: 0.75 | Prec: 0.00 | Rec: 0.00 | F1: 0.00\n"
          ]
        },
        {
          "name": "stderr",
          "output_type": "stream",
          "text": [
            "e:\\e\\exe\\MNE-Python\\Lib\\site-packages\\sklearn\\metrics\\_classification.py:1565: UndefinedMetricWarning: Precision is ill-defined and being set to 0.0 due to no predicted samples. Use `zero_division` parameter to control this behavior.\n",
            "  _warn_prf(average, modifier, f\"{metric.capitalize()} is\", len(result))\n"
          ]
        },
        {
          "name": "stdout",
          "output_type": "stream",
          "text": [
            "Task: S064: Left vs Right Fists | Acc: 0.75 | Prec: 0.00 | Rec: 0.00 | F1: 0.00\n",
            "Task: S065: Real vs Imagined Fists | Acc: 0.75 | Prec: 1.00 | Rec: 0.04 | F1: 0.07\n",
            "Task: S065: Left vs Right Fists | Acc: 0.75 | Prec: 1.00 | Rec: 0.04 | F1: 0.07\n"
          ]
        },
        {
          "name": "stderr",
          "output_type": "stream",
          "text": [
            "e:\\e\\exe\\MNE-Python\\Lib\\site-packages\\sklearn\\metrics\\_classification.py:1565: UndefinedMetricWarning: Precision is ill-defined and being set to 0.0 due to no predicted samples. Use `zero_division` parameter to control this behavior.\n",
            "  _warn_prf(average, modifier, f\"{metric.capitalize()} is\", len(result))\n"
          ]
        },
        {
          "name": "stdout",
          "output_type": "stream",
          "text": [
            "Task: S066: Real vs Imagined Fists | Acc: 0.74 | Prec: 0.00 | Rec: 0.00 | F1: 0.00\n"
          ]
        },
        {
          "name": "stderr",
          "output_type": "stream",
          "text": [
            "e:\\e\\exe\\MNE-Python\\Lib\\site-packages\\sklearn\\metrics\\_classification.py:1565: UndefinedMetricWarning: Precision is ill-defined and being set to 0.0 due to no predicted samples. Use `zero_division` parameter to control this behavior.\n",
            "  _warn_prf(average, modifier, f\"{metric.capitalize()} is\", len(result))\n"
          ]
        },
        {
          "name": "stdout",
          "output_type": "stream",
          "text": [
            "Task: S066: Left vs Right Fists | Acc: 0.74 | Prec: 0.00 | Rec: 0.00 | F1: 0.00\n",
            "Task: S067: Real vs Imagined Fists | Acc: 0.72 | Prec: 0.00 | Rec: 0.00 | F1: 0.00\n",
            "Task: S067: Left vs Right Fists | Acc: 0.77 | Prec: 0.71 | Rec: 0.19 | F1: 0.29\n",
            "Task: S068: Real vs Imagined Fists | Acc: 0.73 | Prec: 0.33 | Rec: 0.04 | F1: 0.07\n",
            "Task: S068: Left vs Right Fists | Acc: 0.73 | Prec: 0.33 | Rec: 0.04 | F1: 0.07\n"
          ]
        },
        {
          "name": "stderr",
          "output_type": "stream",
          "text": [
            "e:\\e\\exe\\MNE-Python\\Lib\\site-packages\\sklearn\\metrics\\_classification.py:1565: UndefinedMetricWarning: Precision is ill-defined and being set to 0.0 due to no predicted samples. Use `zero_division` parameter to control this behavior.\n",
            "  _warn_prf(average, modifier, f\"{metric.capitalize()} is\", len(result))\n"
          ]
        },
        {
          "name": "stdout",
          "output_type": "stream",
          "text": [
            "Task: S069: Real vs Imagined Fists | Acc: 0.74 | Prec: 0.00 | Rec: 0.00 | F1: 0.00\n",
            "Task: S069: Left vs Right Fists | Acc: 0.75 | Prec: 0.62 | Rec: 0.18 | F1: 0.28\n"
          ]
        },
        {
          "name": "stderr",
          "output_type": "stream",
          "text": [
            "e:\\e\\exe\\MNE-Python\\Lib\\site-packages\\sklearn\\metrics\\_classification.py:1565: UndefinedMetricWarning: Precision is ill-defined and being set to 0.0 due to no predicted samples. Use `zero_division` parameter to control this behavior.\n",
            "  _warn_prf(average, modifier, f\"{metric.capitalize()} is\", len(result))\n"
          ]
        },
        {
          "name": "stdout",
          "output_type": "stream",
          "text": [
            "Task: S070: Real vs Imagined Fists | Acc: 0.74 | Prec: 0.00 | Rec: 0.00 | F1: 0.00\n"
          ]
        },
        {
          "name": "stderr",
          "output_type": "stream",
          "text": [
            "e:\\e\\exe\\MNE-Python\\Lib\\site-packages\\sklearn\\metrics\\_classification.py:1565: UndefinedMetricWarning: Precision is ill-defined and being set to 0.0 due to no predicted samples. Use `zero_division` parameter to control this behavior.\n",
            "  _warn_prf(average, modifier, f\"{metric.capitalize()} is\", len(result))\n"
          ]
        },
        {
          "name": "stdout",
          "output_type": "stream",
          "text": [
            "Task: S070: Left vs Right Fists | Acc: 0.74 | Prec: 0.00 | Rec: 0.00 | F1: 0.00\n"
          ]
        },
        {
          "name": "stderr",
          "output_type": "stream",
          "text": [
            "e:\\e\\exe\\MNE-Python\\Lib\\site-packages\\sklearn\\metrics\\_classification.py:1565: UndefinedMetricWarning: Precision is ill-defined and being set to 0.0 due to no predicted samples. Use `zero_division` parameter to control this behavior.\n",
            "  _warn_prf(average, modifier, f\"{metric.capitalize()} is\", len(result))\n"
          ]
        },
        {
          "name": "stdout",
          "output_type": "stream",
          "text": [
            "Task: S071: Real vs Imagined Fists | Acc: 0.74 | Prec: 0.00 | Rec: 0.00 | F1: 0.00\n"
          ]
        },
        {
          "name": "stderr",
          "output_type": "stream",
          "text": [
            "e:\\e\\exe\\MNE-Python\\Lib\\site-packages\\sklearn\\metrics\\_classification.py:1565: UndefinedMetricWarning: Precision is ill-defined and being set to 0.0 due to no predicted samples. Use `zero_division` parameter to control this behavior.\n",
            "  _warn_prf(average, modifier, f\"{metric.capitalize()} is\", len(result))\n"
          ]
        },
        {
          "name": "stdout",
          "output_type": "stream",
          "text": [
            "Task: S071: Left vs Right Fists | Acc: 0.74 | Prec: 0.00 | Rec: 0.00 | F1: 0.00\n"
          ]
        },
        {
          "name": "stderr",
          "output_type": "stream",
          "text": [
            "e:\\e\\exe\\MNE-Python\\Lib\\site-packages\\sklearn\\metrics\\_classification.py:1565: UndefinedMetricWarning: Precision is ill-defined and being set to 0.0 due to no predicted samples. Use `zero_division` parameter to control this behavior.\n",
            "  _warn_prf(average, modifier, f\"{metric.capitalize()} is\", len(result))\n"
          ]
        },
        {
          "name": "stdout",
          "output_type": "stream",
          "text": [
            "Task: S072: Real vs Imagined Fists | Acc: 0.75 | Prec: 0.00 | Rec: 0.00 | F1: 0.00\n",
            "Task: S072: Left vs Right Fists | Acc: 0.77 | Prec: 1.00 | Rec: 0.12 | F1: 0.21\n"
          ]
        },
        {
          "name": "stderr",
          "output_type": "stream",
          "text": [
            "e:\\e\\exe\\MNE-Python\\Lib\\site-packages\\sklearn\\metrics\\_classification.py:1565: UndefinedMetricWarning: Precision is ill-defined and being set to 0.0 due to no predicted samples. Use `zero_division` parameter to control this behavior.\n",
            "  _warn_prf(average, modifier, f\"{metric.capitalize()} is\", len(result))\n"
          ]
        },
        {
          "name": "stdout",
          "output_type": "stream",
          "text": [
            "Task: S073: Real vs Imagined Fists | Acc: 0.75 | Prec: 0.00 | Rec: 0.00 | F1: 0.00\n"
          ]
        },
        {
          "name": "stderr",
          "output_type": "stream",
          "text": [
            "e:\\e\\exe\\MNE-Python\\Lib\\site-packages\\sklearn\\metrics\\_classification.py:1565: UndefinedMetricWarning: Precision is ill-defined and being set to 0.0 due to no predicted samples. Use `zero_division` parameter to control this behavior.\n",
            "  _warn_prf(average, modifier, f\"{metric.capitalize()} is\", len(result))\n"
          ]
        },
        {
          "name": "stdout",
          "output_type": "stream",
          "text": [
            "Task: S073: Left vs Right Fists | Acc: 0.75 | Prec: 0.00 | Rec: 0.00 | F1: 0.00\n"
          ]
        },
        {
          "name": "stderr",
          "output_type": "stream",
          "text": [
            "e:\\e\\exe\\MNE-Python\\Lib\\site-packages\\sklearn\\metrics\\_classification.py:1565: UndefinedMetricWarning: Precision is ill-defined and being set to 0.0 due to no predicted samples. Use `zero_division` parameter to control this behavior.\n",
            "  _warn_prf(average, modifier, f\"{metric.capitalize()} is\", len(result))\n"
          ]
        },
        {
          "name": "stdout",
          "output_type": "stream",
          "text": [
            "Task: S074: Real vs Imagined Fists | Acc: 0.75 | Prec: 0.00 | Rec: 0.00 | F1: 0.00\n"
          ]
        },
        {
          "name": "stderr",
          "output_type": "stream",
          "text": [
            "e:\\e\\exe\\MNE-Python\\Lib\\site-packages\\sklearn\\metrics\\_classification.py:1565: UndefinedMetricWarning: Precision is ill-defined and being set to 0.0 due to no predicted samples. Use `zero_division` parameter to control this behavior.\n",
            "  _warn_prf(average, modifier, f\"{metric.capitalize()} is\", len(result))\n"
          ]
        },
        {
          "name": "stdout",
          "output_type": "stream",
          "text": [
            "Task: S074: Left vs Right Fists | Acc: 0.75 | Prec: 0.00 | Rec: 0.00 | F1: 0.00\n"
          ]
        },
        {
          "name": "stderr",
          "output_type": "stream",
          "text": [
            "e:\\e\\exe\\MNE-Python\\Lib\\site-packages\\sklearn\\metrics\\_classification.py:1565: UndefinedMetricWarning: Precision is ill-defined and being set to 0.0 due to no predicted samples. Use `zero_division` parameter to control this behavior.\n",
            "  _warn_prf(average, modifier, f\"{metric.capitalize()} is\", len(result))\n"
          ]
        },
        {
          "name": "stdout",
          "output_type": "stream",
          "text": [
            "Task: S075: Real vs Imagined Fists | Acc: 0.73 | Prec: 0.00 | Rec: 0.00 | F1: 0.00\n"
          ]
        },
        {
          "name": "stderr",
          "output_type": "stream",
          "text": [
            "e:\\e\\exe\\MNE-Python\\Lib\\site-packages\\sklearn\\metrics\\_classification.py:1565: UndefinedMetricWarning: Precision is ill-defined and being set to 0.0 due to no predicted samples. Use `zero_division` parameter to control this behavior.\n",
            "  _warn_prf(average, modifier, f\"{metric.capitalize()} is\", len(result))\n"
          ]
        },
        {
          "name": "stdout",
          "output_type": "stream",
          "text": [
            "Task: S075: Left vs Right Fists | Acc: 0.75 | Prec: 0.00 | Rec: 0.00 | F1: 0.00\n",
            "Task: S076: Real vs Imagined Fists | Acc: 0.75 | Prec: 0.50 | Rec: 0.04 | F1: 0.07\n"
          ]
        },
        {
          "name": "stderr",
          "output_type": "stream",
          "text": [
            "e:\\e\\exe\\MNE-Python\\Lib\\site-packages\\sklearn\\metrics\\_classification.py:1565: UndefinedMetricWarning: Precision is ill-defined and being set to 0.0 due to no predicted samples. Use `zero_division` parameter to control this behavior.\n",
            "  _warn_prf(average, modifier, f\"{metric.capitalize()} is\", len(result))\n"
          ]
        },
        {
          "name": "stdout",
          "output_type": "stream",
          "text": [
            "Task: S076: Left vs Right Fists | Acc: 0.75 | Prec: 0.00 | Rec: 0.00 | F1: 0.00\n",
            "Task: S077: Real vs Imagined Fists | Acc: 0.79 | Prec: 1.00 | Rec: 0.21 | F1: 0.35\n"
          ]
        },
        {
          "name": "stderr",
          "output_type": "stream",
          "text": [
            "e:\\e\\exe\\MNE-Python\\Lib\\site-packages\\sklearn\\metrics\\_classification.py:1565: UndefinedMetricWarning: Precision is ill-defined and being set to 0.0 due to no predicted samples. Use `zero_division` parameter to control this behavior.\n",
            "  _warn_prf(average, modifier, f\"{metric.capitalize()} is\", len(result))\n"
          ]
        },
        {
          "name": "stdout",
          "output_type": "stream",
          "text": [
            "Task: S077: Left vs Right Fists | Acc: 0.75 | Prec: 0.00 | Rec: 0.00 | F1: 0.00\n"
          ]
        },
        {
          "name": "stderr",
          "output_type": "stream",
          "text": [
            "e:\\e\\exe\\MNE-Python\\Lib\\site-packages\\sklearn\\metrics\\_classification.py:1565: UndefinedMetricWarning: Precision is ill-defined and being set to 0.0 due to no predicted samples. Use `zero_division` parameter to control this behavior.\n",
            "  _warn_prf(average, modifier, f\"{metric.capitalize()} is\", len(result))\n"
          ]
        },
        {
          "name": "stdout",
          "output_type": "stream",
          "text": [
            "Task: S078: Real vs Imagined Fists | Acc: 0.74 | Prec: 0.00 | Rec: 0.00 | F1: 0.00\n"
          ]
        },
        {
          "name": "stderr",
          "output_type": "stream",
          "text": [
            "e:\\e\\exe\\MNE-Python\\Lib\\site-packages\\sklearn\\metrics\\_classification.py:1565: UndefinedMetricWarning: Precision is ill-defined and being set to 0.0 due to no predicted samples. Use `zero_division` parameter to control this behavior.\n",
            "  _warn_prf(average, modifier, f\"{metric.capitalize()} is\", len(result))\n"
          ]
        },
        {
          "name": "stdout",
          "output_type": "stream",
          "text": [
            "Task: S078: Left vs Right Fists | Acc: 0.74 | Prec: 0.00 | Rec: 0.00 | F1: 0.00\n",
            "Task: S079: Real vs Imagined Fists | Acc: 0.72 | Prec: 0.00 | Rec: 0.00 | F1: 0.00\n"
          ]
        },
        {
          "name": "stderr",
          "output_type": "stream",
          "text": [
            "e:\\e\\exe\\MNE-Python\\Lib\\site-packages\\sklearn\\metrics\\_classification.py:1565: UndefinedMetricWarning: Precision is ill-defined and being set to 0.0 due to no predicted samples. Use `zero_division` parameter to control this behavior.\n",
            "  _warn_prf(average, modifier, f\"{metric.capitalize()} is\", len(result))\n"
          ]
        },
        {
          "name": "stdout",
          "output_type": "stream",
          "text": [
            "Task: S079: Left vs Right Fists | Acc: 0.74 | Prec: 0.00 | Rec: 0.00 | F1: 0.00\n"
          ]
        },
        {
          "name": "stderr",
          "output_type": "stream",
          "text": [
            "e:\\e\\exe\\MNE-Python\\Lib\\site-packages\\sklearn\\metrics\\_classification.py:1565: UndefinedMetricWarning: Precision is ill-defined and being set to 0.0 due to no predicted samples. Use `zero_division` parameter to control this behavior.\n",
            "  _warn_prf(average, modifier, f\"{metric.capitalize()} is\", len(result))\n"
          ]
        },
        {
          "name": "stdout",
          "output_type": "stream",
          "text": [
            "Task: S080: Real vs Imagined Fists | Acc: 0.74 | Prec: 0.00 | Rec: 0.00 | F1: 0.00\n",
            "Task: S080: Left vs Right Fists | Acc: 0.74 | Prec: 1.00 | Rec: 0.04 | F1: 0.07\n",
            "Task: S081: Real vs Imagined Fists | Acc: 0.74 | Prec: 1.00 | Rec: 0.04 | F1: 0.07\n"
          ]
        },
        {
          "name": "stderr",
          "output_type": "stream",
          "text": [
            "e:\\e\\exe\\MNE-Python\\Lib\\site-packages\\sklearn\\metrics\\_classification.py:1565: UndefinedMetricWarning: Precision is ill-defined and being set to 0.0 due to no predicted samples. Use `zero_division` parameter to control this behavior.\n",
            "  _warn_prf(average, modifier, f\"{metric.capitalize()} is\", len(result))\n"
          ]
        },
        {
          "name": "stdout",
          "output_type": "stream",
          "text": [
            "Task: S081: Left vs Right Fists | Acc: 0.75 | Prec: 0.00 | Rec: 0.00 | F1: 0.00\n"
          ]
        },
        {
          "name": "stderr",
          "output_type": "stream",
          "text": [
            "e:\\e\\exe\\MNE-Python\\Lib\\site-packages\\sklearn\\metrics\\_classification.py:1565: UndefinedMetricWarning: Precision is ill-defined and being set to 0.0 due to no predicted samples. Use `zero_division` parameter to control this behavior.\n",
            "  _warn_prf(average, modifier, f\"{metric.capitalize()} is\", len(result))\n"
          ]
        },
        {
          "name": "stdout",
          "output_type": "stream",
          "text": [
            "Task: S082: Real vs Imagined Fists | Acc: 0.75 | Prec: 0.00 | Rec: 0.00 | F1: 0.00\n",
            "Task: S082: Left vs Right Fists | Acc: 0.74 | Prec: 1.00 | Rec: 0.04 | F1: 0.07\n",
            "Task: S083: Real vs Imagined Fists | Acc: 0.75 | Prec: 0.57 | Rec: 0.29 | F1: 0.38\n",
            "Task: S083: Left vs Right Fists | Acc: 0.75 | Prec: 1.00 | Rec: 0.04 | F1: 0.07\n"
          ]
        },
        {
          "name": "stderr",
          "output_type": "stream",
          "text": [
            "e:\\e\\exe\\MNE-Python\\Lib\\site-packages\\sklearn\\metrics\\_classification.py:1565: UndefinedMetricWarning: Precision is ill-defined and being set to 0.0 due to no predicted samples. Use `zero_division` parameter to control this behavior.\n",
            "  _warn_prf(average, modifier, f\"{metric.capitalize()} is\", len(result))\n"
          ]
        },
        {
          "name": "stdout",
          "output_type": "stream",
          "text": [
            "Task: S084: Real vs Imagined Fists | Acc: 0.74 | Prec: 0.00 | Rec: 0.00 | F1: 0.00\n",
            "Task: S084: Left vs Right Fists | Acc: 0.74 | Prec: 1.00 | Rec: 0.04 | F1: 0.07\n",
            "Task: S085: Real vs Imagined Fists | Acc: 0.78 | Prec: 1.00 | Rec: 0.15 | F1: 0.26\n",
            "Task: S085: Left vs Right Fists | Acc: 0.74 | Prec: 0.50 | Rec: 0.11 | F1: 0.18\n",
            "Task: S086: Real vs Imagined Fists | Acc: 0.72 | Prec: 0.40 | Rec: 0.07 | F1: 0.12\n",
            "Task: S086: Left vs Right Fists | Acc: 0.75 | Prec: 0.60 | Rec: 0.11 | F1: 0.19\n"
          ]
        },
        {
          "name": "stderr",
          "output_type": "stream",
          "text": [
            "e:\\e\\exe\\MNE-Python\\Lib\\site-packages\\sklearn\\metrics\\_classification.py:1565: UndefinedMetricWarning: Precision is ill-defined and being set to 0.0 due to no predicted samples. Use `zero_division` parameter to control this behavior.\n",
            "  _warn_prf(average, modifier, f\"{metric.capitalize()} is\", len(result))\n"
          ]
        },
        {
          "name": "stdout",
          "output_type": "stream",
          "text": [
            "Task: S087: Real vs Imagined Fists | Acc: 0.73 | Prec: 0.00 | Rec: 0.00 | F1: 0.00\n"
          ]
        },
        {
          "name": "stderr",
          "output_type": "stream",
          "text": [
            "e:\\e\\exe\\MNE-Python\\Lib\\site-packages\\sklearn\\metrics\\_classification.py:1565: UndefinedMetricWarning: Precision is ill-defined and being set to 0.0 due to no predicted samples. Use `zero_division` parameter to control this behavior.\n",
            "  _warn_prf(average, modifier, f\"{metric.capitalize()} is\", len(result))\n"
          ]
        },
        {
          "name": "stdout",
          "output_type": "stream",
          "text": [
            "Task: S087: Left vs Right Fists | Acc: 0.75 | Prec: 0.00 | Rec: 0.00 | F1: 0.00\n"
          ]
        },
        {
          "name": "stderr",
          "output_type": "stream",
          "text": [
            "e:\\e\\exe\\MNE-Python\\Lib\\site-packages\\sklearn\\metrics\\_classification.py:1565: UndefinedMetricWarning: Precision is ill-defined and being set to 0.0 due to no predicted samples. Use `zero_division` parameter to control this behavior.\n",
            "  _warn_prf(average, modifier, f\"{metric.capitalize()} is\", len(result))\n"
          ]
        },
        {
          "name": "stdout",
          "output_type": "stream",
          "text": [
            "Task: S088: Real vs Imagined Fists | Acc: 0.75 | Prec: 0.00 | Rec: 0.00 | F1: 0.00\n"
          ]
        },
        {
          "name": "stderr",
          "output_type": "stream",
          "text": [
            "e:\\e\\exe\\MNE-Python\\Lib\\site-packages\\sklearn\\metrics\\_classification.py:1565: UndefinedMetricWarning: Precision is ill-defined and being set to 0.0 due to no predicted samples. Use `zero_division` parameter to control this behavior.\n",
            "  _warn_prf(average, modifier, f\"{metric.capitalize()} is\", len(result))\n"
          ]
        },
        {
          "name": "stdout",
          "output_type": "stream",
          "text": [
            "Task: S088: Left vs Right Fists | Acc: 0.74 | Prec: 0.00 | Rec: 0.00 | F1: 0.00\n",
            "Task: S089: Real vs Imagined Fists | Acc: 0.76 | Prec: 1.00 | Rec: 0.04 | F1: 0.07\n"
          ]
        },
        {
          "name": "stderr",
          "output_type": "stream",
          "text": [
            "e:\\e\\exe\\MNE-Python\\Lib\\site-packages\\sklearn\\metrics\\_classification.py:1565: UndefinedMetricWarning: Precision is ill-defined and being set to 0.0 due to no predicted samples. Use `zero_division` parameter to control this behavior.\n",
            "  _warn_prf(average, modifier, f\"{metric.capitalize()} is\", len(result))\n"
          ]
        },
        {
          "name": "stdout",
          "output_type": "stream",
          "text": [
            "Task: S089: Left vs Right Fists | Acc: 0.73 | Prec: 0.00 | Rec: 0.00 | F1: 0.00\n"
          ]
        },
        {
          "name": "stderr",
          "output_type": "stream",
          "text": [
            "e:\\e\\exe\\MNE-Python\\Lib\\site-packages\\sklearn\\metrics\\_classification.py:1565: UndefinedMetricWarning: Precision is ill-defined and being set to 0.0 due to no predicted samples. Use `zero_division` parameter to control this behavior.\n",
            "  _warn_prf(average, modifier, f\"{metric.capitalize()} is\", len(result))\n"
          ]
        },
        {
          "name": "stdout",
          "output_type": "stream",
          "text": [
            "Task: S090: Real vs Imagined Fists | Acc: 0.73 | Prec: 0.00 | Rec: 0.00 | F1: 0.00\n"
          ]
        },
        {
          "name": "stderr",
          "output_type": "stream",
          "text": [
            "e:\\e\\exe\\MNE-Python\\Lib\\site-packages\\sklearn\\metrics\\_classification.py:1565: UndefinedMetricWarning: Precision is ill-defined and being set to 0.0 due to no predicted samples. Use `zero_division` parameter to control this behavior.\n",
            "  _warn_prf(average, modifier, f\"{metric.capitalize()} is\", len(result))\n"
          ]
        },
        {
          "name": "stdout",
          "output_type": "stream",
          "text": [
            "Task: S090: Left vs Right Fists | Acc: 0.74 | Prec: 0.00 | Rec: 0.00 | F1: 0.00\n",
            "Task: S091: Real vs Imagined Fists | Acc: 0.73 | Prec: 0.50 | Rec: 0.04 | F1: 0.07\n"
          ]
        },
        {
          "name": "stderr",
          "output_type": "stream",
          "text": [
            "e:\\e\\exe\\MNE-Python\\Lib\\site-packages\\sklearn\\metrics\\_classification.py:1565: UndefinedMetricWarning: Precision is ill-defined and being set to 0.0 due to no predicted samples. Use `zero_division` parameter to control this behavior.\n",
            "  _warn_prf(average, modifier, f\"{metric.capitalize()} is\", len(result))\n"
          ]
        },
        {
          "name": "stdout",
          "output_type": "stream",
          "text": [
            "Task: S091: Left vs Right Fists | Acc: 0.74 | Prec: 0.00 | Rec: 0.00 | F1: 0.00\n"
          ]
        },
        {
          "name": "stderr",
          "output_type": "stream",
          "text": [
            "e:\\e\\exe\\MNE-Python\\Lib\\site-packages\\sklearn\\metrics\\_classification.py:1565: UndefinedMetricWarning: Precision is ill-defined and being set to 0.0 due to no predicted samples. Use `zero_division` parameter to control this behavior.\n",
            "  _warn_prf(average, modifier, f\"{metric.capitalize()} is\", len(result))\n"
          ]
        },
        {
          "name": "stdout",
          "output_type": "stream",
          "text": [
            "Task: S092: Real vs Imagined Fists | Acc: 0.75 | Prec: 0.00 | Rec: 0.00 | F1: 0.00\n",
            "Task: S092: Left vs Right Fists | Acc: 0.72 | Prec: 0.25 | Rec: 0.03 | F1: 0.05\n",
            "Task: S093: Real vs Imagined Fists | Acc: 0.74 | Prec: 0.50 | Rec: 0.04 | F1: 0.07\n",
            "Task: S093: Left vs Right Fists | Acc: 0.72 | Prec: 0.00 | Rec: 0.00 | F1: 0.00\n",
            "Task: S094: Real vs Imagined Fists | Acc: 0.76 | Prec: 1.00 | Rec: 0.07 | F1: 0.14\n",
            "Task: S094: Left vs Right Fists | Acc: 0.77 | Prec: 1.00 | Rec: 0.11 | F1: 0.20\n"
          ]
        },
        {
          "name": "stderr",
          "output_type": "stream",
          "text": [
            "e:\\e\\exe\\MNE-Python\\Lib\\site-packages\\sklearn\\metrics\\_classification.py:1565: UndefinedMetricWarning: Precision is ill-defined and being set to 0.0 due to no predicted samples. Use `zero_division` parameter to control this behavior.\n",
            "  _warn_prf(average, modifier, f\"{metric.capitalize()} is\", len(result))\n"
          ]
        },
        {
          "name": "stdout",
          "output_type": "stream",
          "text": [
            "Task: S095: Real vs Imagined Fists | Acc: 0.73 | Prec: 0.00 | Rec: 0.00 | F1: 0.00\n"
          ]
        },
        {
          "name": "stderr",
          "output_type": "stream",
          "text": [
            "e:\\e\\exe\\MNE-Python\\Lib\\site-packages\\sklearn\\metrics\\_classification.py:1565: UndefinedMetricWarning: Precision is ill-defined and being set to 0.0 due to no predicted samples. Use `zero_division` parameter to control this behavior.\n",
            "  _warn_prf(average, modifier, f\"{metric.capitalize()} is\", len(result))\n"
          ]
        },
        {
          "name": "stdout",
          "output_type": "stream",
          "text": [
            "Task: S095: Left vs Right Fists | Acc: 0.74 | Prec: 0.00 | Rec: 0.00 | F1: 0.00\n",
            "Task: S096: Real vs Imagined Fists | Acc: 0.75 | Prec: 1.00 | Rec: 0.04 | F1: 0.07\n"
          ]
        },
        {
          "name": "stderr",
          "output_type": "stream",
          "text": [
            "e:\\e\\exe\\MNE-Python\\Lib\\site-packages\\sklearn\\metrics\\_classification.py:1565: UndefinedMetricWarning: Precision is ill-defined and being set to 0.0 due to no predicted samples. Use `zero_division` parameter to control this behavior.\n",
            "  _warn_prf(average, modifier, f\"{metric.capitalize()} is\", len(result))\n"
          ]
        },
        {
          "name": "stdout",
          "output_type": "stream",
          "text": [
            "Task: S096: Left vs Right Fists | Acc: 0.74 | Prec: 0.00 | Rec: 0.00 | F1: 0.00\n"
          ]
        },
        {
          "name": "stderr",
          "output_type": "stream",
          "text": [
            "e:\\e\\exe\\MNE-Python\\Lib\\site-packages\\sklearn\\metrics\\_classification.py:1565: UndefinedMetricWarning: Precision is ill-defined and being set to 0.0 due to no predicted samples. Use `zero_division` parameter to control this behavior.\n",
            "  _warn_prf(average, modifier, f\"{metric.capitalize()} is\", len(result))\n"
          ]
        },
        {
          "name": "stdout",
          "output_type": "stream",
          "text": [
            "Task: S097: Real vs Imagined Fists | Acc: 0.74 | Prec: 0.00 | Rec: 0.00 | F1: 0.00\n"
          ]
        },
        {
          "name": "stderr",
          "output_type": "stream",
          "text": [
            "e:\\e\\exe\\MNE-Python\\Lib\\site-packages\\sklearn\\metrics\\_classification.py:1565: UndefinedMetricWarning: Precision is ill-defined and being set to 0.0 due to no predicted samples. Use `zero_division` parameter to control this behavior.\n",
            "  _warn_prf(average, modifier, f\"{metric.capitalize()} is\", len(result))\n"
          ]
        },
        {
          "name": "stdout",
          "output_type": "stream",
          "text": [
            "Task: S097: Left vs Right Fists | Acc: 0.73 | Prec: 0.00 | Rec: 0.00 | F1: 0.00\n",
            "Task: S098: Real vs Imagined Fists | Acc: 0.75 | Prec: 1.00 | Rec: 0.04 | F1: 0.07\n"
          ]
        },
        {
          "name": "stderr",
          "output_type": "stream",
          "text": [
            "e:\\e\\exe\\MNE-Python\\Lib\\site-packages\\sklearn\\metrics\\_classification.py:1565: UndefinedMetricWarning: Precision is ill-defined and being set to 0.0 due to no predicted samples. Use `zero_division` parameter to control this behavior.\n",
            "  _warn_prf(average, modifier, f\"{metric.capitalize()} is\", len(result))\n"
          ]
        },
        {
          "name": "stdout",
          "output_type": "stream",
          "text": [
            "Task: S098: Left vs Right Fists | Acc: 0.74 | Prec: 0.00 | Rec: 0.00 | F1: 0.00\n",
            "Task: S099: Real vs Imagined Fists | Acc: 0.71 | Prec: 0.29 | Rec: 0.07 | F1: 0.12\n"
          ]
        },
        {
          "name": "stderr",
          "output_type": "stream",
          "text": [
            "e:\\e\\exe\\MNE-Python\\Lib\\site-packages\\sklearn\\metrics\\_classification.py:1565: UndefinedMetricWarning: Precision is ill-defined and being set to 0.0 due to no predicted samples. Use `zero_division` parameter to control this behavior.\n",
            "  _warn_prf(average, modifier, f\"{metric.capitalize()} is\", len(result))\n"
          ]
        },
        {
          "name": "stdout",
          "output_type": "stream",
          "text": [
            "Task: S099: Left vs Right Fists | Acc: 0.74 | Prec: 0.00 | Rec: 0.00 | F1: 0.00\n"
          ]
        },
        {
          "name": "stderr",
          "output_type": "stream",
          "text": [
            "e:\\e\\exe\\MNE-Python\\Lib\\site-packages\\sklearn\\metrics\\_classification.py:1565: UndefinedMetricWarning: Precision is ill-defined and being set to 0.0 due to no predicted samples. Use `zero_division` parameter to control this behavior.\n",
            "  _warn_prf(average, modifier, f\"{metric.capitalize()} is\", len(result))\n"
          ]
        },
        {
          "name": "stdout",
          "output_type": "stream",
          "text": [
            "Task: S100: Real vs Imagined Fists | Acc: 0.73 | Prec: 0.00 | Rec: 0.00 | F1: 0.00\n",
            "Task: S100: Left vs Right Fists | Acc: 0.71 | Prec: 0.00 | Rec: 0.00 | F1: 0.00\n"
          ]
        },
        {
          "name": "stderr",
          "output_type": "stream",
          "text": [
            "e:\\e\\exe\\MNE-Python\\Lib\\site-packages\\sklearn\\metrics\\_classification.py:1565: UndefinedMetricWarning: Precision is ill-defined and being set to 0.0 due to no predicted samples. Use `zero_division` parameter to control this behavior.\n",
            "  _warn_prf(average, modifier, f\"{metric.capitalize()} is\", len(result))\n"
          ]
        },
        {
          "name": "stdout",
          "output_type": "stream",
          "text": [
            "Task: S101: Real vs Imagined Fists | Acc: 0.74 | Prec: 0.00 | Rec: 0.00 | F1: 0.00\n"
          ]
        },
        {
          "name": "stderr",
          "output_type": "stream",
          "text": [
            "e:\\e\\exe\\MNE-Python\\Lib\\site-packages\\sklearn\\metrics\\_classification.py:1565: UndefinedMetricWarning: Precision is ill-defined and being set to 0.0 due to no predicted samples. Use `zero_division` parameter to control this behavior.\n",
            "  _warn_prf(average, modifier, f\"{metric.capitalize()} is\", len(result))\n"
          ]
        },
        {
          "name": "stdout",
          "output_type": "stream",
          "text": [
            "Task: S101: Left vs Right Fists | Acc: 0.74 | Prec: 0.00 | Rec: 0.00 | F1: 0.00\n"
          ]
        },
        {
          "name": "stderr",
          "output_type": "stream",
          "text": [
            "e:\\e\\exe\\MNE-Python\\Lib\\site-packages\\sklearn\\metrics\\_classification.py:1565: UndefinedMetricWarning: Precision is ill-defined and being set to 0.0 due to no predicted samples. Use `zero_division` parameter to control this behavior.\n",
            "  _warn_prf(average, modifier, f\"{metric.capitalize()} is\", len(result))\n"
          ]
        },
        {
          "name": "stdout",
          "output_type": "stream",
          "text": [
            "Task: S102: Real vs Imagined Fists | Acc: 0.75 | Prec: 0.00 | Rec: 0.00 | F1: 0.00\n",
            "Task: S102: Left vs Right Fists | Acc: 0.77 | Prec: 0.60 | Rec: 0.24 | F1: 0.34\n",
            "Task: S103: Real vs Imagined Fists | Acc: 0.72 | Prec: 0.00 | Rec: 0.00 | F1: 0.00\n"
          ]
        },
        {
          "name": "stderr",
          "output_type": "stream",
          "text": [
            "e:\\e\\exe\\MNE-Python\\Lib\\site-packages\\sklearn\\metrics\\_classification.py:1565: UndefinedMetricWarning: Precision is ill-defined and being set to 0.0 due to no predicted samples. Use `zero_division` parameter to control this behavior.\n",
            "  _warn_prf(average, modifier, f\"{metric.capitalize()} is\", len(result))\n"
          ]
        },
        {
          "name": "stdout",
          "output_type": "stream",
          "text": [
            "Task: S103: Left vs Right Fists | Acc: 0.74 | Prec: 0.00 | Rec: 0.00 | F1: 0.00\n",
            "Task: S104: Real vs Imagined Fists | Acc: 0.78 | Prec: 1.00 | Rec: 0.12 | F1: 0.21\n"
          ]
        },
        {
          "name": "stderr",
          "output_type": "stream",
          "text": [
            "e:\\e\\exe\\MNE-Python\\Lib\\site-packages\\sklearn\\metrics\\_classification.py:1565: UndefinedMetricWarning: Precision is ill-defined and being set to 0.0 due to no predicted samples. Use `zero_division` parameter to control this behavior.\n",
            "  _warn_prf(average, modifier, f\"{metric.capitalize()} is\", len(result))\n"
          ]
        },
        {
          "name": "stdout",
          "output_type": "stream",
          "text": [
            "Task: S104: Left vs Right Fists | Acc: 0.74 | Prec: 0.00 | Rec: 0.00 | F1: 0.00\n",
            "Task: S105: Real vs Imagined Fists | Acc: 0.77 | Prec: 1.00 | Rec: 0.11 | F1: 0.20\n"
          ]
        },
        {
          "name": "stderr",
          "output_type": "stream",
          "text": [
            "e:\\e\\exe\\MNE-Python\\Lib\\site-packages\\sklearn\\metrics\\_classification.py:1565: UndefinedMetricWarning: Precision is ill-defined and being set to 0.0 due to no predicted samples. Use `zero_division` parameter to control this behavior.\n",
            "  _warn_prf(average, modifier, f\"{metric.capitalize()} is\", len(result))\n"
          ]
        },
        {
          "name": "stdout",
          "output_type": "stream",
          "text": [
            "Task: S105: Left vs Right Fists | Acc: 0.74 | Prec: 0.00 | Rec: 0.00 | F1: 0.00\n"
          ]
        },
        {
          "name": "stderr",
          "output_type": "stream",
          "text": [
            "e:\\e\\exe\\MNE-Python\\Lib\\site-packages\\sklearn\\metrics\\_classification.py:1565: UndefinedMetricWarning: Precision is ill-defined and being set to 0.0 due to no predicted samples. Use `zero_division` parameter to control this behavior.\n",
            "  _warn_prf(average, modifier, f\"{metric.capitalize()} is\", len(result))\n"
          ]
        },
        {
          "name": "stdout",
          "output_type": "stream",
          "text": [
            "Task: S106: Real vs Imagined Fists | Acc: 0.74 | Prec: 0.00 | Rec: 0.00 | F1: 0.00\n",
            "Task: S106: Left vs Right Fists | Acc: 0.74 | Prec: 1.00 | Rec: 0.04 | F1: 0.07\n"
          ]
        },
        {
          "name": "stderr",
          "output_type": "stream",
          "text": [
            "e:\\e\\exe\\MNE-Python\\Lib\\site-packages\\sklearn\\metrics\\_classification.py:1565: UndefinedMetricWarning: Precision is ill-defined and being set to 0.0 due to no predicted samples. Use `zero_division` parameter to control this behavior.\n",
            "  _warn_prf(average, modifier, f\"{metric.capitalize()} is\", len(result))\n"
          ]
        },
        {
          "name": "stdout",
          "output_type": "stream",
          "text": [
            "Task: S107: Real vs Imagined Fists | Acc: 0.74 | Prec: 0.00 | Rec: 0.00 | F1: 0.00\n",
            "Task: S107: Left vs Right Fists | Acc: 0.74 | Prec: 0.50 | Rec: 0.04 | F1: 0.07\n"
          ]
        },
        {
          "name": "stderr",
          "output_type": "stream",
          "text": [
            "e:\\e\\exe\\MNE-Python\\Lib\\site-packages\\sklearn\\metrics\\_classification.py:1565: UndefinedMetricWarning: Precision is ill-defined and being set to 0.0 due to no predicted samples. Use `zero_division` parameter to control this behavior.\n",
            "  _warn_prf(average, modifier, f\"{metric.capitalize()} is\", len(result))\n"
          ]
        },
        {
          "name": "stdout",
          "output_type": "stream",
          "text": [
            "Task: S108: Real vs Imagined Fists | Acc: 0.73 | Prec: 0.00 | Rec: 0.00 | F1: 0.00\n"
          ]
        },
        {
          "name": "stderr",
          "output_type": "stream",
          "text": [
            "e:\\e\\exe\\MNE-Python\\Lib\\site-packages\\sklearn\\metrics\\_classification.py:1565: UndefinedMetricWarning: Precision is ill-defined and being set to 0.0 due to no predicted samples. Use `zero_division` parameter to control this behavior.\n",
            "  _warn_prf(average, modifier, f\"{metric.capitalize()} is\", len(result))\n"
          ]
        },
        {
          "name": "stdout",
          "output_type": "stream",
          "text": [
            "Task: S108: Left vs Right Fists | Acc: 0.74 | Prec: 0.00 | Rec: 0.00 | F1: 0.00\n",
            "Task: S109: Real vs Imagined Fists | Acc: 0.75 | Prec: 0.50 | Rec: 0.04 | F1: 0.07\n"
          ]
        },
        {
          "name": "stderr",
          "output_type": "stream",
          "text": [
            "e:\\e\\exe\\MNE-Python\\Lib\\site-packages\\sklearn\\metrics\\_classification.py:1565: UndefinedMetricWarning: Precision is ill-defined and being set to 0.0 due to no predicted samples. Use `zero_division` parameter to control this behavior.\n",
            "  _warn_prf(average, modifier, f\"{metric.capitalize()} is\", len(result))\n"
          ]
        },
        {
          "name": "stdout",
          "output_type": "stream",
          "text": [
            "Task: S109: Left vs Right Fists | Acc: 0.73 | Prec: 0.00 | Rec: 0.00 | F1: 0.00\n"
          ]
        }
      ],
      "source": [
        "subject_results = []\n",
        "subject_files = {}\n",
        "\n",
        "for fname in sorted(os.listdir(features_dir)):\n",
        "    if fname.endswith('_features.npy'):\n",
        "        subj_run_match = re.match(r\"(S\\d{3})R(\\d{2})\", fname)\n",
        "        if subj_run_match:\n",
        "            subj_id = subj_run_match.group(1)\n",
        "            subject_files.setdefault(subj_id, []).append(fname.replace('_features.npy', ''))\n",
        "\n",
        "for subj_id, base_names in subject_files.items():\n",
        "    all_X, all_y = [], []\n",
        "    for base_name in base_names:\n",
        "        feat_path = os.path.join(features_dir, f\"{base_name}_features.npy\")\n",
        "        label_path = os.path.join(labels_dir, f\"{base_name}_labels.npy\")\n",
        "        if os.path.exists(label_path):\n",
        "            all_X.append(np.load(feat_path))\n",
        "            all_y.append(np.load(label_path))\n",
        "    if not all_X:\n",
        "        continue\n",
        "\n",
        "    X_all = np.vstack(all_X)\n",
        "    y_all = np.concatenate(all_y)\n",
        "\n",
        "    # Task 5: Real vs Imagined Fists\n",
        "    fist_ids = [1, 2, 3, 4]\n",
        "    real_ids = [1, 2]\n",
        "    imag_ids = [3, 4]\n",
        "    mask_fist = np.isin(y_all, fist_ids)\n",
        "    y_realimag = np.where(np.isin(y_all[mask_fist], real_ids), 0, 1)\n",
        "    evaluate_model(\n",
        "        X_all[mask_fist], y_realimag,\n",
        "        f\"{subj_id}: Real vs Imagined Fists\",\n",
        "        save_dir=save_plot_dir,\n",
        "        prefix=f\"{subj_id}_Real_vs_Imagined_Fists\",\n",
        "        subject_id=subj_id,\n",
        "        run_num=None,\n",
        "        results_list=subject_results\n",
        "    )\n",
        "\n",
        "    # Task 6: Left vs Right Fists\n",
        "    left_ids = [1, 3]\n",
        "    right_ids = [2, 4]\n",
        "    mask_lr = np.isin(y_all, left_ids + right_ids)\n",
        "    y_leftright = np.where(np.isin(y_all[mask_lr], left_ids), 0, 1)\n",
        "    evaluate_model(\n",
        "        X_all[mask_lr], y_leftright,\n",
        "        f\"{subj_id}: Left vs Right Fists\",\n",
        "        save_dir=save_plot_dir,\n",
        "        prefix=f\"{subj_id}_Left_vs_Right_Fists\",\n",
        "        subject_id=subj_id,\n",
        "        run_num=None,\n",
        "        results_list=subject_results\n",
        "    )\n"
      ]
    },
    {
      "cell_type": "code",
      "execution_count": 7,
      "metadata": {
        "id": "lraY0MwBZ_4z"
      },
      "outputs": [
        {
          "name": "stdout",
          "output_type": "stream",
          "text": [
            "Metrics saved to: E:\\AMAR\\git\\EEG_DATAREAD\\edf_analyser\\preprocessed_data_psd_erd\\classification_metrics_summary.csv\n"
          ]
        },
        {
          "data": {
            "text/html": [
              "<div>\n",
              "<style scoped>\n",
              "    .dataframe tbody tr th:only-of-type {\n",
              "        vertical-align: middle;\n",
              "    }\n",
              "\n",
              "    .dataframe tbody tr th {\n",
              "        vertical-align: top;\n",
              "    }\n",
              "\n",
              "    .dataframe thead th {\n",
              "        text-align: right;\n",
              "    }\n",
              "</style>\n",
              "<table border=\"1\" class=\"dataframe\">\n",
              "  <thead>\n",
              "    <tr style=\"text-align: right;\">\n",
              "      <th></th>\n",
              "      <th>Subject</th>\n",
              "      <th>Run</th>\n",
              "      <th>Task</th>\n",
              "      <th>Accuracy</th>\n",
              "      <th>Precision</th>\n",
              "      <th>Recall</th>\n",
              "      <th>F1</th>\n",
              "    </tr>\n",
              "  </thead>\n",
              "  <tbody>\n",
              "    <tr>\n",
              "      <th>0</th>\n",
              "      <td>S001</td>\n",
              "      <td>3.0</td>\n",
              "      <td>S001 Run 3: Real Left vs Real Right</td>\n",
              "      <td>0.5714</td>\n",
              "      <td>0.0</td>\n",
              "      <td>0.0000</td>\n",
              "      <td>0.0</td>\n",
              "    </tr>\n",
              "    <tr>\n",
              "      <th>1</th>\n",
              "      <td>S001</td>\n",
              "      <td>7.0</td>\n",
              "      <td>S001 Run 7: Real Left vs Real Right</td>\n",
              "      <td>0.5714</td>\n",
              "      <td>0.0</td>\n",
              "      <td>0.0000</td>\n",
              "      <td>0.0</td>\n",
              "    </tr>\n",
              "    <tr>\n",
              "      <th>2</th>\n",
              "      <td>S001</td>\n",
              "      <td>11.0</td>\n",
              "      <td>S001 Run 11: Real Left vs Real Right</td>\n",
              "      <td>0.7143</td>\n",
              "      <td>0.0</td>\n",
              "      <td>0.0000</td>\n",
              "      <td>0.0</td>\n",
              "    </tr>\n",
              "    <tr>\n",
              "      <th>3</th>\n",
              "      <td>S002</td>\n",
              "      <td>3.0</td>\n",
              "      <td>S002 Run 3: Real Left vs Real Right</td>\n",
              "      <td>0.8571</td>\n",
              "      <td>1.0</td>\n",
              "      <td>0.6667</td>\n",
              "      <td>0.8</td>\n",
              "    </tr>\n",
              "    <tr>\n",
              "      <th>4</th>\n",
              "      <td>S002</td>\n",
              "      <td>7.0</td>\n",
              "      <td>S002 Run 7: Real Left vs Real Right</td>\n",
              "      <td>0.7143</td>\n",
              "      <td>0.0</td>\n",
              "      <td>0.0000</td>\n",
              "      <td>0.0</td>\n",
              "    </tr>\n",
              "  </tbody>\n",
              "</table>\n",
              "</div>"
            ],
            "text/plain": [
              "  Subject   Run                                  Task  Accuracy  Precision  \\\n",
              "0    S001   3.0   S001 Run 3: Real Left vs Real Right    0.5714        0.0   \n",
              "1    S001   7.0   S001 Run 7: Real Left vs Real Right    0.5714        0.0   \n",
              "2    S001  11.0  S001 Run 11: Real Left vs Real Right    0.7143        0.0   \n",
              "3    S002   3.0   S002 Run 3: Real Left vs Real Right    0.8571        1.0   \n",
              "4    S002   7.0   S002 Run 7: Real Left vs Real Right    0.7143        0.0   \n",
              "\n",
              "   Recall   F1  \n",
              "0  0.0000  0.0  \n",
              "1  0.0000  0.0  \n",
              "2  0.0000  0.0  \n",
              "3  0.6667  0.8  \n",
              "4  0.0000  0.0  "
            ]
          },
          "execution_count": 7,
          "metadata": {},
          "output_type": "execute_result"
        }
      ],
      "source": [
        "# Combine and save all results\n",
        "df = pd.DataFrame(run_results + subject_results)\n",
        "csv_path = os.path.join(base_dir, \"classification_metrics_summary.csv\")\n",
        "df.to_csv(csv_path, index=False)\n",
        "print(f\"Metrics saved to: {csv_path}\")\n",
        "df.head()\n"
      ]
    }
  ],
  "metadata": {
    "colab": {
      "provenance": []
    },
    "kernelspec": {
      "display_name": "base",
      "language": "python",
      "name": "python3"
    },
    "language_info": {
      "codemirror_mode": {
        "name": "ipython",
        "version": 3
      },
      "file_extension": ".py",
      "mimetype": "text/x-python",
      "name": "python",
      "nbconvert_exporter": "python",
      "pygments_lexer": "ipython3",
      "version": "3.12.7"
    }
  },
  "nbformat": 4,
  "nbformat_minor": 0
}
