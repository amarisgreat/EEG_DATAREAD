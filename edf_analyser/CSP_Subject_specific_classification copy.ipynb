{
  "cells": [
    {
      "cell_type": "code",
      "execution_count": 3,
      "metadata": {
        "id": "ZGRxuKVRoT_h"
      },
      "outputs": [
        {
          "name": "stdout",
          "output_type": "stream",
          "text": [
            "Note: you may need to restart the kernel to use updated packages.\n"
          ]
        }
      ],
      "source": [
        "pip install -q scikit-learn imbalanced-learn matplotlib seaborn"
      ]
    },
    {
      "cell_type": "code",
      "execution_count": 4,
      "metadata": {
        "id": "g2_5DrQswrPg"
      },
      "outputs": [],
      "source": [
        "import os\n",
        "import numpy as np\n",
        "import matplotlib.pyplot as plt\n",
        "import seaborn as sns\n",
        "import re\n",
        "import pandas as pd\n",
        "from sklearn.model_selection import train_test_split\n",
        "from sklearn.metrics import confusion_matrix, accuracy_score, precision_score, recall_score, f1_score\n",
        "from sklearn.manifold import TSNE\n",
        "from sklearn.svm import SVC\n"
      ]
    },
    {
      "cell_type": "code",
      "execution_count": 5,
      "metadata": {
        "id": "B58MQP8ywT6m"
      },
      "outputs": [],
      "source": [
        "global_class_map = {\n",
        "    'rest': 0,\n",
        "    'real_left_fist': 1,\n",
        "    'real_right_fist': 2,\n",
        "    'imagined_left_fist': 3,\n",
        "    'imagined_right_fist': 4,\n",
        "    'real_both_fists': 5,\n",
        "    'real_both_feet': 6,\n",
        "    'imagined_both_fists': 7,\n",
        "    'imagined_both_feet': 8\n",
        "}\n",
        "\n",
        "def get_class_ids_from_run(run_number):\n",
        "    if run_number in [3, 7, 11]:\n",
        "        return {'rest': 'rest', 'real_left_fist': 'real_left_fist', 'real_right_fist': 'real_right_fist'}\n",
        "    elif run_number in [4, 8, 12]:\n",
        "        return {'rest': 'rest', 'imagined_left_fist': 'imagined_left_fist', 'imagined_right_fist': 'imagined_right_fist'}\n",
        "    elif run_number in [5, 9, 13]:\n",
        "        return {'rest': 'rest', 'real_both_fists': 'real_both_fists', 'real_both_feet': 'real_both_feet'}\n",
        "    elif run_number in [6, 10, 14]:\n",
        "        return {'rest': 'rest', 'imagined_both_fists': 'imagined_both_fists', 'imagined_both_feet': 'imagined_both_feet'}\n",
        "    else:\n",
        "        return None\n"
      ]
    },
    {
      "cell_type": "code",
      "execution_count": 6,
      "metadata": {
        "id": "ksmmrxSIwXXi"
      },
      "outputs": [],
      "source": [
        "def evaluate_model(X, y, task_name, save_dir=None, prefix=None, subject_id=None, run_num=None, results_list=None):\n",
        "    X_train, X_test, y_train, y_test = train_test_split(X, y, stratify=y, test_size=0.3, random_state=42)\n",
        "\n",
        "    clf = SVC(kernel='rbf', C=1, gamma='scale')\n",
        "    clf.fit(X_train, y_train)\n",
        "    y_pred = clf.predict(X_test)\n",
        "\n",
        "    acc = accuracy_score(y_test, y_pred)\n",
        "    prec = precision_score(y_test, y_pred, average='binary')\n",
        "    rec = recall_score(y_test, y_pred, average='binary')\n",
        "    f1 = f1_score(y_test, y_pred, average='binary')\n",
        "\n",
        "    print(f\"Task: {task_name} | Acc: {acc:.2f} | Prec: {prec:.2f} | Rec: {rec:.2f} | F1: {f1:.2f}\")\n",
        "\n",
        "    if results_list is not None:\n",
        "        results_list.append({\n",
        "            \"Subject\": subject_id,\n",
        "            \"Run\": run_num,\n",
        "            \"Task\": task_name,\n",
        "            \"Accuracy\": round(acc, 4),\n",
        "            \"Precision\": round(prec, 4),\n",
        "            \"Recall\": round(rec, 4),\n",
        "            \"F1\": round(f1, 4)\n",
        "        })\n",
        "\n",
        "    # Confusion Matrix\n",
        "    cm = confusion_matrix(y_test, y_pred)\n",
        "    plt.figure(figsize=(4, 3))\n",
        "    sns.heatmap(cm, annot=True, fmt=\"d\", cmap=\"Blues\", cbar=False)\n",
        "    plt.title(f\"Confusion Matrix: {task_name}\")\n",
        "    plt.xlabel(\"Predicted\")\n",
        "    plt.ylabel(\"True\")\n",
        "    if save_dir and prefix:\n",
        "        cm_path = os.path.join(save_dir, f\"{prefix}_confusion_matrix.png\")\n",
        "        plt.savefig(cm_path)\n",
        "    plt.close()\n",
        "\n",
        "    # t-SNE\n",
        "    if len(X) >= 10:\n",
        "        try:\n",
        "            tsne = TSNE(n_components=2, perplexity=min(30, len(X) // 3), init='random', random_state=42)\n",
        "            X_embedded = tsne.fit_transform(X)\n",
        "            plt.figure(figsize=(5, 4))\n",
        "            sns.scatterplot(x=X_embedded[:, 0], y=X_embedded[:, 1], hue=y, palette='Set1')\n",
        "            plt.title(f\"t-SNE: {task_name}\")\n",
        "            if save_dir and prefix:\n",
        "                tsne_path = os.path.join(save_dir, f\"{prefix}_tsne.png\")\n",
        "                plt.savefig(tsne_path)\n",
        "            plt.close()\n",
        "        except Exception as e:\n",
        "            print(f\"[{task_name}] t-SNE failed: {e}\")\n"
      ]
    },
    {
      "cell_type": "code",
      "execution_count": 7,
      "metadata": {
        "colab": {
          "base_uri": "https://localhost:8080/"
        },
        "id": "IRnJfjspw1lu",
        "outputId": "b6dd714e-43c2-40f9-f9cf-b9961f907187"
      },
      "outputs": [
        {
          "name": "stderr",
          "output_type": "stream",
          "text": [
            "e:\\e\\exe\\MNE-Python\\Lib\\site-packages\\sklearn\\metrics\\_classification.py:1565: UndefinedMetricWarning: Precision is ill-defined and being set to 0.0 due to no predicted samples. Use `zero_division` parameter to control this behavior.\n",
            "  _warn_prf(average, modifier, f\"{metric.capitalize()} is\", len(result))\n"
          ]
        },
        {
          "name": "stdout",
          "output_type": "stream",
          "text": [
            "Task: S001 Run 3: Real Left vs Real Right | Acc: 0.57 | Prec: 0.00 | Rec: 0.00 | F1: 0.00\n"
          ]
        },
        {
          "name": "stderr",
          "output_type": "stream",
          "text": [
            "e:\\e\\exe\\MNE-Python\\Lib\\site-packages\\sklearn\\metrics\\_classification.py:1565: UndefinedMetricWarning: Precision is ill-defined and being set to 0.0 due to no predicted samples. Use `zero_division` parameter to control this behavior.\n",
            "  _warn_prf(average, modifier, f\"{metric.capitalize()} is\", len(result))\n"
          ]
        },
        {
          "name": "stdout",
          "output_type": "stream",
          "text": [
            "Task: S001 Run 7: Real Left vs Real Right | Acc: 0.57 | Prec: 0.00 | Rec: 0.00 | F1: 0.00\n"
          ]
        },
        {
          "name": "stderr",
          "output_type": "stream",
          "text": [
            "e:\\e\\exe\\MNE-Python\\Lib\\site-packages\\sklearn\\metrics\\_classification.py:1565: UndefinedMetricWarning: Precision is ill-defined and being set to 0.0 due to no predicted samples. Use `zero_division` parameter to control this behavior.\n",
            "  _warn_prf(average, modifier, f\"{metric.capitalize()} is\", len(result))\n"
          ]
        },
        {
          "name": "stdout",
          "output_type": "stream",
          "text": [
            "Task: S001 Run 11: Real Left vs Real Right | Acc: 0.71 | Prec: 0.00 | Rec: 0.00 | F1: 0.00\n",
            "Task: S002 Run 3: Real Left vs Real Right | Acc: 0.86 | Prec: 1.00 | Rec: 0.67 | F1: 0.80\n"
          ]
        },
        {
          "name": "stderr",
          "output_type": "stream",
          "text": [
            "e:\\e\\exe\\MNE-Python\\Lib\\site-packages\\sklearn\\metrics\\_classification.py:1565: UndefinedMetricWarning: Precision is ill-defined and being set to 0.0 due to no predicted samples. Use `zero_division` parameter to control this behavior.\n",
            "  _warn_prf(average, modifier, f\"{metric.capitalize()} is\", len(result))\n"
          ]
        },
        {
          "name": "stdout",
          "output_type": "stream",
          "text": [
            "Task: S002 Run 7: Real Left vs Real Right | Acc: 0.71 | Prec: 0.00 | Rec: 0.00 | F1: 0.00\n",
            "Task: S002 Run 11: Real Left vs Real Right | Acc: 0.71 | Prec: 1.00 | Rec: 0.33 | F1: 0.50\n",
            "Task: S003 Run 3: Real Left vs Real Right | Acc: 0.86 | Prec: 1.00 | Rec: 0.50 | F1: 0.67\n"
          ]
        },
        {
          "name": "stderr",
          "output_type": "stream",
          "text": [
            "e:\\e\\exe\\MNE-Python\\Lib\\site-packages\\sklearn\\metrics\\_classification.py:1565: UndefinedMetricWarning: Precision is ill-defined and being set to 0.0 due to no predicted samples. Use `zero_division` parameter to control this behavior.\n",
            "  _warn_prf(average, modifier, f\"{metric.capitalize()} is\", len(result))\n"
          ]
        },
        {
          "name": "stdout",
          "output_type": "stream",
          "text": [
            "Task: S003 Run 7: Real Left vs Real Right | Acc: 0.57 | Prec: 0.00 | Rec: 0.00 | F1: 0.00\n"
          ]
        },
        {
          "name": "stderr",
          "output_type": "stream",
          "text": [
            "e:\\e\\exe\\MNE-Python\\Lib\\site-packages\\sklearn\\metrics\\_classification.py:1565: UndefinedMetricWarning: Precision is ill-defined and being set to 0.0 due to no predicted samples. Use `zero_division` parameter to control this behavior.\n",
            "  _warn_prf(average, modifier, f\"{metric.capitalize()} is\", len(result))\n"
          ]
        },
        {
          "name": "stdout",
          "output_type": "stream",
          "text": [
            "Task: S003 Run 11: Real Left vs Real Right | Acc: 0.71 | Prec: 0.00 | Rec: 0.00 | F1: 0.00\n",
            "Task: S004 Run 3: Real Left vs Real Right | Acc: 0.57 | Prec: 0.33 | Rec: 0.50 | F1: 0.40\n"
          ]
        },
        {
          "name": "stderr",
          "output_type": "stream",
          "text": [
            "e:\\e\\exe\\MNE-Python\\Lib\\site-packages\\sklearn\\metrics\\_classification.py:1565: UndefinedMetricWarning: Precision is ill-defined and being set to 0.0 due to no predicted samples. Use `zero_division` parameter to control this behavior.\n",
            "  _warn_prf(average, modifier, f\"{metric.capitalize()} is\", len(result))\n"
          ]
        },
        {
          "name": "stdout",
          "output_type": "stream",
          "text": [
            "Task: S004 Run 7: Real Left vs Real Right | Acc: 0.71 | Prec: 0.00 | Rec: 0.00 | F1: 0.00\n",
            "Task: S004 Run 11: Real Left vs Real Right | Acc: 0.86 | Prec: 1.00 | Rec: 0.67 | F1: 0.80\n",
            "Task: S005 Run 3: Real Left vs Real Right | Acc: 0.71 | Prec: 0.50 | Rec: 0.50 | F1: 0.50\n"
          ]
        },
        {
          "name": "stderr",
          "output_type": "stream",
          "text": [
            "e:\\e\\exe\\MNE-Python\\Lib\\site-packages\\sklearn\\metrics\\_classification.py:1565: UndefinedMetricWarning: Precision is ill-defined and being set to 0.0 due to no predicted samples. Use `zero_division` parameter to control this behavior.\n",
            "  _warn_prf(average, modifier, f\"{metric.capitalize()} is\", len(result))\n"
          ]
        },
        {
          "name": "stdout",
          "output_type": "stream",
          "text": [
            "Task: S005 Run 7: Real Left vs Real Right | Acc: 0.57 | Prec: 0.00 | Rec: 0.00 | F1: 0.00\n"
          ]
        },
        {
          "name": "stderr",
          "output_type": "stream",
          "text": [
            "e:\\e\\exe\\MNE-Python\\Lib\\site-packages\\sklearn\\metrics\\_classification.py:1565: UndefinedMetricWarning: Precision is ill-defined and being set to 0.0 due to no predicted samples. Use `zero_division` parameter to control this behavior.\n",
            "  _warn_prf(average, modifier, f\"{metric.capitalize()} is\", len(result))\n"
          ]
        },
        {
          "name": "stdout",
          "output_type": "stream",
          "text": [
            "Task: S005 Run 11: Real Left vs Real Right | Acc: 0.57 | Prec: 0.00 | Rec: 0.00 | F1: 0.00\n",
            "Task: S006 Run 3: Real Left vs Real Right | Acc: 0.71 | Prec: 1.00 | Rec: 0.33 | F1: 0.50\n"
          ]
        },
        {
          "name": "stderr",
          "output_type": "stream",
          "text": [
            "e:\\e\\exe\\MNE-Python\\Lib\\site-packages\\sklearn\\metrics\\_classification.py:1565: UndefinedMetricWarning: Precision is ill-defined and being set to 0.0 due to no predicted samples. Use `zero_division` parameter to control this behavior.\n",
            "  _warn_prf(average, modifier, f\"{metric.capitalize()} is\", len(result))\n"
          ]
        },
        {
          "name": "stdout",
          "output_type": "stream",
          "text": [
            "Task: S006 Run 7: Real Left vs Real Right | Acc: 0.71 | Prec: 0.00 | Rec: 0.00 | F1: 0.00\n"
          ]
        },
        {
          "name": "stderr",
          "output_type": "stream",
          "text": [
            "e:\\e\\exe\\MNE-Python\\Lib\\site-packages\\sklearn\\metrics\\_classification.py:1565: UndefinedMetricWarning: Precision is ill-defined and being set to 0.0 due to no predicted samples. Use `zero_division` parameter to control this behavior.\n",
            "  _warn_prf(average, modifier, f\"{metric.capitalize()} is\", len(result))\n"
          ]
        },
        {
          "name": "stdout",
          "output_type": "stream",
          "text": [
            "Task: S006 Run 11: Real Left vs Real Right | Acc: 0.71 | Prec: 0.00 | Rec: 0.00 | F1: 0.00\n",
            "Task: S007 Run 3: Real Left vs Real Right | Acc: 0.86 | Prec: 1.00 | Rec: 0.50 | F1: 0.67\n",
            "Task: S007 Run 7: Real Left vs Real Right | Acc: 0.86 | Prec: 1.00 | Rec: 0.67 | F1: 0.80\n",
            "Task: S007 Run 11: Real Left vs Real Right | Acc: 0.57 | Prec: 0.50 | Rec: 0.33 | F1: 0.40\n"
          ]
        },
        {
          "name": "stderr",
          "output_type": "stream",
          "text": [
            "e:\\e\\exe\\MNE-Python\\Lib\\site-packages\\sklearn\\metrics\\_classification.py:1565: UndefinedMetricWarning: Precision is ill-defined and being set to 0.0 due to no predicted samples. Use `zero_division` parameter to control this behavior.\n",
            "  _warn_prf(average, modifier, f\"{metric.capitalize()} is\", len(result))\n"
          ]
        },
        {
          "name": "stdout",
          "output_type": "stream",
          "text": [
            "Task: S008 Run 3: Real Left vs Real Right | Acc: 0.71 | Prec: 0.00 | Rec: 0.00 | F1: 0.00\n",
            "Task: S008 Run 7: Real Left vs Real Right | Acc: 0.86 | Prec: 1.00 | Rec: 0.50 | F1: 0.67\n",
            "Task: S008 Run 11: Real Left vs Real Right | Acc: 1.00 | Prec: 1.00 | Rec: 1.00 | F1: 1.00\n"
          ]
        },
        {
          "name": "stderr",
          "output_type": "stream",
          "text": [
            "e:\\e\\exe\\MNE-Python\\Lib\\site-packages\\sklearn\\metrics\\_classification.py:1565: UndefinedMetricWarning: Precision is ill-defined and being set to 0.0 due to no predicted samples. Use `zero_division` parameter to control this behavior.\n",
            "  _warn_prf(average, modifier, f\"{metric.capitalize()} is\", len(result))\n"
          ]
        },
        {
          "name": "stdout",
          "output_type": "stream",
          "text": [
            "Task: S009 Run 3: Real Left vs Real Right | Acc: 0.57 | Prec: 0.00 | Rec: 0.00 | F1: 0.00\n"
          ]
        },
        {
          "name": "stderr",
          "output_type": "stream",
          "text": [
            "e:\\e\\exe\\MNE-Python\\Lib\\site-packages\\sklearn\\metrics\\_classification.py:1565: UndefinedMetricWarning: Precision is ill-defined and being set to 0.0 due to no predicted samples. Use `zero_division` parameter to control this behavior.\n",
            "  _warn_prf(average, modifier, f\"{metric.capitalize()} is\", len(result))\n"
          ]
        },
        {
          "name": "stdout",
          "output_type": "stream",
          "text": [
            "Task: S009 Run 7: Real Left vs Real Right | Acc: 0.57 | Prec: 0.00 | Rec: 0.00 | F1: 0.00\n"
          ]
        },
        {
          "name": "stderr",
          "output_type": "stream",
          "text": [
            "e:\\e\\exe\\MNE-Python\\Lib\\site-packages\\sklearn\\metrics\\_classification.py:1565: UndefinedMetricWarning: Precision is ill-defined and being set to 0.0 due to no predicted samples. Use `zero_division` parameter to control this behavior.\n",
            "  _warn_prf(average, modifier, f\"{metric.capitalize()} is\", len(result))\n"
          ]
        },
        {
          "name": "stdout",
          "output_type": "stream",
          "text": [
            "Task: S009 Run 11: Real Left vs Real Right | Acc: 0.71 | Prec: 0.00 | Rec: 0.00 | F1: 0.00\n"
          ]
        },
        {
          "name": "stderr",
          "output_type": "stream",
          "text": [
            "e:\\e\\exe\\MNE-Python\\Lib\\site-packages\\sklearn\\metrics\\_classification.py:1565: UndefinedMetricWarning: Precision is ill-defined and being set to 0.0 due to no predicted samples. Use `zero_division` parameter to control this behavior.\n",
            "  _warn_prf(average, modifier, f\"{metric.capitalize()} is\", len(result))\n"
          ]
        },
        {
          "name": "stdout",
          "output_type": "stream",
          "text": [
            "Task: S010 Run 3: Real Left vs Real Right | Acc: 0.57 | Prec: 0.00 | Rec: 0.00 | F1: 0.00\n"
          ]
        },
        {
          "name": "stderr",
          "output_type": "stream",
          "text": [
            "e:\\e\\exe\\MNE-Python\\Lib\\site-packages\\sklearn\\metrics\\_classification.py:1565: UndefinedMetricWarning: Precision is ill-defined and being set to 0.0 due to no predicted samples. Use `zero_division` parameter to control this behavior.\n",
            "  _warn_prf(average, modifier, f\"{metric.capitalize()} is\", len(result))\n"
          ]
        },
        {
          "name": "stdout",
          "output_type": "stream",
          "text": [
            "Task: S010 Run 7: Real Left vs Real Right | Acc: 0.57 | Prec: 0.00 | Rec: 0.00 | F1: 0.00\n",
            "Task: S010 Run 11: Real Left vs Real Right | Acc: 0.43 | Prec: 0.00 | Rec: 0.00 | F1: 0.00\n",
            "Task: S011 Run 3: Real Left vs Real Right | Acc: 0.86 | Prec: 1.00 | Rec: 0.50 | F1: 0.67\n"
          ]
        },
        {
          "name": "stderr",
          "output_type": "stream",
          "text": [
            "e:\\e\\exe\\MNE-Python\\Lib\\site-packages\\sklearn\\metrics\\_classification.py:1565: UndefinedMetricWarning: Precision is ill-defined and being set to 0.0 due to no predicted samples. Use `zero_division` parameter to control this behavior.\n",
            "  _warn_prf(average, modifier, f\"{metric.capitalize()} is\", len(result))\n"
          ]
        },
        {
          "name": "stdout",
          "output_type": "stream",
          "text": [
            "Task: S011 Run 7: Real Left vs Real Right | Acc: 0.71 | Prec: 0.00 | Rec: 0.00 | F1: 0.00\n"
          ]
        },
        {
          "name": "stderr",
          "output_type": "stream",
          "text": [
            "e:\\e\\exe\\MNE-Python\\Lib\\site-packages\\sklearn\\metrics\\_classification.py:1565: UndefinedMetricWarning: Precision is ill-defined and being set to 0.0 due to no predicted samples. Use `zero_division` parameter to control this behavior.\n",
            "  _warn_prf(average, modifier, f\"{metric.capitalize()} is\", len(result))\n"
          ]
        },
        {
          "name": "stdout",
          "output_type": "stream",
          "text": [
            "Task: S011 Run 11: Real Left vs Real Right | Acc: 0.57 | Prec: 0.00 | Rec: 0.00 | F1: 0.00\n",
            "Task: S012 Run 3: Real Left vs Real Right | Acc: 0.57 | Prec: 0.50 | Rec: 0.33 | F1: 0.40\n",
            "Task: S012 Run 7: Real Left vs Real Right | Acc: 0.71 | Prec: 1.00 | Rec: 0.33 | F1: 0.50\n"
          ]
        },
        {
          "name": "stderr",
          "output_type": "stream",
          "text": [
            "e:\\e\\exe\\MNE-Python\\Lib\\site-packages\\sklearn\\metrics\\_classification.py:1565: UndefinedMetricWarning: Precision is ill-defined and being set to 0.0 due to no predicted samples. Use `zero_division` parameter to control this behavior.\n",
            "  _warn_prf(average, modifier, f\"{metric.capitalize()} is\", len(result))\n"
          ]
        },
        {
          "name": "stdout",
          "output_type": "stream",
          "text": [
            "Task: S012 Run 11: Real Left vs Real Right | Acc: 0.57 | Prec: 0.00 | Rec: 0.00 | F1: 0.00\n"
          ]
        },
        {
          "name": "stderr",
          "output_type": "stream",
          "text": [
            "e:\\e\\exe\\MNE-Python\\Lib\\site-packages\\sklearn\\metrics\\_classification.py:1565: UndefinedMetricWarning: Precision is ill-defined and being set to 0.0 due to no predicted samples. Use `zero_division` parameter to control this behavior.\n",
            "  _warn_prf(average, modifier, f\"{metric.capitalize()} is\", len(result))\n"
          ]
        },
        {
          "name": "stdout",
          "output_type": "stream",
          "text": [
            "Task: S013 Run 3: Real Left vs Real Right | Acc: 0.57 | Prec: 0.00 | Rec: 0.00 | F1: 0.00\n",
            "Task: S013 Run 7: Real Left vs Real Right | Acc: 0.43 | Prec: 0.00 | Rec: 0.00 | F1: 0.00\n"
          ]
        },
        {
          "name": "stderr",
          "output_type": "stream",
          "text": [
            "e:\\e\\exe\\MNE-Python\\Lib\\site-packages\\sklearn\\metrics\\_classification.py:1565: UndefinedMetricWarning: Precision is ill-defined and being set to 0.0 due to no predicted samples. Use `zero_division` parameter to control this behavior.\n",
            "  _warn_prf(average, modifier, f\"{metric.capitalize()} is\", len(result))\n"
          ]
        },
        {
          "name": "stdout",
          "output_type": "stream",
          "text": [
            "Task: S013 Run 11: Real Left vs Real Right | Acc: 0.57 | Prec: 0.00 | Rec: 0.00 | F1: 0.00\n",
            "Task: S014 Run 3: Real Left vs Real Right | Acc: 0.71 | Prec: 0.50 | Rec: 0.50 | F1: 0.50\n"
          ]
        },
        {
          "name": "stderr",
          "output_type": "stream",
          "text": [
            "e:\\e\\exe\\MNE-Python\\Lib\\site-packages\\sklearn\\metrics\\_classification.py:1565: UndefinedMetricWarning: Precision is ill-defined and being set to 0.0 due to no predicted samples. Use `zero_division` parameter to control this behavior.\n",
            "  _warn_prf(average, modifier, f\"{metric.capitalize()} is\", len(result))\n"
          ]
        },
        {
          "name": "stdout",
          "output_type": "stream",
          "text": [
            "Task: S014 Run 7: Real Left vs Real Right | Acc: 0.71 | Prec: 0.00 | Rec: 0.00 | F1: 0.00\n"
          ]
        },
        {
          "name": "stderr",
          "output_type": "stream",
          "text": [
            "e:\\e\\exe\\MNE-Python\\Lib\\site-packages\\sklearn\\metrics\\_classification.py:1565: UndefinedMetricWarning: Precision is ill-defined and being set to 0.0 due to no predicted samples. Use `zero_division` parameter to control this behavior.\n",
            "  _warn_prf(average, modifier, f\"{metric.capitalize()} is\", len(result))\n"
          ]
        },
        {
          "name": "stdout",
          "output_type": "stream",
          "text": [
            "Task: S014 Run 11: Real Left vs Real Right | Acc: 0.57 | Prec: 0.00 | Rec: 0.00 | F1: 0.00\n"
          ]
        },
        {
          "name": "stderr",
          "output_type": "stream",
          "text": [
            "e:\\e\\exe\\MNE-Python\\Lib\\site-packages\\sklearn\\metrics\\_classification.py:1565: UndefinedMetricWarning: Precision is ill-defined and being set to 0.0 due to no predicted samples. Use `zero_division` parameter to control this behavior.\n",
            "  _warn_prf(average, modifier, f\"{metric.capitalize()} is\", len(result))\n"
          ]
        },
        {
          "name": "stdout",
          "output_type": "stream",
          "text": [
            "Task: S015 Run 3: Real Left vs Real Right | Acc: 0.71 | Prec: 0.00 | Rec: 0.00 | F1: 0.00\n",
            "Task: S015 Run 7: Real Left vs Real Right | Acc: 0.71 | Prec: 0.50 | Rec: 0.50 | F1: 0.50\n"
          ]
        },
        {
          "name": "stderr",
          "output_type": "stream",
          "text": [
            "e:\\e\\exe\\MNE-Python\\Lib\\site-packages\\sklearn\\metrics\\_classification.py:1565: UndefinedMetricWarning: Precision is ill-defined and being set to 0.0 due to no predicted samples. Use `zero_division` parameter to control this behavior.\n",
            "  _warn_prf(average, modifier, f\"{metric.capitalize()} is\", len(result))\n"
          ]
        },
        {
          "name": "stdout",
          "output_type": "stream",
          "text": [
            "Task: S015 Run 11: Real Left vs Real Right | Acc: 0.57 | Prec: 0.00 | Rec: 0.00 | F1: 0.00\n",
            "Task: S016 Run 3: Real Left vs Real Right | Acc: 0.43 | Prec: 0.00 | Rec: 0.00 | F1: 0.00\n"
          ]
        },
        {
          "name": "stderr",
          "output_type": "stream",
          "text": [
            "e:\\e\\exe\\MNE-Python\\Lib\\site-packages\\sklearn\\metrics\\_classification.py:1565: UndefinedMetricWarning: Precision is ill-defined and being set to 0.0 due to no predicted samples. Use `zero_division` parameter to control this behavior.\n",
            "  _warn_prf(average, modifier, f\"{metric.capitalize()} is\", len(result))\n"
          ]
        },
        {
          "name": "stdout",
          "output_type": "stream",
          "text": [
            "Task: S016 Run 7: Real Left vs Real Right | Acc: 0.71 | Prec: 0.00 | Rec: 0.00 | F1: 0.00\n",
            "Task: S016 Run 11: Real Left vs Real Right | Acc: 0.71 | Prec: 1.00 | Rec: 0.33 | F1: 0.50\n"
          ]
        },
        {
          "name": "stderr",
          "output_type": "stream",
          "text": [
            "e:\\e\\exe\\MNE-Python\\Lib\\site-packages\\sklearn\\metrics\\_classification.py:1565: UndefinedMetricWarning: Precision is ill-defined and being set to 0.0 due to no predicted samples. Use `zero_division` parameter to control this behavior.\n",
            "  _warn_prf(average, modifier, f\"{metric.capitalize()} is\", len(result))\n"
          ]
        },
        {
          "name": "stdout",
          "output_type": "stream",
          "text": [
            "Task: S017 Run 3: Real Left vs Real Right | Acc: 0.57 | Prec: 0.00 | Rec: 0.00 | F1: 0.00\n",
            "Task: S017 Run 7: Real Left vs Real Right | Acc: 0.57 | Prec: 0.50 | Rec: 0.33 | F1: 0.40\n"
          ]
        },
        {
          "name": "stderr",
          "output_type": "stream",
          "text": [
            "e:\\e\\exe\\MNE-Python\\Lib\\site-packages\\sklearn\\metrics\\_classification.py:1565: UndefinedMetricWarning: Precision is ill-defined and being set to 0.0 due to no predicted samples. Use `zero_division` parameter to control this behavior.\n",
            "  _warn_prf(average, modifier, f\"{metric.capitalize()} is\", len(result))\n"
          ]
        },
        {
          "name": "stdout",
          "output_type": "stream",
          "text": [
            "Task: S017 Run 11: Real Left vs Real Right | Acc: 0.71 | Prec: 0.00 | Rec: 0.00 | F1: 0.00\n",
            "Task: S018 Run 3: Real Left vs Real Right | Acc: 0.71 | Prec: 0.67 | Rec: 0.67 | F1: 0.67\n",
            "Task: S018 Run 7: Real Left vs Real Right | Acc: 0.71 | Prec: 0.50 | Rec: 0.50 | F1: 0.50\n",
            "Task: S018 Run 11: Real Left vs Real Right | Acc: 0.86 | Prec: 1.00 | Rec: 0.50 | F1: 0.67\n"
          ]
        },
        {
          "name": "stderr",
          "output_type": "stream",
          "text": [
            "e:\\e\\exe\\MNE-Python\\Lib\\site-packages\\sklearn\\metrics\\_classification.py:1565: UndefinedMetricWarning: Precision is ill-defined and being set to 0.0 due to no predicted samples. Use `zero_division` parameter to control this behavior.\n",
            "  _warn_prf(average, modifier, f\"{metric.capitalize()} is\", len(result))\n"
          ]
        },
        {
          "name": "stdout",
          "output_type": "stream",
          "text": [
            "Task: S019 Run 3: Real Left vs Real Right | Acc: 0.57 | Prec: 0.00 | Rec: 0.00 | F1: 0.00\n"
          ]
        },
        {
          "name": "stderr",
          "output_type": "stream",
          "text": [
            "e:\\e\\exe\\MNE-Python\\Lib\\site-packages\\sklearn\\metrics\\_classification.py:1565: UndefinedMetricWarning: Precision is ill-defined and being set to 0.0 due to no predicted samples. Use `zero_division` parameter to control this behavior.\n",
            "  _warn_prf(average, modifier, f\"{metric.capitalize()} is\", len(result))\n"
          ]
        },
        {
          "name": "stdout",
          "output_type": "stream",
          "text": [
            "Task: S019 Run 7: Real Left vs Real Right | Acc: 0.57 | Prec: 0.00 | Rec: 0.00 | F1: 0.00\n"
          ]
        },
        {
          "name": "stderr",
          "output_type": "stream",
          "text": [
            "e:\\e\\exe\\MNE-Python\\Lib\\site-packages\\sklearn\\metrics\\_classification.py:1565: UndefinedMetricWarning: Precision is ill-defined and being set to 0.0 due to no predicted samples. Use `zero_division` parameter to control this behavior.\n",
            "  _warn_prf(average, modifier, f\"{metric.capitalize()} is\", len(result))\n"
          ]
        },
        {
          "name": "stdout",
          "output_type": "stream",
          "text": [
            "Task: S019 Run 11: Real Left vs Real Right | Acc: 0.57 | Prec: 0.00 | Rec: 0.00 | F1: 0.00\n",
            "Task: S020 Run 3: Real Left vs Real Right | Acc: 0.57 | Prec: 0.00 | Rec: 0.00 | F1: 0.00\n",
            "Task: S020 Run 7: Real Left vs Real Right | Acc: 0.86 | Prec: 0.67 | Rec: 1.00 | F1: 0.80\n",
            "Task: S020 Run 11: Real Left vs Real Right | Acc: 0.86 | Prec: 1.00 | Rec: 0.50 | F1: 0.67\n"
          ]
        },
        {
          "name": "stderr",
          "output_type": "stream",
          "text": [
            "e:\\e\\exe\\MNE-Python\\Lib\\site-packages\\sklearn\\metrics\\_classification.py:1565: UndefinedMetricWarning: Precision is ill-defined and being set to 0.0 due to no predicted samples. Use `zero_division` parameter to control this behavior.\n",
            "  _warn_prf(average, modifier, f\"{metric.capitalize()} is\", len(result))\n"
          ]
        },
        {
          "name": "stdout",
          "output_type": "stream",
          "text": [
            "Task: S021 Run 3: Real Left vs Real Right | Acc: 0.57 | Prec: 0.00 | Rec: 0.00 | F1: 0.00\n"
          ]
        },
        {
          "name": "stderr",
          "output_type": "stream",
          "text": [
            "e:\\e\\exe\\MNE-Python\\Lib\\site-packages\\sklearn\\metrics\\_classification.py:1565: UndefinedMetricWarning: Precision is ill-defined and being set to 0.0 due to no predicted samples. Use `zero_division` parameter to control this behavior.\n",
            "  _warn_prf(average, modifier, f\"{metric.capitalize()} is\", len(result))\n"
          ]
        },
        {
          "name": "stdout",
          "output_type": "stream",
          "text": [
            "Task: S021 Run 7: Real Left vs Real Right | Acc: 0.57 | Prec: 0.00 | Rec: 0.00 | F1: 0.00\n"
          ]
        },
        {
          "name": "stderr",
          "output_type": "stream",
          "text": [
            "e:\\e\\exe\\MNE-Python\\Lib\\site-packages\\sklearn\\metrics\\_classification.py:1565: UndefinedMetricWarning: Precision is ill-defined and being set to 0.0 due to no predicted samples. Use `zero_division` parameter to control this behavior.\n",
            "  _warn_prf(average, modifier, f\"{metric.capitalize()} is\", len(result))\n"
          ]
        },
        {
          "name": "stdout",
          "output_type": "stream",
          "text": [
            "Task: S021 Run 11: Real Left vs Real Right | Acc: 0.57 | Prec: 0.00 | Rec: 0.00 | F1: 0.00\n",
            "Task: S022 Run 3: Real Left vs Real Right | Acc: 1.00 | Prec: 1.00 | Rec: 1.00 | F1: 1.00\n",
            "Task: S022 Run 7: Real Left vs Real Right | Acc: 1.00 | Prec: 1.00 | Rec: 1.00 | F1: 1.00\n",
            "Task: S022 Run 11: Real Left vs Real Right | Acc: 1.00 | Prec: 1.00 | Rec: 1.00 | F1: 1.00\n",
            "Task: S023 Run 3: Real Left vs Real Right | Acc: 0.57 | Prec: 0.50 | Rec: 0.33 | F1: 0.40\n"
          ]
        },
        {
          "name": "stderr",
          "output_type": "stream",
          "text": [
            "e:\\e\\exe\\MNE-Python\\Lib\\site-packages\\sklearn\\metrics\\_classification.py:1565: UndefinedMetricWarning: Precision is ill-defined and being set to 0.0 due to no predicted samples. Use `zero_division` parameter to control this behavior.\n",
            "  _warn_prf(average, modifier, f\"{metric.capitalize()} is\", len(result))\n"
          ]
        },
        {
          "name": "stdout",
          "output_type": "stream",
          "text": [
            "Task: S023 Run 7: Real Left vs Real Right | Acc: 0.71 | Prec: 0.00 | Rec: 0.00 | F1: 0.00\n"
          ]
        },
        {
          "name": "stderr",
          "output_type": "stream",
          "text": [
            "e:\\e\\exe\\MNE-Python\\Lib\\site-packages\\sklearn\\metrics\\_classification.py:1565: UndefinedMetricWarning: Precision is ill-defined and being set to 0.0 due to no predicted samples. Use `zero_division` parameter to control this behavior.\n",
            "  _warn_prf(average, modifier, f\"{metric.capitalize()} is\", len(result))\n"
          ]
        },
        {
          "name": "stdout",
          "output_type": "stream",
          "text": [
            "Task: S023 Run 11: Real Left vs Real Right | Acc: 0.71 | Prec: 0.00 | Rec: 0.00 | F1: 0.00\n",
            "Task: S024 Run 3: Real Left vs Real Right | Acc: 0.86 | Prec: 1.00 | Rec: 0.50 | F1: 0.67\n"
          ]
        },
        {
          "name": "stderr",
          "output_type": "stream",
          "text": [
            "e:\\e\\exe\\MNE-Python\\Lib\\site-packages\\sklearn\\metrics\\_classification.py:1565: UndefinedMetricWarning: Precision is ill-defined and being set to 0.0 due to no predicted samples. Use `zero_division` parameter to control this behavior.\n",
            "  _warn_prf(average, modifier, f\"{metric.capitalize()} is\", len(result))\n"
          ]
        },
        {
          "name": "stdout",
          "output_type": "stream",
          "text": [
            "Task: S024 Run 7: Real Left vs Real Right | Acc: 0.57 | Prec: 0.00 | Rec: 0.00 | F1: 0.00\n",
            "Task: S024 Run 11: Real Left vs Real Right | Acc: 0.86 | Prec: 1.00 | Rec: 0.67 | F1: 0.80\n",
            "Task: S025 Run 3: Real Left vs Real Right | Acc: 0.86 | Prec: 0.67 | Rec: 1.00 | F1: 0.80\n"
          ]
        },
        {
          "name": "stderr",
          "output_type": "stream",
          "text": [
            "e:\\e\\exe\\MNE-Python\\Lib\\site-packages\\sklearn\\metrics\\_classification.py:1565: UndefinedMetricWarning: Precision is ill-defined and being set to 0.0 due to no predicted samples. Use `zero_division` parameter to control this behavior.\n",
            "  _warn_prf(average, modifier, f\"{metric.capitalize()} is\", len(result))\n"
          ]
        },
        {
          "name": "stdout",
          "output_type": "stream",
          "text": [
            "Task: S025 Run 7: Real Left vs Real Right | Acc: 0.57 | Prec: 0.00 | Rec: 0.00 | F1: 0.00\n",
            "Task: S025 Run 11: Real Left vs Real Right | Acc: 0.86 | Prec: 1.00 | Rec: 0.67 | F1: 0.80\n"
          ]
        },
        {
          "name": "stderr",
          "output_type": "stream",
          "text": [
            "e:\\e\\exe\\MNE-Python\\Lib\\site-packages\\sklearn\\metrics\\_classification.py:1565: UndefinedMetricWarning: Precision is ill-defined and being set to 0.0 due to no predicted samples. Use `zero_division` parameter to control this behavior.\n",
            "  _warn_prf(average, modifier, f\"{metric.capitalize()} is\", len(result))\n"
          ]
        },
        {
          "name": "stdout",
          "output_type": "stream",
          "text": [
            "Task: S026 Run 3: Real Left vs Real Right | Acc: 0.57 | Prec: 0.00 | Rec: 0.00 | F1: 0.00\n",
            "Task: S026 Run 7: Real Left vs Real Right | Acc: 1.00 | Prec: 1.00 | Rec: 1.00 | F1: 1.00\n"
          ]
        },
        {
          "name": "stderr",
          "output_type": "stream",
          "text": [
            "e:\\e\\exe\\MNE-Python\\Lib\\site-packages\\sklearn\\metrics\\_classification.py:1565: UndefinedMetricWarning: Precision is ill-defined and being set to 0.0 due to no predicted samples. Use `zero_division` parameter to control this behavior.\n",
            "  _warn_prf(average, modifier, f\"{metric.capitalize()} is\", len(result))\n"
          ]
        },
        {
          "name": "stdout",
          "output_type": "stream",
          "text": [
            "Task: S026 Run 11: Real Left vs Real Right | Acc: 0.71 | Prec: 0.00 | Rec: 0.00 | F1: 0.00\n",
            "Task: S027 Run 3: Real Left vs Real Right | Acc: 0.86 | Prec: 1.00 | Rec: 0.50 | F1: 0.67\n",
            "Task: S027 Run 7: Real Left vs Real Right | Acc: 0.57 | Prec: 0.50 | Rec: 0.33 | F1: 0.40\n",
            "Task: S027 Run 11: Real Left vs Real Right | Acc: 0.86 | Prec: 1.00 | Rec: 0.67 | F1: 0.80\n"
          ]
        },
        {
          "name": "stderr",
          "output_type": "stream",
          "text": [
            "e:\\e\\exe\\MNE-Python\\Lib\\site-packages\\sklearn\\metrics\\_classification.py:1565: UndefinedMetricWarning: Precision is ill-defined and being set to 0.0 due to no predicted samples. Use `zero_division` parameter to control this behavior.\n",
            "  _warn_prf(average, modifier, f\"{metric.capitalize()} is\", len(result))\n"
          ]
        },
        {
          "name": "stdout",
          "output_type": "stream",
          "text": [
            "Task: S028 Run 3: Real Left vs Real Right | Acc: 0.57 | Prec: 0.00 | Rec: 0.00 | F1: 0.00\n",
            "Task: S028 Run 7: Real Left vs Real Right | Acc: 0.71 | Prec: 1.00 | Rec: 0.33 | F1: 0.50\n"
          ]
        },
        {
          "name": "stderr",
          "output_type": "stream",
          "text": [
            "e:\\e\\exe\\MNE-Python\\Lib\\site-packages\\sklearn\\metrics\\_classification.py:1565: UndefinedMetricWarning: Precision is ill-defined and being set to 0.0 due to no predicted samples. Use `zero_division` parameter to control this behavior.\n",
            "  _warn_prf(average, modifier, f\"{metric.capitalize()} is\", len(result))\n"
          ]
        },
        {
          "name": "stdout",
          "output_type": "stream",
          "text": [
            "Task: S028 Run 11: Real Left vs Real Right | Acc: 0.71 | Prec: 0.00 | Rec: 0.00 | F1: 0.00\n",
            "Task: S029 Run 3: Real Left vs Real Right | Acc: 0.86 | Prec: 1.00 | Rec: 0.50 | F1: 0.67\n",
            "Task: S029 Run 7: Real Left vs Real Right | Acc: 0.86 | Prec: 1.00 | Rec: 0.50 | F1: 0.67\n",
            "Task: S029 Run 11: Real Left vs Real Right | Acc: 0.86 | Prec: 0.75 | Rec: 1.00 | F1: 0.86\n"
          ]
        },
        {
          "name": "stderr",
          "output_type": "stream",
          "text": [
            "e:\\e\\exe\\MNE-Python\\Lib\\site-packages\\sklearn\\metrics\\_classification.py:1565: UndefinedMetricWarning: Precision is ill-defined and being set to 0.0 due to no predicted samples. Use `zero_division` parameter to control this behavior.\n",
            "  _warn_prf(average, modifier, f\"{metric.capitalize()} is\", len(result))\n"
          ]
        },
        {
          "name": "stdout",
          "output_type": "stream",
          "text": [
            "Task: S030 Run 3: Real Left vs Real Right | Acc: 0.71 | Prec: 0.00 | Rec: 0.00 | F1: 0.00\n"
          ]
        },
        {
          "name": "stderr",
          "output_type": "stream",
          "text": [
            "e:\\e\\exe\\MNE-Python\\Lib\\site-packages\\sklearn\\metrics\\_classification.py:1565: UndefinedMetricWarning: Precision is ill-defined and being set to 0.0 due to no predicted samples. Use `zero_division` parameter to control this behavior.\n",
            "  _warn_prf(average, modifier, f\"{metric.capitalize()} is\", len(result))\n"
          ]
        },
        {
          "name": "stdout",
          "output_type": "stream",
          "text": [
            "Task: S030 Run 7: Real Left vs Real Right | Acc: 0.57 | Prec: 0.00 | Rec: 0.00 | F1: 0.00\n"
          ]
        },
        {
          "name": "stderr",
          "output_type": "stream",
          "text": [
            "e:\\e\\exe\\MNE-Python\\Lib\\site-packages\\sklearn\\metrics\\_classification.py:1565: UndefinedMetricWarning: Precision is ill-defined and being set to 0.0 due to no predicted samples. Use `zero_division` parameter to control this behavior.\n",
            "  _warn_prf(average, modifier, f\"{metric.capitalize()} is\", len(result))\n"
          ]
        },
        {
          "name": "stdout",
          "output_type": "stream",
          "text": [
            "Task: S030 Run 11: Real Left vs Real Right | Acc: 0.71 | Prec: 0.00 | Rec: 0.00 | F1: 0.00\n",
            "Task: S031 Run 3: Real Left vs Real Right | Acc: 0.71 | Prec: 0.50 | Rec: 0.50 | F1: 0.50\n"
          ]
        },
        {
          "name": "stderr",
          "output_type": "stream",
          "text": [
            "e:\\e\\exe\\MNE-Python\\Lib\\site-packages\\sklearn\\metrics\\_classification.py:1565: UndefinedMetricWarning: Precision is ill-defined and being set to 0.0 due to no predicted samples. Use `zero_division` parameter to control this behavior.\n",
            "  _warn_prf(average, modifier, f\"{metric.capitalize()} is\", len(result))\n"
          ]
        },
        {
          "name": "stdout",
          "output_type": "stream",
          "text": [
            "Task: S031 Run 7: Real Left vs Real Right | Acc: 0.57 | Prec: 0.00 | Rec: 0.00 | F1: 0.00\n",
            "Task: S031 Run 11: Real Left vs Real Right | Acc: 0.71 | Prec: 1.00 | Rec: 0.33 | F1: 0.50\n",
            "Task: S032 Run 3: Real Left vs Real Right | Acc: 0.71 | Prec: 1.00 | Rec: 0.33 | F1: 0.50\n"
          ]
        },
        {
          "name": "stderr",
          "output_type": "stream",
          "text": [
            "e:\\e\\exe\\MNE-Python\\Lib\\site-packages\\sklearn\\metrics\\_classification.py:1565: UndefinedMetricWarning: Precision is ill-defined and being set to 0.0 due to no predicted samples. Use `zero_division` parameter to control this behavior.\n",
            "  _warn_prf(average, modifier, f\"{metric.capitalize()} is\", len(result))\n"
          ]
        },
        {
          "name": "stdout",
          "output_type": "stream",
          "text": [
            "Task: S032 Run 7: Real Left vs Real Right | Acc: 0.57 | Prec: 0.00 | Rec: 0.00 | F1: 0.00\n",
            "Task: S032 Run 11: Real Left vs Real Right | Acc: 0.86 | Prec: 0.67 | Rec: 1.00 | F1: 0.80\n",
            "Task: S033 Run 3: Real Left vs Real Right | Acc: 1.00 | Prec: 1.00 | Rec: 1.00 | F1: 1.00\n",
            "Task: S033 Run 7: Real Left vs Real Right | Acc: 0.86 | Prec: 1.00 | Rec: 0.50 | F1: 0.67\n",
            "Task: S033 Run 11: Real Left vs Real Right | Acc: 0.86 | Prec: 1.00 | Rec: 0.50 | F1: 0.67\n",
            "Task: S034 Run 3: Real Left vs Real Right | Acc: 1.00 | Prec: 1.00 | Rec: 1.00 | F1: 1.00\n",
            "Task: S034 Run 7: Real Left vs Real Right | Acc: 1.00 | Prec: 1.00 | Rec: 1.00 | F1: 1.00\n",
            "Task: S034 Run 11: Real Left vs Real Right | Acc: 0.71 | Prec: 0.50 | Rec: 1.00 | F1: 0.67\n",
            "Task: S035 Run 3: Real Left vs Real Right | Acc: 0.86 | Prec: 1.00 | Rec: 0.50 | F1: 0.67\n"
          ]
        },
        {
          "name": "stderr",
          "output_type": "stream",
          "text": [
            "e:\\e\\exe\\MNE-Python\\Lib\\site-packages\\sklearn\\metrics\\_classification.py:1565: UndefinedMetricWarning: Precision is ill-defined and being set to 0.0 due to no predicted samples. Use `zero_division` parameter to control this behavior.\n",
            "  _warn_prf(average, modifier, f\"{metric.capitalize()} is\", len(result))\n"
          ]
        },
        {
          "name": "stdout",
          "output_type": "stream",
          "text": [
            "Task: S035 Run 7: Real Left vs Real Right | Acc: 0.71 | Prec: 0.00 | Rec: 0.00 | F1: 0.00\n"
          ]
        },
        {
          "name": "stderr",
          "output_type": "stream",
          "text": [
            "e:\\e\\exe\\MNE-Python\\Lib\\site-packages\\sklearn\\metrics\\_classification.py:1565: UndefinedMetricWarning: Precision is ill-defined and being set to 0.0 due to no predicted samples. Use `zero_division` parameter to control this behavior.\n",
            "  _warn_prf(average, modifier, f\"{metric.capitalize()} is\", len(result))\n"
          ]
        },
        {
          "name": "stdout",
          "output_type": "stream",
          "text": [
            "Task: S035 Run 11: Real Left vs Real Right | Acc: 0.71 | Prec: 0.00 | Rec: 0.00 | F1: 0.00\n",
            "Task: S036 Run 3: Real Left vs Real Right | Acc: 0.71 | Prec: 1.00 | Rec: 0.33 | F1: 0.50\n"
          ]
        },
        {
          "name": "stderr",
          "output_type": "stream",
          "text": [
            "e:\\e\\exe\\MNE-Python\\Lib\\site-packages\\sklearn\\metrics\\_classification.py:1565: UndefinedMetricWarning: Precision is ill-defined and being set to 0.0 due to no predicted samples. Use `zero_division` parameter to control this behavior.\n",
            "  _warn_prf(average, modifier, f\"{metric.capitalize()} is\", len(result))\n"
          ]
        },
        {
          "name": "stdout",
          "output_type": "stream",
          "text": [
            "Task: S036 Run 7: Real Left vs Real Right | Acc: 0.71 | Prec: 0.00 | Rec: 0.00 | F1: 0.00\n",
            "Task: S036 Run 11: Real Left vs Real Right | Acc: 0.57 | Prec: 0.50 | Rec: 0.33 | F1: 0.40\n",
            "Task: S037 Run 3: Real Left vs Real Right | Acc: 0.71 | Prec: 0.50 | Rec: 0.50 | F1: 0.50\n",
            "Task: S037 Run 7: Real Left vs Real Right | Acc: 0.86 | Prec: 1.00 | Rec: 0.50 | F1: 0.67\n",
            "Task: S037 Run 11: Real Left vs Real Right | Acc: 1.00 | Prec: 1.00 | Rec: 1.00 | F1: 1.00\n",
            "Task: S038 Run 3: Real Left vs Real Right | Acc: 0.86 | Prec: 1.00 | Rec: 0.50 | F1: 0.67\n",
            "Task: S038 Run 7: Real Left vs Real Right | Acc: 0.71 | Prec: 1.00 | Rec: 0.33 | F1: 0.50\n"
          ]
        },
        {
          "name": "stderr",
          "output_type": "stream",
          "text": [
            "e:\\e\\exe\\MNE-Python\\Lib\\site-packages\\sklearn\\metrics\\_classification.py:1565: UndefinedMetricWarning: Precision is ill-defined and being set to 0.0 due to no predicted samples. Use `zero_division` parameter to control this behavior.\n",
            "  _warn_prf(average, modifier, f\"{metric.capitalize()} is\", len(result))\n"
          ]
        },
        {
          "name": "stdout",
          "output_type": "stream",
          "text": [
            "Task: S038 Run 11: Real Left vs Real Right | Acc: 0.57 | Prec: 0.00 | Rec: 0.00 | F1: 0.00\n",
            "Task: S039 Run 3: Real Left vs Real Right | Acc: 0.29 | Prec: 0.00 | Rec: 0.00 | F1: 0.00\n",
            "Task: S039 Run 7: Real Left vs Real Right | Acc: 0.86 | Prec: 1.00 | Rec: 0.50 | F1: 0.67\n"
          ]
        },
        {
          "name": "stderr",
          "output_type": "stream",
          "text": [
            "e:\\e\\exe\\MNE-Python\\Lib\\site-packages\\sklearn\\metrics\\_classification.py:1565: UndefinedMetricWarning: Precision is ill-defined and being set to 0.0 due to no predicted samples. Use `zero_division` parameter to control this behavior.\n",
            "  _warn_prf(average, modifier, f\"{metric.capitalize()} is\", len(result))\n"
          ]
        },
        {
          "name": "stdout",
          "output_type": "stream",
          "text": [
            "Task: S039 Run 11: Real Left vs Real Right | Acc: 0.57 | Prec: 0.00 | Rec: 0.00 | F1: 0.00\n"
          ]
        },
        {
          "name": "stderr",
          "output_type": "stream",
          "text": [
            "e:\\e\\exe\\MNE-Python\\Lib\\site-packages\\sklearn\\metrics\\_classification.py:1565: UndefinedMetricWarning: Precision is ill-defined and being set to 0.0 due to no predicted samples. Use `zero_division` parameter to control this behavior.\n",
            "  _warn_prf(average, modifier, f\"{metric.capitalize()} is\", len(result))\n"
          ]
        },
        {
          "name": "stdout",
          "output_type": "stream",
          "text": [
            "Task: S040 Run 3: Real Left vs Real Right | Acc: 0.57 | Prec: 0.00 | Rec: 0.00 | F1: 0.00\n",
            "Task: S040 Run 7: Real Left vs Real Right | Acc: 0.43 | Prec: 0.00 | Rec: 0.00 | F1: 0.00\n"
          ]
        },
        {
          "name": "stderr",
          "output_type": "stream",
          "text": [
            "e:\\e\\exe\\MNE-Python\\Lib\\site-packages\\sklearn\\metrics\\_classification.py:1565: UndefinedMetricWarning: Precision is ill-defined and being set to 0.0 due to no predicted samples. Use `zero_division` parameter to control this behavior.\n",
            "  _warn_prf(average, modifier, f\"{metric.capitalize()} is\", len(result))\n"
          ]
        },
        {
          "name": "stdout",
          "output_type": "stream",
          "text": [
            "Task: S040 Run 11: Real Left vs Real Right | Acc: 0.71 | Prec: 0.00 | Rec: 0.00 | F1: 0.00\n",
            "Task: S041 Run 3: Real Left vs Real Right | Acc: 0.86 | Prec: 1.00 | Rec: 0.50 | F1: 0.67\n",
            "Task: S041 Run 7: Real Left vs Real Right | Acc: 0.86 | Prec: 1.00 | Rec: 0.50 | F1: 0.67\n"
          ]
        },
        {
          "name": "stderr",
          "output_type": "stream",
          "text": [
            "e:\\e\\exe\\MNE-Python\\Lib\\site-packages\\sklearn\\metrics\\_classification.py:1565: UndefinedMetricWarning: Precision is ill-defined and being set to 0.0 due to no predicted samples. Use `zero_division` parameter to control this behavior.\n",
            "  _warn_prf(average, modifier, f\"{metric.capitalize()} is\", len(result))\n"
          ]
        },
        {
          "name": "stdout",
          "output_type": "stream",
          "text": [
            "Task: S041 Run 11: Real Left vs Real Right | Acc: 0.71 | Prec: 0.00 | Rec: 0.00 | F1: 0.00\n",
            "Task: S042 Run 3: Real Left vs Real Right | Acc: 0.57 | Prec: 0.50 | Rec: 0.67 | F1: 0.57\n",
            "Task: S042 Run 7: Real Left vs Real Right | Acc: 0.86 | Prec: 1.00 | Rec: 0.50 | F1: 0.67\n"
          ]
        },
        {
          "name": "stderr",
          "output_type": "stream",
          "text": [
            "e:\\e\\exe\\MNE-Python\\Lib\\site-packages\\sklearn\\metrics\\_classification.py:1565: UndefinedMetricWarning: Precision is ill-defined and being set to 0.0 due to no predicted samples. Use `zero_division` parameter to control this behavior.\n",
            "  _warn_prf(average, modifier, f\"{metric.capitalize()} is\", len(result))\n"
          ]
        },
        {
          "name": "stdout",
          "output_type": "stream",
          "text": [
            "Task: S042 Run 11: Real Left vs Real Right | Acc: 0.71 | Prec: 0.00 | Rec: 0.00 | F1: 0.00\n",
            "Task: S043 Run 3: Real Left vs Real Right | Acc: 0.86 | Prec: 1.00 | Rec: 0.50 | F1: 0.67\n",
            "Task: S043 Run 7: Real Left vs Real Right | Acc: 1.00 | Prec: 1.00 | Rec: 1.00 | F1: 1.00\n",
            "Task: S043 Run 11: Real Left vs Real Right | Acc: 0.86 | Prec: 1.00 | Rec: 0.67 | F1: 0.80\n",
            "Task: S044 Run 3: Real Left vs Real Right | Acc: 0.71 | Prec: 1.00 | Rec: 0.33 | F1: 0.50\n"
          ]
        },
        {
          "name": "stderr",
          "output_type": "stream",
          "text": [
            "e:\\e\\exe\\MNE-Python\\Lib\\site-packages\\sklearn\\metrics\\_classification.py:1565: UndefinedMetricWarning: Precision is ill-defined and being set to 0.0 due to no predicted samples. Use `zero_division` parameter to control this behavior.\n",
            "  _warn_prf(average, modifier, f\"{metric.capitalize()} is\", len(result))\n"
          ]
        },
        {
          "name": "stdout",
          "output_type": "stream",
          "text": [
            "Task: S044 Run 7: Real Left vs Real Right | Acc: 0.57 | Prec: 0.00 | Rec: 0.00 | F1: 0.00\n"
          ]
        },
        {
          "name": "stderr",
          "output_type": "stream",
          "text": [
            "e:\\e\\exe\\MNE-Python\\Lib\\site-packages\\sklearn\\metrics\\_classification.py:1565: UndefinedMetricWarning: Precision is ill-defined and being set to 0.0 due to no predicted samples. Use `zero_division` parameter to control this behavior.\n",
            "  _warn_prf(average, modifier, f\"{metric.capitalize()} is\", len(result))\n"
          ]
        },
        {
          "name": "stdout",
          "output_type": "stream",
          "text": [
            "Task: S044 Run 11: Real Left vs Real Right | Acc: 0.71 | Prec: 0.00 | Rec: 0.00 | F1: 0.00\n"
          ]
        },
        {
          "name": "stderr",
          "output_type": "stream",
          "text": [
            "e:\\e\\exe\\MNE-Python\\Lib\\site-packages\\sklearn\\metrics\\_classification.py:1565: UndefinedMetricWarning: Precision is ill-defined and being set to 0.0 due to no predicted samples. Use `zero_division` parameter to control this behavior.\n",
            "  _warn_prf(average, modifier, f\"{metric.capitalize()} is\", len(result))\n"
          ]
        },
        {
          "name": "stdout",
          "output_type": "stream",
          "text": [
            "Task: S045 Run 3: Real Left vs Real Right | Acc: 0.71 | Prec: 0.00 | Rec: 0.00 | F1: 0.00\n"
          ]
        },
        {
          "name": "stderr",
          "output_type": "stream",
          "text": [
            "e:\\e\\exe\\MNE-Python\\Lib\\site-packages\\sklearn\\metrics\\_classification.py:1565: UndefinedMetricWarning: Precision is ill-defined and being set to 0.0 due to no predicted samples. Use `zero_division` parameter to control this behavior.\n",
            "  _warn_prf(average, modifier, f\"{metric.capitalize()} is\", len(result))\n"
          ]
        },
        {
          "name": "stdout",
          "output_type": "stream",
          "text": [
            "Task: S045 Run 7: Real Left vs Real Right | Acc: 0.57 | Prec: 0.00 | Rec: 0.00 | F1: 0.00\n",
            "Task: S045 Run 11: Real Left vs Real Right | Acc: 1.00 | Prec: 1.00 | Rec: 1.00 | F1: 1.00\n",
            "Task: S046 Run 3: Real Left vs Real Right | Acc: 0.86 | Prec: 0.67 | Rec: 1.00 | F1: 0.80\n",
            "Task: S046 Run 7: Real Left vs Real Right | Acc: 0.57 | Prec: 0.50 | Rec: 0.67 | F1: 0.57\n"
          ]
        },
        {
          "name": "stderr",
          "output_type": "stream",
          "text": [
            "e:\\e\\exe\\MNE-Python\\Lib\\site-packages\\sklearn\\metrics\\_classification.py:1565: UndefinedMetricWarning: Precision is ill-defined and being set to 0.0 due to no predicted samples. Use `zero_division` parameter to control this behavior.\n",
            "  _warn_prf(average, modifier, f\"{metric.capitalize()} is\", len(result))\n"
          ]
        },
        {
          "name": "stdout",
          "output_type": "stream",
          "text": [
            "Task: S046 Run 11: Real Left vs Real Right | Acc: 0.71 | Prec: 0.00 | Rec: 0.00 | F1: 0.00\n",
            "Task: S047 Run 3: Real Left vs Real Right | Acc: 0.29 | Prec: 0.00 | Rec: 0.00 | F1: 0.00\n"
          ]
        },
        {
          "name": "stderr",
          "output_type": "stream",
          "text": [
            "e:\\e\\exe\\MNE-Python\\Lib\\site-packages\\sklearn\\metrics\\_classification.py:1565: UndefinedMetricWarning: Precision is ill-defined and being set to 0.0 due to no predicted samples. Use `zero_division` parameter to control this behavior.\n",
            "  _warn_prf(average, modifier, f\"{metric.capitalize()} is\", len(result))\n"
          ]
        },
        {
          "name": "stdout",
          "output_type": "stream",
          "text": [
            "Task: S047 Run 7: Real Left vs Real Right | Acc: 0.57 | Prec: 0.00 | Rec: 0.00 | F1: 0.00\n",
            "Task: S047 Run 11: Real Left vs Real Right | Acc: 0.57 | Prec: 0.00 | Rec: 0.00 | F1: 0.00\n",
            "Task: S048 Run 3: Real Left vs Real Right | Acc: 1.00 | Prec: 1.00 | Rec: 1.00 | F1: 1.00\n",
            "Task: S048 Run 7: Real Left vs Real Right | Acc: 0.71 | Prec: 1.00 | Rec: 0.33 | F1: 0.50\n",
            "Task: S048 Run 11: Real Left vs Real Right | Acc: 0.71 | Prec: 0.50 | Rec: 0.50 | F1: 0.50\n",
            "Task: S049 Run 3: Real Left vs Real Right | Acc: 0.57 | Prec: 0.00 | Rec: 0.00 | F1: 0.00\n",
            "Task: S049 Run 7: Real Left vs Real Right | Acc: 0.71 | Prec: 0.50 | Rec: 1.00 | F1: 0.67\n",
            "Task: S049 Run 11: Real Left vs Real Right | Acc: 0.71 | Prec: 1.00 | Rec: 0.33 | F1: 0.50\n"
          ]
        },
        {
          "name": "stderr",
          "output_type": "stream",
          "text": [
            "e:\\e\\exe\\MNE-Python\\Lib\\site-packages\\sklearn\\metrics\\_classification.py:1565: UndefinedMetricWarning: Precision is ill-defined and being set to 0.0 due to no predicted samples. Use `zero_division` parameter to control this behavior.\n",
            "  _warn_prf(average, modifier, f\"{metric.capitalize()} is\", len(result))\n"
          ]
        },
        {
          "name": "stdout",
          "output_type": "stream",
          "text": [
            "Task: S050 Run 3: Real Left vs Real Right | Acc: 0.57 | Prec: 0.00 | Rec: 0.00 | F1: 0.00\n",
            "Task: S050 Run 7: Real Left vs Real Right | Acc: 0.71 | Prec: 1.00 | Rec: 0.33 | F1: 0.50\n"
          ]
        },
        {
          "name": "stderr",
          "output_type": "stream",
          "text": [
            "e:\\e\\exe\\MNE-Python\\Lib\\site-packages\\sklearn\\metrics\\_classification.py:1565: UndefinedMetricWarning: Precision is ill-defined and being set to 0.0 due to no predicted samples. Use `zero_division` parameter to control this behavior.\n",
            "  _warn_prf(average, modifier, f\"{metric.capitalize()} is\", len(result))\n"
          ]
        },
        {
          "name": "stdout",
          "output_type": "stream",
          "text": [
            "Task: S050 Run 11: Real Left vs Real Right | Acc: 0.57 | Prec: 0.00 | Rec: 0.00 | F1: 0.00\n"
          ]
        },
        {
          "name": "stderr",
          "output_type": "stream",
          "text": [
            "e:\\e\\exe\\MNE-Python\\Lib\\site-packages\\sklearn\\metrics\\_classification.py:1565: UndefinedMetricWarning: Precision is ill-defined and being set to 0.0 due to no predicted samples. Use `zero_division` parameter to control this behavior.\n",
            "  _warn_prf(average, modifier, f\"{metric.capitalize()} is\", len(result))\n"
          ]
        },
        {
          "name": "stdout",
          "output_type": "stream",
          "text": [
            "Task: S051 Run 3: Real Left vs Real Right | Acc: 0.71 | Prec: 0.00 | Rec: 0.00 | F1: 0.00\n",
            "Task: S051 Run 7: Real Left vs Real Right | Acc: 0.86 | Prec: 1.00 | Rec: 0.50 | F1: 0.67\n",
            "Task: S051 Run 11: Real Left vs Real Right | Acc: 0.57 | Prec: 0.33 | Rec: 0.50 | F1: 0.40\n",
            "Task: S052 Run 3: Real Left vs Real Right | Acc: 0.86 | Prec: 1.00 | Rec: 0.67 | F1: 0.80\n"
          ]
        },
        {
          "name": "stderr",
          "output_type": "stream",
          "text": [
            "e:\\e\\exe\\MNE-Python\\Lib\\site-packages\\sklearn\\metrics\\_classification.py:1565: UndefinedMetricWarning: Precision is ill-defined and being set to 0.0 due to no predicted samples. Use `zero_division` parameter to control this behavior.\n",
            "  _warn_prf(average, modifier, f\"{metric.capitalize()} is\", len(result))\n"
          ]
        },
        {
          "name": "stdout",
          "output_type": "stream",
          "text": [
            "Task: S052 Run 7: Real Left vs Real Right | Acc: 0.71 | Prec: 0.00 | Rec: 0.00 | F1: 0.00\n",
            "Task: S052 Run 11: Real Left vs Real Right | Acc: 0.86 | Prec: 0.67 | Rec: 1.00 | F1: 0.80\n",
            "Task: S053 Run 3: Real Left vs Real Right | Acc: 0.71 | Prec: 0.50 | Rec: 0.50 | F1: 0.50\n",
            "Task: S053 Run 7: Real Left vs Real Right | Acc: 0.86 | Prec: 1.00 | Rec: 0.50 | F1: 0.67\n"
          ]
        },
        {
          "name": "stderr",
          "output_type": "stream",
          "text": [
            "e:\\e\\exe\\MNE-Python\\Lib\\site-packages\\sklearn\\metrics\\_classification.py:1565: UndefinedMetricWarning: Precision is ill-defined and being set to 0.0 due to no predicted samples. Use `zero_division` parameter to control this behavior.\n",
            "  _warn_prf(average, modifier, f\"{metric.capitalize()} is\", len(result))\n"
          ]
        },
        {
          "name": "stdout",
          "output_type": "stream",
          "text": [
            "Task: S053 Run 11: Real Left vs Real Right | Acc: 0.57 | Prec: 0.00 | Rec: 0.00 | F1: 0.00\n"
          ]
        },
        {
          "name": "stderr",
          "output_type": "stream",
          "text": [
            "e:\\e\\exe\\MNE-Python\\Lib\\site-packages\\sklearn\\metrics\\_classification.py:1565: UndefinedMetricWarning: Precision is ill-defined and being set to 0.0 due to no predicted samples. Use `zero_division` parameter to control this behavior.\n",
            "  _warn_prf(average, modifier, f\"{metric.capitalize()} is\", len(result))\n"
          ]
        },
        {
          "name": "stdout",
          "output_type": "stream",
          "text": [
            "Task: S054 Run 3: Real Left vs Real Right | Acc: 0.71 | Prec: 0.00 | Rec: 0.00 | F1: 0.00\n"
          ]
        },
        {
          "name": "stderr",
          "output_type": "stream",
          "text": [
            "e:\\e\\exe\\MNE-Python\\Lib\\site-packages\\sklearn\\metrics\\_classification.py:1565: UndefinedMetricWarning: Precision is ill-defined and being set to 0.0 due to no predicted samples. Use `zero_division` parameter to control this behavior.\n",
            "  _warn_prf(average, modifier, f\"{metric.capitalize()} is\", len(result))\n"
          ]
        },
        {
          "name": "stdout",
          "output_type": "stream",
          "text": [
            "Task: S054 Run 7: Real Left vs Real Right | Acc: 0.71 | Prec: 0.00 | Rec: 0.00 | F1: 0.00\n",
            "Task: S054 Run 11: Real Left vs Real Right | Acc: 0.86 | Prec: 0.75 | Rec: 1.00 | F1: 0.86\n"
          ]
        },
        {
          "name": "stderr",
          "output_type": "stream",
          "text": [
            "e:\\e\\exe\\MNE-Python\\Lib\\site-packages\\sklearn\\metrics\\_classification.py:1565: UndefinedMetricWarning: Precision is ill-defined and being set to 0.0 due to no predicted samples. Use `zero_division` parameter to control this behavior.\n",
            "  _warn_prf(average, modifier, f\"{metric.capitalize()} is\", len(result))\n"
          ]
        },
        {
          "name": "stdout",
          "output_type": "stream",
          "text": [
            "Task: S055 Run 3: Real Left vs Real Right | Acc: 0.71 | Prec: 0.00 | Rec: 0.00 | F1: 0.00\n",
            "Task: S055 Run 7: Real Left vs Real Right | Acc: 0.71 | Prec: 1.00 | Rec: 0.33 | F1: 0.50\n",
            "Task: S055 Run 11: Real Left vs Real Right | Acc: 0.86 | Prec: 1.00 | Rec: 0.50 | F1: 0.67\n",
            "Task: S056 Run 3: Real Left vs Real Right | Acc: 0.86 | Prec: 1.00 | Rec: 0.67 | F1: 0.80\n"
          ]
        },
        {
          "name": "stderr",
          "output_type": "stream",
          "text": [
            "e:\\e\\exe\\MNE-Python\\Lib\\site-packages\\sklearn\\metrics\\_classification.py:1565: UndefinedMetricWarning: Precision is ill-defined and being set to 0.0 due to no predicted samples. Use `zero_division` parameter to control this behavior.\n",
            "  _warn_prf(average, modifier, f\"{metric.capitalize()} is\", len(result))\n"
          ]
        },
        {
          "name": "stdout",
          "output_type": "stream",
          "text": [
            "Task: S056 Run 7: Real Left vs Real Right | Acc: 0.57 | Prec: 0.00 | Rec: 0.00 | F1: 0.00\n"
          ]
        },
        {
          "name": "stderr",
          "output_type": "stream",
          "text": [
            "e:\\e\\exe\\MNE-Python\\Lib\\site-packages\\sklearn\\metrics\\_classification.py:1565: UndefinedMetricWarning: Precision is ill-defined and being set to 0.0 due to no predicted samples. Use `zero_division` parameter to control this behavior.\n",
            "  _warn_prf(average, modifier, f\"{metric.capitalize()} is\", len(result))\n"
          ]
        },
        {
          "name": "stdout",
          "output_type": "stream",
          "text": [
            "Task: S056 Run 11: Real Left vs Real Right | Acc: 0.71 | Prec: 0.00 | Rec: 0.00 | F1: 0.00\n"
          ]
        },
        {
          "name": "stderr",
          "output_type": "stream",
          "text": [
            "e:\\e\\exe\\MNE-Python\\Lib\\site-packages\\sklearn\\metrics\\_classification.py:1565: UndefinedMetricWarning: Precision is ill-defined and being set to 0.0 due to no predicted samples. Use `zero_division` parameter to control this behavior.\n",
            "  _warn_prf(average, modifier, f\"{metric.capitalize()} is\", len(result))\n"
          ]
        },
        {
          "name": "stdout",
          "output_type": "stream",
          "text": [
            "Task: S057 Run 3: Real Left vs Real Right | Acc: 0.57 | Prec: 0.00 | Rec: 0.00 | F1: 0.00\n",
            "Task: S057 Run 7: Real Left vs Real Right | Acc: 0.71 | Prec: 1.00 | Rec: 0.33 | F1: 0.50\n"
          ]
        },
        {
          "name": "stderr",
          "output_type": "stream",
          "text": [
            "e:\\e\\exe\\MNE-Python\\Lib\\site-packages\\sklearn\\metrics\\_classification.py:1565: UndefinedMetricWarning: Precision is ill-defined and being set to 0.0 due to no predicted samples. Use `zero_division` parameter to control this behavior.\n",
            "  _warn_prf(average, modifier, f\"{metric.capitalize()} is\", len(result))\n"
          ]
        },
        {
          "name": "stdout",
          "output_type": "stream",
          "text": [
            "Task: S057 Run 11: Real Left vs Real Right | Acc: 0.57 | Prec: 0.00 | Rec: 0.00 | F1: 0.00\n",
            "Task: S058 Run 3: Real Left vs Real Right | Acc: 1.00 | Prec: 1.00 | Rec: 1.00 | F1: 1.00\n",
            "Task: S058 Run 7: Real Left vs Real Right | Acc: 0.86 | Prec: 1.00 | Rec: 0.67 | F1: 0.80\n"
          ]
        },
        {
          "name": "stderr",
          "output_type": "stream",
          "text": [
            "e:\\e\\exe\\MNE-Python\\Lib\\site-packages\\sklearn\\metrics\\_classification.py:1565: UndefinedMetricWarning: Precision is ill-defined and being set to 0.0 due to no predicted samples. Use `zero_division` parameter to control this behavior.\n",
            "  _warn_prf(average, modifier, f\"{metric.capitalize()} is\", len(result))\n"
          ]
        },
        {
          "name": "stdout",
          "output_type": "stream",
          "text": [
            "Task: S058 Run 11: Real Left vs Real Right | Acc: 0.57 | Prec: 0.00 | Rec: 0.00 | F1: 0.00\n"
          ]
        },
        {
          "name": "stderr",
          "output_type": "stream",
          "text": [
            "e:\\e\\exe\\MNE-Python\\Lib\\site-packages\\sklearn\\metrics\\_classification.py:1565: UndefinedMetricWarning: Precision is ill-defined and being set to 0.0 due to no predicted samples. Use `zero_division` parameter to control this behavior.\n",
            "  _warn_prf(average, modifier, f\"{metric.capitalize()} is\", len(result))\n"
          ]
        },
        {
          "name": "stdout",
          "output_type": "stream",
          "text": [
            "Task: S059 Run 3: Real Left vs Real Right | Acc: 0.57 | Prec: 0.00 | Rec: 0.00 | F1: 0.00\n",
            "Task: S059 Run 7: Real Left vs Real Right | Acc: 0.86 | Prec: 0.67 | Rec: 1.00 | F1: 0.80\n"
          ]
        },
        {
          "name": "stderr",
          "output_type": "stream",
          "text": [
            "e:\\e\\exe\\MNE-Python\\Lib\\site-packages\\sklearn\\metrics\\_classification.py:1565: UndefinedMetricWarning: Precision is ill-defined and being set to 0.0 due to no predicted samples. Use `zero_division` parameter to control this behavior.\n",
            "  _warn_prf(average, modifier, f\"{metric.capitalize()} is\", len(result))\n"
          ]
        },
        {
          "name": "stdout",
          "output_type": "stream",
          "text": [
            "Task: S059 Run 11: Real Left vs Real Right | Acc: 0.71 | Prec: 0.00 | Rec: 0.00 | F1: 0.00\n",
            "Task: S060 Run 3: Real Left vs Real Right | Acc: 0.71 | Prec: 1.00 | Rec: 0.33 | F1: 0.50\n",
            "Task: S060 Run 7: Real Left vs Real Right | Acc: 0.86 | Prec: 1.00 | Rec: 0.50 | F1: 0.67\n"
          ]
        },
        {
          "name": "stderr",
          "output_type": "stream",
          "text": [
            "e:\\e\\exe\\MNE-Python\\Lib\\site-packages\\sklearn\\metrics\\_classification.py:1565: UndefinedMetricWarning: Precision is ill-defined and being set to 0.0 due to no predicted samples. Use `zero_division` parameter to control this behavior.\n",
            "  _warn_prf(average, modifier, f\"{metric.capitalize()} is\", len(result))\n"
          ]
        },
        {
          "name": "stdout",
          "output_type": "stream",
          "text": [
            "Task: S060 Run 11: Real Left vs Real Right | Acc: 0.57 | Prec: 0.00 | Rec: 0.00 | F1: 0.00\n"
          ]
        },
        {
          "name": "stderr",
          "output_type": "stream",
          "text": [
            "e:\\e\\exe\\MNE-Python\\Lib\\site-packages\\sklearn\\metrics\\_classification.py:1565: UndefinedMetricWarning: Precision is ill-defined and being set to 0.0 due to no predicted samples. Use `zero_division` parameter to control this behavior.\n",
            "  _warn_prf(average, modifier, f\"{metric.capitalize()} is\", len(result))\n"
          ]
        },
        {
          "name": "stdout",
          "output_type": "stream",
          "text": [
            "Task: S061 Run 3: Real Left vs Real Right | Acc: 0.57 | Prec: 0.00 | Rec: 0.00 | F1: 0.00\n"
          ]
        },
        {
          "name": "stderr",
          "output_type": "stream",
          "text": [
            "e:\\e\\exe\\MNE-Python\\Lib\\site-packages\\sklearn\\metrics\\_classification.py:1565: UndefinedMetricWarning: Precision is ill-defined and being set to 0.0 due to no predicted samples. Use `zero_division` parameter to control this behavior.\n",
            "  _warn_prf(average, modifier, f\"{metric.capitalize()} is\", len(result))\n"
          ]
        },
        {
          "name": "stdout",
          "output_type": "stream",
          "text": [
            "Task: S061 Run 7: Real Left vs Real Right | Acc: 0.57 | Prec: 0.00 | Rec: 0.00 | F1: 0.00\n"
          ]
        },
        {
          "name": "stderr",
          "output_type": "stream",
          "text": [
            "e:\\e\\exe\\MNE-Python\\Lib\\site-packages\\sklearn\\metrics\\_classification.py:1565: UndefinedMetricWarning: Precision is ill-defined and being set to 0.0 due to no predicted samples. Use `zero_division` parameter to control this behavior.\n",
            "  _warn_prf(average, modifier, f\"{metric.capitalize()} is\", len(result))\n"
          ]
        },
        {
          "name": "stdout",
          "output_type": "stream",
          "text": [
            "Task: S061 Run 11: Real Left vs Real Right | Acc: 0.57 | Prec: 0.00 | Rec: 0.00 | F1: 0.00\n",
            "Task: S062 Run 3: Real Left vs Real Right | Acc: 1.00 | Prec: 1.00 | Rec: 1.00 | F1: 1.00\n",
            "Task: S062 Run 7: Real Left vs Real Right | Acc: 1.00 | Prec: 1.00 | Rec: 1.00 | F1: 1.00\n",
            "Task: S062 Run 11: Real Left vs Real Right | Acc: 0.86 | Prec: 0.75 | Rec: 1.00 | F1: 0.86\n",
            "Task: S063 Run 3: Real Left vs Real Right | Acc: 0.57 | Prec: 0.00 | Rec: 0.00 | F1: 0.00\n"
          ]
        },
        {
          "name": "stderr",
          "output_type": "stream",
          "text": [
            "e:\\e\\exe\\MNE-Python\\Lib\\site-packages\\sklearn\\metrics\\_classification.py:1565: UndefinedMetricWarning: Precision is ill-defined and being set to 0.0 due to no predicted samples. Use `zero_division` parameter to control this behavior.\n",
            "  _warn_prf(average, modifier, f\"{metric.capitalize()} is\", len(result))\n"
          ]
        },
        {
          "name": "stdout",
          "output_type": "stream",
          "text": [
            "Task: S063 Run 7: Real Left vs Real Right | Acc: 0.57 | Prec: 0.00 | Rec: 0.00 | F1: 0.00\n"
          ]
        },
        {
          "name": "stderr",
          "output_type": "stream",
          "text": [
            "e:\\e\\exe\\MNE-Python\\Lib\\site-packages\\sklearn\\metrics\\_classification.py:1565: UndefinedMetricWarning: Precision is ill-defined and being set to 0.0 due to no predicted samples. Use `zero_division` parameter to control this behavior.\n",
            "  _warn_prf(average, modifier, f\"{metric.capitalize()} is\", len(result))\n"
          ]
        },
        {
          "name": "stdout",
          "output_type": "stream",
          "text": [
            "Task: S063 Run 11: Real Left vs Real Right | Acc: 0.71 | Prec: 0.00 | Rec: 0.00 | F1: 0.00\n"
          ]
        },
        {
          "name": "stderr",
          "output_type": "stream",
          "text": [
            "e:\\e\\exe\\MNE-Python\\Lib\\site-packages\\sklearn\\metrics\\_classification.py:1565: UndefinedMetricWarning: Precision is ill-defined and being set to 0.0 due to no predicted samples. Use `zero_division` parameter to control this behavior.\n",
            "  _warn_prf(average, modifier, f\"{metric.capitalize()} is\", len(result))\n"
          ]
        },
        {
          "name": "stdout",
          "output_type": "stream",
          "text": [
            "Task: S064 Run 3: Real Left vs Real Right | Acc: 0.71 | Prec: 0.00 | Rec: 0.00 | F1: 0.00\n",
            "Task: S064 Run 7: Real Left vs Real Right | Acc: 1.00 | Prec: 1.00 | Rec: 1.00 | F1: 1.00\n",
            "Task: S064 Run 11: Real Left vs Real Right | Acc: 0.71 | Prec: 0.50 | Rec: 0.50 | F1: 0.50\n"
          ]
        },
        {
          "name": "stderr",
          "output_type": "stream",
          "text": [
            "e:\\e\\exe\\MNE-Python\\Lib\\site-packages\\sklearn\\metrics\\_classification.py:1565: UndefinedMetricWarning: Precision is ill-defined and being set to 0.0 due to no predicted samples. Use `zero_division` parameter to control this behavior.\n",
            "  _warn_prf(average, modifier, f\"{metric.capitalize()} is\", len(result))\n"
          ]
        },
        {
          "name": "stdout",
          "output_type": "stream",
          "text": [
            "Task: S065 Run 3: Real Left vs Real Right | Acc: 0.71 | Prec: 0.00 | Rec: 0.00 | F1: 0.00\n"
          ]
        },
        {
          "name": "stderr",
          "output_type": "stream",
          "text": [
            "e:\\e\\exe\\MNE-Python\\Lib\\site-packages\\sklearn\\metrics\\_classification.py:1565: UndefinedMetricWarning: Precision is ill-defined and being set to 0.0 due to no predicted samples. Use `zero_division` parameter to control this behavior.\n",
            "  _warn_prf(average, modifier, f\"{metric.capitalize()} is\", len(result))\n"
          ]
        },
        {
          "name": "stdout",
          "output_type": "stream",
          "text": [
            "Task: S065 Run 7: Real Left vs Real Right | Acc: 0.57 | Prec: 0.00 | Rec: 0.00 | F1: 0.00\n"
          ]
        },
        {
          "name": "stderr",
          "output_type": "stream",
          "text": [
            "e:\\e\\exe\\MNE-Python\\Lib\\site-packages\\sklearn\\metrics\\_classification.py:1565: UndefinedMetricWarning: Precision is ill-defined and being set to 0.0 due to no predicted samples. Use `zero_division` parameter to control this behavior.\n",
            "  _warn_prf(average, modifier, f\"{metric.capitalize()} is\", len(result))\n"
          ]
        },
        {
          "name": "stdout",
          "output_type": "stream",
          "text": [
            "Task: S065 Run 11: Real Left vs Real Right | Acc: 0.71 | Prec: 0.00 | Rec: 0.00 | F1: 0.00\n"
          ]
        },
        {
          "name": "stderr",
          "output_type": "stream",
          "text": [
            "e:\\e\\exe\\MNE-Python\\Lib\\site-packages\\sklearn\\metrics\\_classification.py:1565: UndefinedMetricWarning: Precision is ill-defined and being set to 0.0 due to no predicted samples. Use `zero_division` parameter to control this behavior.\n",
            "  _warn_prf(average, modifier, f\"{metric.capitalize()} is\", len(result))\n"
          ]
        },
        {
          "name": "stdout",
          "output_type": "stream",
          "text": [
            "Task: S066 Run 3: Real Left vs Real Right | Acc: 0.57 | Prec: 0.00 | Rec: 0.00 | F1: 0.00\n"
          ]
        },
        {
          "name": "stderr",
          "output_type": "stream",
          "text": [
            "e:\\e\\exe\\MNE-Python\\Lib\\site-packages\\sklearn\\metrics\\_classification.py:1565: UndefinedMetricWarning: Precision is ill-defined and being set to 0.0 due to no predicted samples. Use `zero_division` parameter to control this behavior.\n",
            "  _warn_prf(average, modifier, f\"{metric.capitalize()} is\", len(result))\n"
          ]
        },
        {
          "name": "stdout",
          "output_type": "stream",
          "text": [
            "Task: S066 Run 7: Real Left vs Real Right | Acc: 0.57 | Prec: 0.00 | Rec: 0.00 | F1: 0.00\n",
            "Task: S066 Run 11: Real Left vs Real Right | Acc: 0.86 | Prec: 0.75 | Rec: 1.00 | F1: 0.86\n",
            "Task: S067 Run 3: Real Left vs Real Right | Acc: 0.71 | Prec: 1.00 | Rec: 0.33 | F1: 0.50\n"
          ]
        },
        {
          "name": "stderr",
          "output_type": "stream",
          "text": [
            "e:\\e\\exe\\MNE-Python\\Lib\\site-packages\\sklearn\\metrics\\_classification.py:1565: UndefinedMetricWarning: Precision is ill-defined and being set to 0.0 due to no predicted samples. Use `zero_division` parameter to control this behavior.\n",
            "  _warn_prf(average, modifier, f\"{metric.capitalize()} is\", len(result))\n"
          ]
        },
        {
          "name": "stdout",
          "output_type": "stream",
          "text": [
            "Task: S067 Run 7: Real Left vs Real Right | Acc: 0.71 | Prec: 0.00 | Rec: 0.00 | F1: 0.00\n"
          ]
        },
        {
          "name": "stderr",
          "output_type": "stream",
          "text": [
            "e:\\e\\exe\\MNE-Python\\Lib\\site-packages\\sklearn\\metrics\\_classification.py:1565: UndefinedMetricWarning: Precision is ill-defined and being set to 0.0 due to no predicted samples. Use `zero_division` parameter to control this behavior.\n",
            "  _warn_prf(average, modifier, f\"{metric.capitalize()} is\", len(result))\n"
          ]
        },
        {
          "name": "stdout",
          "output_type": "stream",
          "text": [
            "Task: S067 Run 11: Real Left vs Real Right | Acc: 0.71 | Prec: 0.00 | Rec: 0.00 | F1: 0.00\n"
          ]
        },
        {
          "name": "stderr",
          "output_type": "stream",
          "text": [
            "e:\\e\\exe\\MNE-Python\\Lib\\site-packages\\sklearn\\metrics\\_classification.py:1565: UndefinedMetricWarning: Precision is ill-defined and being set to 0.0 due to no predicted samples. Use `zero_division` parameter to control this behavior.\n",
            "  _warn_prf(average, modifier, f\"{metric.capitalize()} is\", len(result))\n"
          ]
        },
        {
          "name": "stdout",
          "output_type": "stream",
          "text": [
            "Task: S068 Run 3: Real Left vs Real Right | Acc: 0.71 | Prec: 0.00 | Rec: 0.00 | F1: 0.00\n",
            "Task: S068 Run 7: Real Left vs Real Right | Acc: 0.71 | Prec: 1.00 | Rec: 0.33 | F1: 0.50\n",
            "Task: S068 Run 11: Real Left vs Real Right | Acc: 0.57 | Prec: 0.50 | Rec: 0.33 | F1: 0.40\n"
          ]
        },
        {
          "name": "stderr",
          "output_type": "stream",
          "text": [
            "e:\\e\\exe\\MNE-Python\\Lib\\site-packages\\sklearn\\metrics\\_classification.py:1565: UndefinedMetricWarning: Precision is ill-defined and being set to 0.0 due to no predicted samples. Use `zero_division` parameter to control this behavior.\n",
            "  _warn_prf(average, modifier, f\"{metric.capitalize()} is\", len(result))\n"
          ]
        },
        {
          "name": "stdout",
          "output_type": "stream",
          "text": [
            "Task: S069 Run 3: Real Left vs Real Right | Acc: 0.57 | Prec: 0.00 | Rec: 0.00 | F1: 0.00\n",
            "Task: S069 Run 7: Real Left vs Real Right | Acc: 0.43 | Prec: 0.33 | Rec: 0.33 | F1: 0.33\n"
          ]
        },
        {
          "name": "stderr",
          "output_type": "stream",
          "text": [
            "e:\\e\\exe\\MNE-Python\\Lib\\site-packages\\sklearn\\metrics\\_classification.py:1565: UndefinedMetricWarning: Precision is ill-defined and being set to 0.0 due to no predicted samples. Use `zero_division` parameter to control this behavior.\n",
            "  _warn_prf(average, modifier, f\"{metric.capitalize()} is\", len(result))\n"
          ]
        },
        {
          "name": "stdout",
          "output_type": "stream",
          "text": [
            "Task: S069 Run 11: Real Left vs Real Right | Acc: 0.71 | Prec: 0.00 | Rec: 0.00 | F1: 0.00\n"
          ]
        },
        {
          "name": "stderr",
          "output_type": "stream",
          "text": [
            "e:\\e\\exe\\MNE-Python\\Lib\\site-packages\\sklearn\\metrics\\_classification.py:1565: UndefinedMetricWarning: Precision is ill-defined and being set to 0.0 due to no predicted samples. Use `zero_division` parameter to control this behavior.\n",
            "  _warn_prf(average, modifier, f\"{metric.capitalize()} is\", len(result))\n"
          ]
        },
        {
          "name": "stdout",
          "output_type": "stream",
          "text": [
            "Task: S070 Run 3: Real Left vs Real Right | Acc: 0.57 | Prec: 0.00 | Rec: 0.00 | F1: 0.00\n"
          ]
        },
        {
          "name": "stderr",
          "output_type": "stream",
          "text": [
            "e:\\e\\exe\\MNE-Python\\Lib\\site-packages\\sklearn\\metrics\\_classification.py:1565: UndefinedMetricWarning: Precision is ill-defined and being set to 0.0 due to no predicted samples. Use `zero_division` parameter to control this behavior.\n",
            "  _warn_prf(average, modifier, f\"{metric.capitalize()} is\", len(result))\n"
          ]
        },
        {
          "name": "stdout",
          "output_type": "stream",
          "text": [
            "Task: S070 Run 7: Real Left vs Real Right | Acc: 0.57 | Prec: 0.00 | Rec: 0.00 | F1: 0.00\n"
          ]
        },
        {
          "name": "stderr",
          "output_type": "stream",
          "text": [
            "e:\\e\\exe\\MNE-Python\\Lib\\site-packages\\sklearn\\metrics\\_classification.py:1565: UndefinedMetricWarning: Precision is ill-defined and being set to 0.0 due to no predicted samples. Use `zero_division` parameter to control this behavior.\n",
            "  _warn_prf(average, modifier, f\"{metric.capitalize()} is\", len(result))\n"
          ]
        },
        {
          "name": "stdout",
          "output_type": "stream",
          "text": [
            "Task: S070 Run 11: Real Left vs Real Right | Acc: 0.71 | Prec: 0.00 | Rec: 0.00 | F1: 0.00\n"
          ]
        },
        {
          "name": "stderr",
          "output_type": "stream",
          "text": [
            "e:\\e\\exe\\MNE-Python\\Lib\\site-packages\\sklearn\\metrics\\_classification.py:1565: UndefinedMetricWarning: Precision is ill-defined and being set to 0.0 due to no predicted samples. Use `zero_division` parameter to control this behavior.\n",
            "  _warn_prf(average, modifier, f\"{metric.capitalize()} is\", len(result))\n"
          ]
        },
        {
          "name": "stdout",
          "output_type": "stream",
          "text": [
            "Task: S071 Run 3: Real Left vs Real Right | Acc: 0.71 | Prec: 0.00 | Rec: 0.00 | F1: 0.00\n"
          ]
        },
        {
          "name": "stderr",
          "output_type": "stream",
          "text": [
            "e:\\e\\exe\\MNE-Python\\Lib\\site-packages\\sklearn\\metrics\\_classification.py:1565: UndefinedMetricWarning: Precision is ill-defined and being set to 0.0 due to no predicted samples. Use `zero_division` parameter to control this behavior.\n",
            "  _warn_prf(average, modifier, f\"{metric.capitalize()} is\", len(result))\n"
          ]
        },
        {
          "name": "stdout",
          "output_type": "stream",
          "text": [
            "Task: S071 Run 7: Real Left vs Real Right | Acc: 0.57 | Prec: 0.00 | Rec: 0.00 | F1: 0.00\n"
          ]
        },
        {
          "name": "stderr",
          "output_type": "stream",
          "text": [
            "e:\\e\\exe\\MNE-Python\\Lib\\site-packages\\sklearn\\metrics\\_classification.py:1565: UndefinedMetricWarning: Precision is ill-defined and being set to 0.0 due to no predicted samples. Use `zero_division` parameter to control this behavior.\n",
            "  _warn_prf(average, modifier, f\"{metric.capitalize()} is\", len(result))\n"
          ]
        },
        {
          "name": "stdout",
          "output_type": "stream",
          "text": [
            "Task: S071 Run 11: Real Left vs Real Right | Acc: 0.57 | Prec: 0.00 | Rec: 0.00 | F1: 0.00\n"
          ]
        },
        {
          "name": "stderr",
          "output_type": "stream",
          "text": [
            "e:\\e\\exe\\MNE-Python\\Lib\\site-packages\\sklearn\\metrics\\_classification.py:1565: UndefinedMetricWarning: Precision is ill-defined and being set to 0.0 due to no predicted samples. Use `zero_division` parameter to control this behavior.\n",
            "  _warn_prf(average, modifier, f\"{metric.capitalize()} is\", len(result))\n"
          ]
        },
        {
          "name": "stdout",
          "output_type": "stream",
          "text": [
            "Task: S072 Run 3: Real Left vs Real Right | Acc: 0.71 | Prec: 0.00 | Rec: 0.00 | F1: 0.00\n",
            "Task: S072 Run 7: Real Left vs Real Right | Acc: 1.00 | Prec: 1.00 | Rec: 1.00 | F1: 1.00\n",
            "Task: S072 Run 11: Real Left vs Real Right | Acc: 0.86 | Prec: 1.00 | Rec: 0.50 | F1: 0.67\n",
            "Task: S073 Run 3: Real Left vs Real Right | Acc: 1.00 | Prec: 1.00 | Rec: 1.00 | F1: 1.00\n"
          ]
        },
        {
          "name": "stderr",
          "output_type": "stream",
          "text": [
            "e:\\e\\exe\\MNE-Python\\Lib\\site-packages\\sklearn\\metrics\\_classification.py:1565: UndefinedMetricWarning: Precision is ill-defined and being set to 0.0 due to no predicted samples. Use `zero_division` parameter to control this behavior.\n",
            "  _warn_prf(average, modifier, f\"{metric.capitalize()} is\", len(result))\n"
          ]
        },
        {
          "name": "stdout",
          "output_type": "stream",
          "text": [
            "Task: S073 Run 7: Real Left vs Real Right | Acc: 0.71 | Prec: 0.00 | Rec: 0.00 | F1: 0.00\n",
            "Task: S073 Run 11: Real Left vs Real Right | Acc: 0.71 | Prec: 0.50 | Rec: 0.50 | F1: 0.50\n"
          ]
        },
        {
          "name": "stderr",
          "output_type": "stream",
          "text": [
            "e:\\e\\exe\\MNE-Python\\Lib\\site-packages\\sklearn\\metrics\\_classification.py:1565: UndefinedMetricWarning: Precision is ill-defined and being set to 0.0 due to no predicted samples. Use `zero_division` parameter to control this behavior.\n",
            "  _warn_prf(average, modifier, f\"{metric.capitalize()} is\", len(result))\n"
          ]
        },
        {
          "name": "stdout",
          "output_type": "stream",
          "text": [
            "Task: S074 Run 3: Real Left vs Real Right | Acc: 0.71 | Prec: 0.00 | Rec: 0.00 | F1: 0.00\n",
            "Task: S074 Run 7: Real Left vs Real Right | Acc: 0.86 | Prec: 1.00 | Rec: 0.50 | F1: 0.67\n",
            "Task: S074 Run 11: Real Left vs Real Right | Acc: 0.86 | Prec: 0.67 | Rec: 1.00 | F1: 0.80\n",
            "Task: S075 Run 3: Real Left vs Real Right | Acc: 0.57 | Prec: 0.00 | Rec: 0.00 | F1: 0.00\n",
            "Task: S075 Run 7: Real Left vs Real Right | Acc: 0.57 | Prec: 0.50 | Rec: 0.33 | F1: 0.40\n",
            "Task: S075 Run 11: Real Left vs Real Right | Acc: 0.86 | Prec: 0.67 | Rec: 1.00 | F1: 0.80\n",
            "Task: S076 Run 3: Real Left vs Real Right | Acc: 1.00 | Prec: 1.00 | Rec: 1.00 | F1: 1.00\n"
          ]
        },
        {
          "name": "stderr",
          "output_type": "stream",
          "text": [
            "e:\\e\\exe\\MNE-Python\\Lib\\site-packages\\sklearn\\metrics\\_classification.py:1565: UndefinedMetricWarning: Precision is ill-defined and being set to 0.0 due to no predicted samples. Use `zero_division` parameter to control this behavior.\n",
            "  _warn_prf(average, modifier, f\"{metric.capitalize()} is\", len(result))\n"
          ]
        },
        {
          "name": "stdout",
          "output_type": "stream",
          "text": [
            "Task: S076 Run 7: Real Left vs Real Right | Acc: 0.71 | Prec: 0.00 | Rec: 0.00 | F1: 0.00\n",
            "Task: S076 Run 11: Real Left vs Real Right | Acc: 0.86 | Prec: 1.00 | Rec: 0.50 | F1: 0.67\n",
            "Task: S077 Run 3: Real Left vs Real Right | Acc: 0.86 | Prec: 1.00 | Rec: 0.50 | F1: 0.67\n",
            "Task: S077 Run 7: Real Left vs Real Right | Acc: 0.86 | Prec: 1.00 | Rec: 0.50 | F1: 0.67\n"
          ]
        },
        {
          "name": "stderr",
          "output_type": "stream",
          "text": [
            "e:\\e\\exe\\MNE-Python\\Lib\\site-packages\\sklearn\\metrics\\_classification.py:1565: UndefinedMetricWarning: Precision is ill-defined and being set to 0.0 due to no predicted samples. Use `zero_division` parameter to control this behavior.\n",
            "  _warn_prf(average, modifier, f\"{metric.capitalize()} is\", len(result))\n"
          ]
        },
        {
          "name": "stdout",
          "output_type": "stream",
          "text": [
            "Task: S077 Run 11: Real Left vs Real Right | Acc: 0.71 | Prec: 0.00 | Rec: 0.00 | F1: 0.00\n"
          ]
        },
        {
          "name": "stderr",
          "output_type": "stream",
          "text": [
            "e:\\e\\exe\\MNE-Python\\Lib\\site-packages\\sklearn\\metrics\\_classification.py:1565: UndefinedMetricWarning: Precision is ill-defined and being set to 0.0 due to no predicted samples. Use `zero_division` parameter to control this behavior.\n",
            "  _warn_prf(average, modifier, f\"{metric.capitalize()} is\", len(result))\n"
          ]
        },
        {
          "name": "stdout",
          "output_type": "stream",
          "text": [
            "Task: S078 Run 3: Real Left vs Real Right | Acc: 0.71 | Prec: 0.00 | Rec: 0.00 | F1: 0.00\n"
          ]
        },
        {
          "name": "stderr",
          "output_type": "stream",
          "text": [
            "e:\\e\\exe\\MNE-Python\\Lib\\site-packages\\sklearn\\metrics\\_classification.py:1565: UndefinedMetricWarning: Precision is ill-defined and being set to 0.0 due to no predicted samples. Use `zero_division` parameter to control this behavior.\n",
            "  _warn_prf(average, modifier, f\"{metric.capitalize()} is\", len(result))\n"
          ]
        },
        {
          "name": "stdout",
          "output_type": "stream",
          "text": [
            "Task: S078 Run 7: Real Left vs Real Right | Acc: 0.71 | Prec: 0.00 | Rec: 0.00 | F1: 0.00\n"
          ]
        },
        {
          "name": "stderr",
          "output_type": "stream",
          "text": [
            "e:\\e\\exe\\MNE-Python\\Lib\\site-packages\\sklearn\\metrics\\_classification.py:1565: UndefinedMetricWarning: Precision is ill-defined and being set to 0.0 due to no predicted samples. Use `zero_division` parameter to control this behavior.\n",
            "  _warn_prf(average, modifier, f\"{metric.capitalize()} is\", len(result))\n"
          ]
        },
        {
          "name": "stdout",
          "output_type": "stream",
          "text": [
            "Task: S078 Run 11: Real Left vs Real Right | Acc: 0.57 | Prec: 0.00 | Rec: 0.00 | F1: 0.00\n"
          ]
        },
        {
          "name": "stderr",
          "output_type": "stream",
          "text": [
            "e:\\e\\exe\\MNE-Python\\Lib\\site-packages\\sklearn\\metrics\\_classification.py:1565: UndefinedMetricWarning: Precision is ill-defined and being set to 0.0 due to no predicted samples. Use `zero_division` parameter to control this behavior.\n",
            "  _warn_prf(average, modifier, f\"{metric.capitalize()} is\", len(result))\n"
          ]
        },
        {
          "name": "stdout",
          "output_type": "stream",
          "text": [
            "Task: S079 Run 3: Real Left vs Real Right | Acc: 0.57 | Prec: 0.00 | Rec: 0.00 | F1: 0.00\n"
          ]
        },
        {
          "name": "stderr",
          "output_type": "stream",
          "text": [
            "e:\\e\\exe\\MNE-Python\\Lib\\site-packages\\sklearn\\metrics\\_classification.py:1565: UndefinedMetricWarning: Precision is ill-defined and being set to 0.0 due to no predicted samples. Use `zero_division` parameter to control this behavior.\n",
            "  _warn_prf(average, modifier, f\"{metric.capitalize()} is\", len(result))\n"
          ]
        },
        {
          "name": "stdout",
          "output_type": "stream",
          "text": [
            "Task: S079 Run 7: Real Left vs Real Right | Acc: 0.71 | Prec: 0.00 | Rec: 0.00 | F1: 0.00\n"
          ]
        },
        {
          "name": "stderr",
          "output_type": "stream",
          "text": [
            "e:\\e\\exe\\MNE-Python\\Lib\\site-packages\\sklearn\\metrics\\_classification.py:1565: UndefinedMetricWarning: Precision is ill-defined and being set to 0.0 due to no predicted samples. Use `zero_division` parameter to control this behavior.\n",
            "  _warn_prf(average, modifier, f\"{metric.capitalize()} is\", len(result))\n"
          ]
        },
        {
          "name": "stdout",
          "output_type": "stream",
          "text": [
            "Task: S079 Run 11: Real Left vs Real Right | Acc: 0.57 | Prec: 0.00 | Rec: 0.00 | F1: 0.00\n",
            "Task: S080 Run 3: Real Left vs Real Right | Acc: 0.86 | Prec: 1.00 | Rec: 0.67 | F1: 0.80\n",
            "Task: S080 Run 7: Real Left vs Real Right | Acc: 0.86 | Prec: 1.00 | Rec: 0.50 | F1: 0.67\n"
          ]
        },
        {
          "name": "stderr",
          "output_type": "stream",
          "text": [
            "e:\\e\\exe\\MNE-Python\\Lib\\site-packages\\sklearn\\metrics\\_classification.py:1565: UndefinedMetricWarning: Precision is ill-defined and being set to 0.0 due to no predicted samples. Use `zero_division` parameter to control this behavior.\n",
            "  _warn_prf(average, modifier, f\"{metric.capitalize()} is\", len(result))\n"
          ]
        },
        {
          "name": "stdout",
          "output_type": "stream",
          "text": [
            "Task: S080 Run 11: Real Left vs Real Right | Acc: 0.57 | Prec: 0.00 | Rec: 0.00 | F1: 0.00\n",
            "Task: S081 Run 3: Real Left vs Real Right | Acc: 1.00 | Prec: 1.00 | Rec: 1.00 | F1: 1.00\n",
            "Task: S081 Run 7: Real Left vs Real Right | Acc: 1.00 | Prec: 1.00 | Rec: 1.00 | F1: 1.00\n",
            "Task: S081 Run 11: Real Left vs Real Right | Acc: 0.86 | Prec: 1.00 | Rec: 0.50 | F1: 0.67\n"
          ]
        },
        {
          "name": "stderr",
          "output_type": "stream",
          "text": [
            "e:\\e\\exe\\MNE-Python\\Lib\\site-packages\\sklearn\\metrics\\_classification.py:1565: UndefinedMetricWarning: Precision is ill-defined and being set to 0.0 due to no predicted samples. Use `zero_division` parameter to control this behavior.\n",
            "  _warn_prf(average, modifier, f\"{metric.capitalize()} is\", len(result))\n"
          ]
        },
        {
          "name": "stdout",
          "output_type": "stream",
          "text": [
            "Task: S082 Run 3: Real Left vs Real Right | Acc: 0.71 | Prec: 0.00 | Rec: 0.00 | F1: 0.00\n"
          ]
        },
        {
          "name": "stderr",
          "output_type": "stream",
          "text": [
            "e:\\e\\exe\\MNE-Python\\Lib\\site-packages\\sklearn\\metrics\\_classification.py:1565: UndefinedMetricWarning: Precision is ill-defined and being set to 0.0 due to no predicted samples. Use `zero_division` parameter to control this behavior.\n",
            "  _warn_prf(average, modifier, f\"{metric.capitalize()} is\", len(result))\n"
          ]
        },
        {
          "name": "stdout",
          "output_type": "stream",
          "text": [
            "Task: S082 Run 7: Real Left vs Real Right | Acc: 0.57 | Prec: 0.00 | Rec: 0.00 | F1: 0.00\n"
          ]
        },
        {
          "name": "stderr",
          "output_type": "stream",
          "text": [
            "e:\\e\\exe\\MNE-Python\\Lib\\site-packages\\sklearn\\metrics\\_classification.py:1565: UndefinedMetricWarning: Precision is ill-defined and being set to 0.0 due to no predicted samples. Use `zero_division` parameter to control this behavior.\n",
            "  _warn_prf(average, modifier, f\"{metric.capitalize()} is\", len(result))\n"
          ]
        },
        {
          "name": "stdout",
          "output_type": "stream",
          "text": [
            "Task: S082 Run 11: Real Left vs Real Right | Acc: 0.71 | Prec: 0.00 | Rec: 0.00 | F1: 0.00\n",
            "Task: S083 Run 3: Real Left vs Real Right | Acc: 1.00 | Prec: 1.00 | Rec: 1.00 | F1: 1.00\n",
            "Task: S083 Run 7: Real Left vs Real Right | Acc: 1.00 | Prec: 1.00 | Rec: 1.00 | F1: 1.00\n",
            "Task: S083 Run 11: Real Left vs Real Right | Acc: 1.00 | Prec: 1.00 | Rec: 1.00 | F1: 1.00\n"
          ]
        },
        {
          "name": "stderr",
          "output_type": "stream",
          "text": [
            "e:\\e\\exe\\MNE-Python\\Lib\\site-packages\\sklearn\\metrics\\_classification.py:1565: UndefinedMetricWarning: Precision is ill-defined and being set to 0.0 due to no predicted samples. Use `zero_division` parameter to control this behavior.\n",
            "  _warn_prf(average, modifier, f\"{metric.capitalize()} is\", len(result))\n"
          ]
        },
        {
          "name": "stdout",
          "output_type": "stream",
          "text": [
            "Task: S084 Run 3: Real Left vs Real Right | Acc: 0.57 | Prec: 0.00 | Rec: 0.00 | F1: 0.00\n",
            "Task: S084 Run 7: Real Left vs Real Right | Acc: 0.57 | Prec: 0.50 | Rec: 0.33 | F1: 0.40\n"
          ]
        },
        {
          "name": "stderr",
          "output_type": "stream",
          "text": [
            "e:\\e\\exe\\MNE-Python\\Lib\\site-packages\\sklearn\\metrics\\_classification.py:1565: UndefinedMetricWarning: Precision is ill-defined and being set to 0.0 due to no predicted samples. Use `zero_division` parameter to control this behavior.\n",
            "  _warn_prf(average, modifier, f\"{metric.capitalize()} is\", len(result))\n"
          ]
        },
        {
          "name": "stdout",
          "output_type": "stream",
          "text": [
            "Task: S084 Run 11: Real Left vs Real Right | Acc: 0.57 | Prec: 0.00 | Rec: 0.00 | F1: 0.00\n",
            "Task: S085 Run 3: Real Left vs Real Right | Acc: 0.71 | Prec: 0.50 | Rec: 0.50 | F1: 0.50\n"
          ]
        },
        {
          "name": "stderr",
          "output_type": "stream",
          "text": [
            "e:\\e\\exe\\MNE-Python\\Lib\\site-packages\\sklearn\\metrics\\_classification.py:1565: UndefinedMetricWarning: Precision is ill-defined and being set to 0.0 due to no predicted samples. Use `zero_division` parameter to control this behavior.\n",
            "  _warn_prf(average, modifier, f\"{metric.capitalize()} is\", len(result))\n"
          ]
        },
        {
          "name": "stdout",
          "output_type": "stream",
          "text": [
            "Task: S085 Run 7: Real Left vs Real Right | Acc: 0.57 | Prec: 0.00 | Rec: 0.00 | F1: 0.00\n",
            "Task: S085 Run 11: Real Left vs Real Right | Acc: 0.57 | Prec: 0.00 | Rec: 0.00 | F1: 0.00\n",
            "Task: S086 Run 3: Real Left vs Real Right | Acc: 0.86 | Prec: 1.00 | Rec: 0.50 | F1: 0.67\n"
          ]
        },
        {
          "name": "stderr",
          "output_type": "stream",
          "text": [
            "e:\\e\\exe\\MNE-Python\\Lib\\site-packages\\sklearn\\metrics\\_classification.py:1565: UndefinedMetricWarning: Precision is ill-defined and being set to 0.0 due to no predicted samples. Use `zero_division` parameter to control this behavior.\n",
            "  _warn_prf(average, modifier, f\"{metric.capitalize()} is\", len(result))\n"
          ]
        },
        {
          "name": "stdout",
          "output_type": "stream",
          "text": [
            "Task: S086 Run 7: Real Left vs Real Right | Acc: 0.57 | Prec: 0.00 | Rec: 0.00 | F1: 0.00\n",
            "Task: S086 Run 11: Real Left vs Real Right | Acc: 0.86 | Prec: 1.00 | Rec: 0.50 | F1: 0.67\n"
          ]
        },
        {
          "name": "stderr",
          "output_type": "stream",
          "text": [
            "e:\\e\\exe\\MNE-Python\\Lib\\site-packages\\sklearn\\metrics\\_classification.py:1565: UndefinedMetricWarning: Precision is ill-defined and being set to 0.0 due to no predicted samples. Use `zero_division` parameter to control this behavior.\n",
            "  _warn_prf(average, modifier, f\"{metric.capitalize()} is\", len(result))\n"
          ]
        },
        {
          "name": "stdout",
          "output_type": "stream",
          "text": [
            "Task: S087 Run 3: Real Left vs Real Right | Acc: 0.71 | Prec: 0.00 | Rec: 0.00 | F1: 0.00\n"
          ]
        },
        {
          "name": "stderr",
          "output_type": "stream",
          "text": [
            "e:\\e\\exe\\MNE-Python\\Lib\\site-packages\\sklearn\\metrics\\_classification.py:1565: UndefinedMetricWarning: Precision is ill-defined and being set to 0.0 due to no predicted samples. Use `zero_division` parameter to control this behavior.\n",
            "  _warn_prf(average, modifier, f\"{metric.capitalize()} is\", len(result))\n"
          ]
        },
        {
          "name": "stdout",
          "output_type": "stream",
          "text": [
            "Task: S087 Run 7: Real Left vs Real Right | Acc: 0.71 | Prec: 0.00 | Rec: 0.00 | F1: 0.00\n"
          ]
        },
        {
          "name": "stderr",
          "output_type": "stream",
          "text": [
            "e:\\e\\exe\\MNE-Python\\Lib\\site-packages\\sklearn\\metrics\\_classification.py:1565: UndefinedMetricWarning: Precision is ill-defined and being set to 0.0 due to no predicted samples. Use `zero_division` parameter to control this behavior.\n",
            "  _warn_prf(average, modifier, f\"{metric.capitalize()} is\", len(result))\n"
          ]
        },
        {
          "name": "stdout",
          "output_type": "stream",
          "text": [
            "Task: S087 Run 11: Real Left vs Real Right | Acc: 0.71 | Prec: 0.00 | Rec: 0.00 | F1: 0.00\n"
          ]
        },
        {
          "name": "stderr",
          "output_type": "stream",
          "text": [
            "e:\\e\\exe\\MNE-Python\\Lib\\site-packages\\sklearn\\metrics\\_classification.py:1565: UndefinedMetricWarning: Precision is ill-defined and being set to 0.0 due to no predicted samples. Use `zero_division` parameter to control this behavior.\n",
            "  _warn_prf(average, modifier, f\"{metric.capitalize()} is\", len(result))\n"
          ]
        },
        {
          "name": "stdout",
          "output_type": "stream",
          "text": [
            "Task: S088 Run 3: Real Left vs Real Right | Acc: 0.67 | Prec: 0.00 | Rec: 0.00 | F1: 0.00\n",
            "Task: S088 Run 7: Real Left vs Real Right | Acc: 0.67 | Prec: 0.50 | Rec: 0.33 | F1: 0.40\n"
          ]
        },
        {
          "name": "stderr",
          "output_type": "stream",
          "text": [
            "e:\\e\\exe\\MNE-Python\\Lib\\site-packages\\sklearn\\metrics\\_classification.py:1565: UndefinedMetricWarning: Precision is ill-defined and being set to 0.0 due to no predicted samples. Use `zero_division` parameter to control this behavior.\n",
            "  _warn_prf(average, modifier, f\"{metric.capitalize()} is\", len(result))\n"
          ]
        },
        {
          "name": "stdout",
          "output_type": "stream",
          "text": [
            "Task: S088 Run 11: Real Left vs Real Right | Acc: 0.67 | Prec: 0.00 | Rec: 0.00 | F1: 0.00\n",
            "Task: S089 Run 3: Real Left vs Real Right | Acc: 0.80 | Prec: 1.00 | Rec: 0.33 | F1: 0.50\n",
            "Task: S089 Run 7: Real Left vs Real Right | Acc: 0.71 | Prec: 0.67 | Rec: 0.67 | F1: 0.67\n"
          ]
        },
        {
          "name": "stderr",
          "output_type": "stream",
          "text": [
            "e:\\e\\exe\\MNE-Python\\Lib\\site-packages\\sklearn\\metrics\\_classification.py:1565: UndefinedMetricWarning: Precision is ill-defined and being set to 0.0 due to no predicted samples. Use `zero_division` parameter to control this behavior.\n",
            "  _warn_prf(average, modifier, f\"{metric.capitalize()} is\", len(result))\n"
          ]
        },
        {
          "name": "stdout",
          "output_type": "stream",
          "text": [
            "Task: S089 Run 11: Real Left vs Real Right | Acc: 0.71 | Prec: 0.00 | Rec: 0.00 | F1: 0.00\n",
            "Task: S090 Run 3: Real Left vs Real Right | Acc: 0.43 | Prec: 0.25 | Rec: 0.50 | F1: 0.33\n",
            "Task: S090 Run 7: Real Left vs Real Right | Acc: 0.86 | Prec: 1.00 | Rec: 0.50 | F1: 0.67\n"
          ]
        },
        {
          "name": "stderr",
          "output_type": "stream",
          "text": [
            "e:\\e\\exe\\MNE-Python\\Lib\\site-packages\\sklearn\\metrics\\_classification.py:1565: UndefinedMetricWarning: Precision is ill-defined and being set to 0.0 due to no predicted samples. Use `zero_division` parameter to control this behavior.\n",
            "  _warn_prf(average, modifier, f\"{metric.capitalize()} is\", len(result))\n"
          ]
        },
        {
          "name": "stdout",
          "output_type": "stream",
          "text": [
            "Task: S090 Run 11: Real Left vs Real Right | Acc: 0.71 | Prec: 0.00 | Rec: 0.00 | F1: 0.00\n"
          ]
        },
        {
          "name": "stderr",
          "output_type": "stream",
          "text": [
            "e:\\e\\exe\\MNE-Python\\Lib\\site-packages\\sklearn\\metrics\\_classification.py:1565: UndefinedMetricWarning: Precision is ill-defined and being set to 0.0 due to no predicted samples. Use `zero_division` parameter to control this behavior.\n",
            "  _warn_prf(average, modifier, f\"{metric.capitalize()} is\", len(result))\n"
          ]
        },
        {
          "name": "stdout",
          "output_type": "stream",
          "text": [
            "Task: S091 Run 3: Real Left vs Real Right | Acc: 0.71 | Prec: 0.00 | Rec: 0.00 | F1: 0.00\n",
            "Task: S091 Run 7: Real Left vs Real Right | Acc: 0.86 | Prec: 1.00 | Rec: 0.50 | F1: 0.67\n",
            "Task: S091 Run 11: Real Left vs Real Right | Acc: 0.71 | Prec: 1.00 | Rec: 0.33 | F1: 0.50\n",
            "Task: S092 Run 3: Real Left vs Real Right | Acc: 0.56 | Prec: 0.33 | Rec: 0.33 | F1: 0.33\n",
            "Task: S092 Run 7: Real Left vs Real Right | Acc: 0.33 | Prec: 0.00 | Rec: 0.00 | F1: 0.00\n",
            "Task: S092 Run 11: Real Left vs Real Right | Acc: 0.78 | Prec: 1.00 | Rec: 0.33 | F1: 0.50\n"
          ]
        },
        {
          "name": "stderr",
          "output_type": "stream",
          "text": [
            "e:\\e\\exe\\MNE-Python\\Lib\\site-packages\\sklearn\\metrics\\_classification.py:1565: UndefinedMetricWarning: Precision is ill-defined and being set to 0.0 due to no predicted samples. Use `zero_division` parameter to control this behavior.\n",
            "  _warn_prf(average, modifier, f\"{metric.capitalize()} is\", len(result))\n"
          ]
        },
        {
          "name": "stdout",
          "output_type": "stream",
          "text": [
            "Task: S093 Run 3: Real Left vs Real Right | Acc: 0.57 | Prec: 0.00 | Rec: 0.00 | F1: 0.00\n"
          ]
        },
        {
          "name": "stderr",
          "output_type": "stream",
          "text": [
            "e:\\e\\exe\\MNE-Python\\Lib\\site-packages\\sklearn\\metrics\\_classification.py:1565: UndefinedMetricWarning: Precision is ill-defined and being set to 0.0 due to no predicted samples. Use `zero_division` parameter to control this behavior.\n",
            "  _warn_prf(average, modifier, f\"{metric.capitalize()} is\", len(result))\n"
          ]
        },
        {
          "name": "stdout",
          "output_type": "stream",
          "text": [
            "Task: S093 Run 7: Real Left vs Real Right | Acc: 0.57 | Prec: 0.00 | Rec: 0.00 | F1: 0.00\n"
          ]
        },
        {
          "name": "stderr",
          "output_type": "stream",
          "text": [
            "e:\\e\\exe\\MNE-Python\\Lib\\site-packages\\sklearn\\metrics\\_classification.py:1565: UndefinedMetricWarning: Precision is ill-defined and being set to 0.0 due to no predicted samples. Use `zero_division` parameter to control this behavior.\n",
            "  _warn_prf(average, modifier, f\"{metric.capitalize()} is\", len(result))\n"
          ]
        },
        {
          "name": "stdout",
          "output_type": "stream",
          "text": [
            "Task: S093 Run 11: Real Left vs Real Right | Acc: 0.71 | Prec: 0.00 | Rec: 0.00 | F1: 0.00\n",
            "Task: S094 Run 3: Real Left vs Real Right | Acc: 1.00 | Prec: 1.00 | Rec: 1.00 | F1: 1.00\n",
            "Task: S094 Run 7: Real Left vs Real Right | Acc: 1.00 | Prec: 1.00 | Rec: 1.00 | F1: 1.00\n",
            "Task: S094 Run 11: Real Left vs Real Right | Acc: 0.86 | Prec: 0.67 | Rec: 1.00 | F1: 0.80\n"
          ]
        },
        {
          "name": "stderr",
          "output_type": "stream",
          "text": [
            "e:\\e\\exe\\MNE-Python\\Lib\\site-packages\\sklearn\\metrics\\_classification.py:1565: UndefinedMetricWarning: Precision is ill-defined and being set to 0.0 due to no predicted samples. Use `zero_division` parameter to control this behavior.\n",
            "  _warn_prf(average, modifier, f\"{metric.capitalize()} is\", len(result))\n"
          ]
        },
        {
          "name": "stdout",
          "output_type": "stream",
          "text": [
            "Task: S095 Run 3: Real Left vs Real Right | Acc: 0.57 | Prec: 0.00 | Rec: 0.00 | F1: 0.00\n"
          ]
        },
        {
          "name": "stderr",
          "output_type": "stream",
          "text": [
            "e:\\e\\exe\\MNE-Python\\Lib\\site-packages\\sklearn\\metrics\\_classification.py:1565: UndefinedMetricWarning: Precision is ill-defined and being set to 0.0 due to no predicted samples. Use `zero_division` parameter to control this behavior.\n",
            "  _warn_prf(average, modifier, f\"{metric.capitalize()} is\", len(result))\n"
          ]
        },
        {
          "name": "stdout",
          "output_type": "stream",
          "text": [
            "Task: S095 Run 7: Real Left vs Real Right | Acc: 0.71 | Prec: 0.00 | Rec: 0.00 | F1: 0.00\n"
          ]
        },
        {
          "name": "stderr",
          "output_type": "stream",
          "text": [
            "e:\\e\\exe\\MNE-Python\\Lib\\site-packages\\sklearn\\metrics\\_classification.py:1565: UndefinedMetricWarning: Precision is ill-defined and being set to 0.0 due to no predicted samples. Use `zero_division` parameter to control this behavior.\n",
            "  _warn_prf(average, modifier, f\"{metric.capitalize()} is\", len(result))\n"
          ]
        },
        {
          "name": "stdout",
          "output_type": "stream",
          "text": [
            "Task: S095 Run 11: Real Left vs Real Right | Acc: 0.71 | Prec: 0.00 | Rec: 0.00 | F1: 0.00\n"
          ]
        },
        {
          "name": "stderr",
          "output_type": "stream",
          "text": [
            "e:\\e\\exe\\MNE-Python\\Lib\\site-packages\\sklearn\\metrics\\_classification.py:1565: UndefinedMetricWarning: Precision is ill-defined and being set to 0.0 due to no predicted samples. Use `zero_division` parameter to control this behavior.\n",
            "  _warn_prf(average, modifier, f\"{metric.capitalize()} is\", len(result))\n"
          ]
        },
        {
          "name": "stdout",
          "output_type": "stream",
          "text": [
            "Task: S096 Run 3: Real Left vs Real Right | Acc: 0.71 | Prec: 0.00 | Rec: 0.00 | F1: 0.00\n"
          ]
        },
        {
          "name": "stderr",
          "output_type": "stream",
          "text": [
            "e:\\e\\exe\\MNE-Python\\Lib\\site-packages\\sklearn\\metrics\\_classification.py:1565: UndefinedMetricWarning: Precision is ill-defined and being set to 0.0 due to no predicted samples. Use `zero_division` parameter to control this behavior.\n",
            "  _warn_prf(average, modifier, f\"{metric.capitalize()} is\", len(result))\n"
          ]
        },
        {
          "name": "stdout",
          "output_type": "stream",
          "text": [
            "Task: S096 Run 7: Real Left vs Real Right | Acc: 0.71 | Prec: 0.00 | Rec: 0.00 | F1: 0.00\n"
          ]
        },
        {
          "name": "stderr",
          "output_type": "stream",
          "text": [
            "e:\\e\\exe\\MNE-Python\\Lib\\site-packages\\sklearn\\metrics\\_classification.py:1565: UndefinedMetricWarning: Precision is ill-defined and being set to 0.0 due to no predicted samples. Use `zero_division` parameter to control this behavior.\n",
            "  _warn_prf(average, modifier, f\"{metric.capitalize()} is\", len(result))\n"
          ]
        },
        {
          "name": "stdout",
          "output_type": "stream",
          "text": [
            "Task: S096 Run 11: Real Left vs Real Right | Acc: 0.57 | Prec: 0.00 | Rec: 0.00 | F1: 0.00\n"
          ]
        },
        {
          "name": "stderr",
          "output_type": "stream",
          "text": [
            "e:\\e\\exe\\MNE-Python\\Lib\\site-packages\\sklearn\\metrics\\_classification.py:1565: UndefinedMetricWarning: Precision is ill-defined and being set to 0.0 due to no predicted samples. Use `zero_division` parameter to control this behavior.\n",
            "  _warn_prf(average, modifier, f\"{metric.capitalize()} is\", len(result))\n"
          ]
        },
        {
          "name": "stdout",
          "output_type": "stream",
          "text": [
            "Task: S097 Run 3: Real Left vs Real Right | Acc: 0.71 | Prec: 0.00 | Rec: 0.00 | F1: 0.00\n"
          ]
        },
        {
          "name": "stderr",
          "output_type": "stream",
          "text": [
            "e:\\e\\exe\\MNE-Python\\Lib\\site-packages\\sklearn\\metrics\\_classification.py:1565: UndefinedMetricWarning: Precision is ill-defined and being set to 0.0 due to no predicted samples. Use `zero_division` parameter to control this behavior.\n",
            "  _warn_prf(average, modifier, f\"{metric.capitalize()} is\", len(result))\n"
          ]
        },
        {
          "name": "stdout",
          "output_type": "stream",
          "text": [
            "Task: S097 Run 7: Real Left vs Real Right | Acc: 0.57 | Prec: 0.00 | Rec: 0.00 | F1: 0.00\n"
          ]
        },
        {
          "name": "stderr",
          "output_type": "stream",
          "text": [
            "e:\\e\\exe\\MNE-Python\\Lib\\site-packages\\sklearn\\metrics\\_classification.py:1565: UndefinedMetricWarning: Precision is ill-defined and being set to 0.0 due to no predicted samples. Use `zero_division` parameter to control this behavior.\n",
            "  _warn_prf(average, modifier, f\"{metric.capitalize()} is\", len(result))\n"
          ]
        },
        {
          "name": "stdout",
          "output_type": "stream",
          "text": [
            "Task: S097 Run 11: Real Left vs Real Right | Acc: 0.71 | Prec: 0.00 | Rec: 0.00 | F1: 0.00\n",
            "Task: S098 Run 3: Real Left vs Real Right | Acc: 1.00 | Prec: 1.00 | Rec: 1.00 | F1: 1.00\n"
          ]
        },
        {
          "name": "stderr",
          "output_type": "stream",
          "text": [
            "e:\\e\\exe\\MNE-Python\\Lib\\site-packages\\sklearn\\metrics\\_classification.py:1565: UndefinedMetricWarning: Precision is ill-defined and being set to 0.0 due to no predicted samples. Use `zero_division` parameter to control this behavior.\n",
            "  _warn_prf(average, modifier, f\"{metric.capitalize()} is\", len(result))\n"
          ]
        },
        {
          "name": "stdout",
          "output_type": "stream",
          "text": [
            "Task: S098 Run 7: Real Left vs Real Right | Acc: 0.71 | Prec: 0.00 | Rec: 0.00 | F1: 0.00\n"
          ]
        },
        {
          "name": "stderr",
          "output_type": "stream",
          "text": [
            "e:\\e\\exe\\MNE-Python\\Lib\\site-packages\\sklearn\\metrics\\_classification.py:1565: UndefinedMetricWarning: Precision is ill-defined and being set to 0.0 due to no predicted samples. Use `zero_division` parameter to control this behavior.\n",
            "  _warn_prf(average, modifier, f\"{metric.capitalize()} is\", len(result))\n"
          ]
        },
        {
          "name": "stdout",
          "output_type": "stream",
          "text": [
            "Task: S098 Run 11: Real Left vs Real Right | Acc: 0.57 | Prec: 0.00 | Rec: 0.00 | F1: 0.00\n"
          ]
        },
        {
          "name": "stderr",
          "output_type": "stream",
          "text": [
            "e:\\e\\exe\\MNE-Python\\Lib\\site-packages\\sklearn\\metrics\\_classification.py:1565: UndefinedMetricWarning: Precision is ill-defined and being set to 0.0 due to no predicted samples. Use `zero_division` parameter to control this behavior.\n",
            "  _warn_prf(average, modifier, f\"{metric.capitalize()} is\", len(result))\n"
          ]
        },
        {
          "name": "stdout",
          "output_type": "stream",
          "text": [
            "Task: S099 Run 3: Real Left vs Real Right | Acc: 0.57 | Prec: 0.00 | Rec: 0.00 | F1: 0.00\n"
          ]
        },
        {
          "name": "stderr",
          "output_type": "stream",
          "text": [
            "e:\\e\\exe\\MNE-Python\\Lib\\site-packages\\sklearn\\metrics\\_classification.py:1565: UndefinedMetricWarning: Precision is ill-defined and being set to 0.0 due to no predicted samples. Use `zero_division` parameter to control this behavior.\n",
            "  _warn_prf(average, modifier, f\"{metric.capitalize()} is\", len(result))\n"
          ]
        },
        {
          "name": "stdout",
          "output_type": "stream",
          "text": [
            "Task: S099 Run 7: Real Left vs Real Right | Acc: 0.57 | Prec: 0.00 | Rec: 0.00 | F1: 0.00\n"
          ]
        },
        {
          "name": "stderr",
          "output_type": "stream",
          "text": [
            "e:\\e\\exe\\MNE-Python\\Lib\\site-packages\\sklearn\\metrics\\_classification.py:1565: UndefinedMetricWarning: Precision is ill-defined and being set to 0.0 due to no predicted samples. Use `zero_division` parameter to control this behavior.\n",
            "  _warn_prf(average, modifier, f\"{metric.capitalize()} is\", len(result))\n"
          ]
        },
        {
          "name": "stdout",
          "output_type": "stream",
          "text": [
            "Task: S099 Run 11: Real Left vs Real Right | Acc: 0.71 | Prec: 0.00 | Rec: 0.00 | F1: 0.00\n"
          ]
        },
        {
          "name": "stderr",
          "output_type": "stream",
          "text": [
            "e:\\e\\exe\\MNE-Python\\Lib\\site-packages\\sklearn\\metrics\\_classification.py:1565: UndefinedMetricWarning: Precision is ill-defined and being set to 0.0 due to no predicted samples. Use `zero_division` parameter to control this behavior.\n",
            "  _warn_prf(average, modifier, f\"{metric.capitalize()} is\", len(result))\n"
          ]
        },
        {
          "name": "stdout",
          "output_type": "stream",
          "text": [
            "Task: S100 Run 3: Real Left vs Real Right | Acc: 0.67 | Prec: 0.00 | Rec: 0.00 | F1: 0.00\n",
            "Task: S100 Run 7: Real Left vs Real Right | Acc: 0.67 | Prec: 0.50 | Rec: 0.50 | F1: 0.50\n",
            "Task: S100 Run 11: Real Left vs Real Right | Acc: 0.83 | Prec: 1.00 | Rec: 0.50 | F1: 0.67\n"
          ]
        },
        {
          "name": "stderr",
          "output_type": "stream",
          "text": [
            "e:\\e\\exe\\MNE-Python\\Lib\\site-packages\\sklearn\\metrics\\_classification.py:1565: UndefinedMetricWarning: Precision is ill-defined and being set to 0.0 due to no predicted samples. Use `zero_division` parameter to control this behavior.\n",
            "  _warn_prf(average, modifier, f\"{metric.capitalize()} is\", len(result))\n"
          ]
        },
        {
          "name": "stdout",
          "output_type": "stream",
          "text": [
            "Task: S101 Run 3: Real Left vs Real Right | Acc: 0.57 | Prec: 0.00 | Rec: 0.00 | F1: 0.00\n"
          ]
        },
        {
          "name": "stderr",
          "output_type": "stream",
          "text": [
            "e:\\e\\exe\\MNE-Python\\Lib\\site-packages\\sklearn\\metrics\\_classification.py:1565: UndefinedMetricWarning: Precision is ill-defined and being set to 0.0 due to no predicted samples. Use `zero_division` parameter to control this behavior.\n",
            "  _warn_prf(average, modifier, f\"{metric.capitalize()} is\", len(result))\n"
          ]
        },
        {
          "name": "stdout",
          "output_type": "stream",
          "text": [
            "Task: S101 Run 7: Real Left vs Real Right | Acc: 0.71 | Prec: 0.00 | Rec: 0.00 | F1: 0.00\n"
          ]
        },
        {
          "name": "stderr",
          "output_type": "stream",
          "text": [
            "e:\\e\\exe\\MNE-Python\\Lib\\site-packages\\sklearn\\metrics\\_classification.py:1565: UndefinedMetricWarning: Precision is ill-defined and being set to 0.0 due to no predicted samples. Use `zero_division` parameter to control this behavior.\n",
            "  _warn_prf(average, modifier, f\"{metric.capitalize()} is\", len(result))\n"
          ]
        },
        {
          "name": "stdout",
          "output_type": "stream",
          "text": [
            "Task: S101 Run 11: Real Left vs Real Right | Acc: 0.57 | Prec: 0.00 | Rec: 0.00 | F1: 0.00\n",
            "Task: S102 Run 3: Real Left vs Real Right | Acc: 0.57 | Prec: 0.00 | Rec: 0.00 | F1: 0.00\n"
          ]
        },
        {
          "name": "stderr",
          "output_type": "stream",
          "text": [
            "e:\\e\\exe\\MNE-Python\\Lib\\site-packages\\sklearn\\metrics\\_classification.py:1565: UndefinedMetricWarning: Precision is ill-defined and being set to 0.0 due to no predicted samples. Use `zero_division` parameter to control this behavior.\n",
            "  _warn_prf(average, modifier, f\"{metric.capitalize()} is\", len(result))\n"
          ]
        },
        {
          "name": "stdout",
          "output_type": "stream",
          "text": [
            "Task: S102 Run 7: Real Left vs Real Right | Acc: 0.71 | Prec: 0.00 | Rec: 0.00 | F1: 0.00\n",
            "Task: S102 Run 11: Real Left vs Real Right | Acc: 0.86 | Prec: 1.00 | Rec: 0.50 | F1: 0.67\n",
            "Task: S103 Run 3: Real Left vs Real Right | Acc: 0.71 | Prec: 1.00 | Rec: 0.33 | F1: 0.50\n",
            "Task: S103 Run 7: Real Left vs Real Right | Acc: 0.71 | Prec: 1.00 | Rec: 0.33 | F1: 0.50\n"
          ]
        },
        {
          "name": "stderr",
          "output_type": "stream",
          "text": [
            "e:\\e\\exe\\MNE-Python\\Lib\\site-packages\\sklearn\\metrics\\_classification.py:1565: UndefinedMetricWarning: Precision is ill-defined and being set to 0.0 due to no predicted samples. Use `zero_division` parameter to control this behavior.\n",
            "  _warn_prf(average, modifier, f\"{metric.capitalize()} is\", len(result))\n"
          ]
        },
        {
          "name": "stdout",
          "output_type": "stream",
          "text": [
            "Task: S103 Run 11: Real Left vs Real Right | Acc: 0.71 | Prec: 0.00 | Rec: 0.00 | F1: 0.00\n",
            "Task: S104 Run 3: Real Left vs Real Right | Acc: 0.71 | Prec: 0.50 | Rec: 0.50 | F1: 0.50\n",
            "Task: S104 Run 7: Real Left vs Real Right | Acc: 0.71 | Prec: 1.00 | Rec: 0.33 | F1: 0.50\n"
          ]
        },
        {
          "name": "stderr",
          "output_type": "stream",
          "text": [
            "e:\\e\\exe\\MNE-Python\\Lib\\site-packages\\sklearn\\metrics\\_classification.py:1565: UndefinedMetricWarning: Precision is ill-defined and being set to 0.0 due to no predicted samples. Use `zero_division` parameter to control this behavior.\n",
            "  _warn_prf(average, modifier, f\"{metric.capitalize()} is\", len(result))\n"
          ]
        },
        {
          "name": "stdout",
          "output_type": "stream",
          "text": [
            "Task: S104 Run 11: Real Left vs Real Right | Acc: 0.57 | Prec: 0.00 | Rec: 0.00 | F1: 0.00\n"
          ]
        },
        {
          "name": "stderr",
          "output_type": "stream",
          "text": [
            "e:\\e\\exe\\MNE-Python\\Lib\\site-packages\\sklearn\\metrics\\_classification.py:1565: UndefinedMetricWarning: Precision is ill-defined and being set to 0.0 due to no predicted samples. Use `zero_division` parameter to control this behavior.\n",
            "  _warn_prf(average, modifier, f\"{metric.capitalize()} is\", len(result))\n"
          ]
        },
        {
          "name": "stdout",
          "output_type": "stream",
          "text": [
            "Task: S105 Run 3: Real Left vs Real Right | Acc: 0.71 | Prec: 0.00 | Rec: 0.00 | F1: 0.00\n"
          ]
        },
        {
          "name": "stderr",
          "output_type": "stream",
          "text": [
            "e:\\e\\exe\\MNE-Python\\Lib\\site-packages\\sklearn\\metrics\\_classification.py:1565: UndefinedMetricWarning: Precision is ill-defined and being set to 0.0 due to no predicted samples. Use `zero_division` parameter to control this behavior.\n",
            "  _warn_prf(average, modifier, f\"{metric.capitalize()} is\", len(result))\n"
          ]
        },
        {
          "name": "stdout",
          "output_type": "stream",
          "text": [
            "Task: S105 Run 7: Real Left vs Real Right | Acc: 0.71 | Prec: 0.00 | Rec: 0.00 | F1: 0.00\n",
            "Task: S105 Run 11: Real Left vs Real Right | Acc: 0.43 | Prec: 0.00 | Rec: 0.00 | F1: 0.00\n",
            "Task: S106 Run 3: Real Left vs Real Right | Acc: 0.57 | Prec: 0.00 | Rec: 0.00 | F1: 0.00\n"
          ]
        },
        {
          "name": "stderr",
          "output_type": "stream",
          "text": [
            "e:\\e\\exe\\MNE-Python\\Lib\\site-packages\\sklearn\\metrics\\_classification.py:1565: UndefinedMetricWarning: Precision is ill-defined and being set to 0.0 due to no predicted samples. Use `zero_division` parameter to control this behavior.\n",
            "  _warn_prf(average, modifier, f\"{metric.capitalize()} is\", len(result))\n"
          ]
        },
        {
          "name": "stdout",
          "output_type": "stream",
          "text": [
            "Task: S106 Run 7: Real Left vs Real Right | Acc: 0.57 | Prec: 0.00 | Rec: 0.00 | F1: 0.00\n"
          ]
        },
        {
          "name": "stderr",
          "output_type": "stream",
          "text": [
            "e:\\e\\exe\\MNE-Python\\Lib\\site-packages\\sklearn\\metrics\\_classification.py:1565: UndefinedMetricWarning: Precision is ill-defined and being set to 0.0 due to no predicted samples. Use `zero_division` parameter to control this behavior.\n",
            "  _warn_prf(average, modifier, f\"{metric.capitalize()} is\", len(result))\n"
          ]
        },
        {
          "name": "stdout",
          "output_type": "stream",
          "text": [
            "Task: S106 Run 11: Real Left vs Real Right | Acc: 0.71 | Prec: 0.00 | Rec: 0.00 | F1: 0.00\n"
          ]
        },
        {
          "name": "stderr",
          "output_type": "stream",
          "text": [
            "e:\\e\\exe\\MNE-Python\\Lib\\site-packages\\sklearn\\metrics\\_classification.py:1565: UndefinedMetricWarning: Precision is ill-defined and being set to 0.0 due to no predicted samples. Use `zero_division` parameter to control this behavior.\n",
            "  _warn_prf(average, modifier, f\"{metric.capitalize()} is\", len(result))\n"
          ]
        },
        {
          "name": "stdout",
          "output_type": "stream",
          "text": [
            "Task: S107 Run 3: Real Left vs Real Right | Acc: 0.57 | Prec: 0.00 | Rec: 0.00 | F1: 0.00\n"
          ]
        },
        {
          "name": "stderr",
          "output_type": "stream",
          "text": [
            "e:\\e\\exe\\MNE-Python\\Lib\\site-packages\\sklearn\\metrics\\_classification.py:1565: UndefinedMetricWarning: Precision is ill-defined and being set to 0.0 due to no predicted samples. Use `zero_division` parameter to control this behavior.\n",
            "  _warn_prf(average, modifier, f\"{metric.capitalize()} is\", len(result))\n"
          ]
        },
        {
          "name": "stdout",
          "output_type": "stream",
          "text": [
            "Task: S107 Run 7: Real Left vs Real Right | Acc: 0.71 | Prec: 0.00 | Rec: 0.00 | F1: 0.00\n"
          ]
        },
        {
          "name": "stderr",
          "output_type": "stream",
          "text": [
            "e:\\e\\exe\\MNE-Python\\Lib\\site-packages\\sklearn\\metrics\\_classification.py:1565: UndefinedMetricWarning: Precision is ill-defined and being set to 0.0 due to no predicted samples. Use `zero_division` parameter to control this behavior.\n",
            "  _warn_prf(average, modifier, f\"{metric.capitalize()} is\", len(result))\n"
          ]
        },
        {
          "name": "stdout",
          "output_type": "stream",
          "text": [
            "Task: S107 Run 11: Real Left vs Real Right | Acc: 0.57 | Prec: 0.00 | Rec: 0.00 | F1: 0.00\n",
            "Task: S108 Run 3: Real Left vs Real Right | Acc: 0.86 | Prec: 1.00 | Rec: 0.50 | F1: 0.67\n",
            "Task: S108 Run 7: Real Left vs Real Right | Acc: 0.86 | Prec: 1.00 | Rec: 0.50 | F1: 0.67\n"
          ]
        },
        {
          "name": "stderr",
          "output_type": "stream",
          "text": [
            "e:\\e\\exe\\MNE-Python\\Lib\\site-packages\\sklearn\\metrics\\_classification.py:1565: UndefinedMetricWarning: Precision is ill-defined and being set to 0.0 due to no predicted samples. Use `zero_division` parameter to control this behavior.\n",
            "  _warn_prf(average, modifier, f\"{metric.capitalize()} is\", len(result))\n"
          ]
        },
        {
          "name": "stdout",
          "output_type": "stream",
          "text": [
            "Task: S108 Run 11: Real Left vs Real Right | Acc: 0.71 | Prec: 0.00 | Rec: 0.00 | F1: 0.00\n",
            "Task: S109 Run 3: Real Left vs Real Right | Acc: 0.43 | Prec: 0.00 | Rec: 0.00 | F1: 0.00\n",
            "Task: S109 Run 7: Real Left vs Real Right | Acc: 0.86 | Prec: 1.00 | Rec: 0.50 | F1: 0.67\n"
          ]
        },
        {
          "name": "stderr",
          "output_type": "stream",
          "text": [
            "e:\\e\\exe\\MNE-Python\\Lib\\site-packages\\sklearn\\metrics\\_classification.py:1565: UndefinedMetricWarning: Precision is ill-defined and being set to 0.0 due to no predicted samples. Use `zero_division` parameter to control this behavior.\n",
            "  _warn_prf(average, modifier, f\"{metric.capitalize()} is\", len(result))\n"
          ]
        },
        {
          "name": "stdout",
          "output_type": "stream",
          "text": [
            "Task: S109 Run 11: Real Left vs Real Right | Acc: 0.57 | Prec: 0.00 | Rec: 0.00 | F1: 0.00\n"
          ]
        }
      ],
      "source": [
        "# Change this path to raw string (r\"...\") or use slashes\n",
        "base_dir = r\"E:\\AMAR\\git\\EEG_DATAREAD\\edf_analyser\\preprocessed_data_1005\"\n",
        "features_dir = os.path.join(base_dir, \"features\")\n",
        "labels_dir = os.path.join(base_dir, \"labels\")\n",
        "save_plot_dir = os.path.join(base_dir, \"plots\")\n",
        "os.makedirs(save_plot_dir, exist_ok=True)\n",
        "\n",
        "all_results = []\n",
        "\n",
        "for fname in sorted(os.listdir(features_dir)):\n",
        "    if not fname.endswith('_features.npy'):\n",
        "        continue\n",
        "\n",
        "    base_name = fname.replace('_features.npy', '')\n",
        "    subj_run_match = re.match(r\"(S\\d{3})R(\\d{2})\", base_name)\n",
        "    if not subj_run_match:\n",
        "        continue\n",
        "\n",
        "    subj_id, run_str = subj_run_match.groups()\n",
        "    run_num = int(run_str)\n",
        "    class_map = get_class_ids_from_run(run_num)\n",
        "    if class_map is None:\n",
        "        continue\n",
        "\n",
        "    feat_path = os.path.join(features_dir, f\"{base_name}_features.npy\")\n",
        "    label_path = os.path.join(labels_dir, f\"{base_name}_labels.npy\")\n",
        "    if not os.path.exists(label_path):\n",
        "        print(f\"Missing label file for: {base_name}\")\n",
        "        continue\n",
        "\n",
        "    X = np.load(feat_path)\n",
        "    y = np.load(label_path)\n",
        "\n",
        "    tasks = []\n",
        "\n",
        "    if 'real_left_fist' in class_map and 'real_right_fist' in class_map:\n",
        "        ids = [global_class_map['real_left_fist'], global_class_map['real_right_fist']]\n",
        "        tasks.append((\"Real Left vs Real Right\", ids))\n",
        "\n",
        "    if 'imagined_left_fist' in class_map and 'imagined_right_fist' in class_map:\n",
        "        ids = [global_class_map['imagined_left_fist'], global_class_map['imagined_right_fist']]\n",
        "        tasks.append((\"Imagined Left vs Imagined Right\", ids))\n",
        "\n",
        "    if all(k in class_map for k in ['real_left_fist', 'imagined_left_fist']):\n",
        "        ids = [global_class_map['real_left_fist'], global_class_map['imagined_left_fist']]\n",
        "        tasks.append((\"Real vs Imag Left Fist\", ids))\n",
        "\n",
        "    if all(k in class_map for k in ['real_right_fist', 'imagined_right_fist']):\n",
        "        ids = [global_class_map['real_right_fist'], global_class_map['imagined_right_fist']]\n",
        "        tasks.append((\"Real vs Imag Right Fist\", ids))\n",
        "\n",
        "    if all(k in class_map for k in ['real_left_fist', 'real_right_fist', 'imagined_left_fist', 'imagined_right_fist']):\n",
        "        ids = [global_class_map[k] for k in ['real_left_fist', 'imagined_left_fist', 'real_right_fist', 'imagined_right_fist']]\n",
        "        left = [global_class_map['real_left_fist'], global_class_map['imagined_left_fist']]\n",
        "        right = [global_class_map['real_right_fist'], global_class_map['imagined_right_fist']]\n",
        "        y_lr_mask = np.isin(y, ids)\n",
        "        y_lr = np.where(np.isin(y[y_lr_mask], left), 0, 1)\n",
        "        evaluate_model(X[y_lr_mask], y_lr, f\"{subj_id} Run {run_num}: Left vs Right (All)\",\n",
        "                       save_dir=save_plot_dir, prefix=f\"{subj_id}_R{run_num}_Left_vs_Right_All\",\n",
        "                       subject_id=subj_id, run_num=run_num, results_list=all_results)\n",
        "\n",
        "    for task_name, ids in tasks:\n",
        "        task_mask = np.isin(y, ids)\n",
        "        X_task = X[task_mask]\n",
        "        y_task = y[task_mask]\n",
        "        if len(np.unique(y_task)) != 2:\n",
        "            continue\n",
        "        y_task_bin = (y_task == ids[1]).astype(int)\n",
        "        evaluate_model(X_task, y_task_bin, f\"{subj_id} Run {run_num}: {task_name}\",\n",
        "                       save_dir=save_plot_dir, prefix=f\"{subj_id}_R{run_num}_{task_name.replace(' ', '_')}\",\n",
        "                       subject_id=subj_id, run_num=run_num, results_list=all_results)\n"
      ]
    },
    {
      "cell_type": "code",
      "execution_count": 8,
      "metadata": {},
      "outputs": [
        {
          "name": "stdout",
          "output_type": "stream",
          "text": [
            "Metrics saved to:\n",
            "E:\\AMAR\\git\\EEG_DATAREAD\\edf_analyser\\preprocessed_data_1005\\classification_metrics_summary.csv\n"
          ]
        },
        {
          "data": {
            "text/html": [
              "<div>\n",
              "<style scoped>\n",
              "    .dataframe tbody tr th:only-of-type {\n",
              "        vertical-align: middle;\n",
              "    }\n",
              "\n",
              "    .dataframe tbody tr th {\n",
              "        vertical-align: top;\n",
              "    }\n",
              "\n",
              "    .dataframe thead th {\n",
              "        text-align: right;\n",
              "    }\n",
              "</style>\n",
              "<table border=\"1\" class=\"dataframe\">\n",
              "  <thead>\n",
              "    <tr style=\"text-align: right;\">\n",
              "      <th></th>\n",
              "      <th>Subject</th>\n",
              "      <th>Run</th>\n",
              "      <th>Task</th>\n",
              "      <th>Accuracy</th>\n",
              "      <th>Precision</th>\n",
              "      <th>Recall</th>\n",
              "      <th>F1</th>\n",
              "    </tr>\n",
              "  </thead>\n",
              "  <tbody>\n",
              "    <tr>\n",
              "      <th>0</th>\n",
              "      <td>S001</td>\n",
              "      <td>3</td>\n",
              "      <td>S001 Run 3: Real Left vs Real Right</td>\n",
              "      <td>0.5714</td>\n",
              "      <td>0.0</td>\n",
              "      <td>0.0000</td>\n",
              "      <td>0.0</td>\n",
              "    </tr>\n",
              "    <tr>\n",
              "      <th>1</th>\n",
              "      <td>S001</td>\n",
              "      <td>7</td>\n",
              "      <td>S001 Run 7: Real Left vs Real Right</td>\n",
              "      <td>0.5714</td>\n",
              "      <td>0.0</td>\n",
              "      <td>0.0000</td>\n",
              "      <td>0.0</td>\n",
              "    </tr>\n",
              "    <tr>\n",
              "      <th>2</th>\n",
              "      <td>S001</td>\n",
              "      <td>11</td>\n",
              "      <td>S001 Run 11: Real Left vs Real Right</td>\n",
              "      <td>0.7143</td>\n",
              "      <td>0.0</td>\n",
              "      <td>0.0000</td>\n",
              "      <td>0.0</td>\n",
              "    </tr>\n",
              "    <tr>\n",
              "      <th>3</th>\n",
              "      <td>S002</td>\n",
              "      <td>3</td>\n",
              "      <td>S002 Run 3: Real Left vs Real Right</td>\n",
              "      <td>0.8571</td>\n",
              "      <td>1.0</td>\n",
              "      <td>0.6667</td>\n",
              "      <td>0.8</td>\n",
              "    </tr>\n",
              "    <tr>\n",
              "      <th>4</th>\n",
              "      <td>S002</td>\n",
              "      <td>7</td>\n",
              "      <td>S002 Run 7: Real Left vs Real Right</td>\n",
              "      <td>0.7143</td>\n",
              "      <td>0.0</td>\n",
              "      <td>0.0000</td>\n",
              "      <td>0.0</td>\n",
              "    </tr>\n",
              "  </tbody>\n",
              "</table>\n",
              "</div>"
            ],
            "text/plain": [
              "  Subject  Run                                  Task  Accuracy  Precision  \\\n",
              "0    S001    3   S001 Run 3: Real Left vs Real Right    0.5714        0.0   \n",
              "1    S001    7   S001 Run 7: Real Left vs Real Right    0.5714        0.0   \n",
              "2    S001   11  S001 Run 11: Real Left vs Real Right    0.7143        0.0   \n",
              "3    S002    3   S002 Run 3: Real Left vs Real Right    0.8571        1.0   \n",
              "4    S002    7   S002 Run 7: Real Left vs Real Right    0.7143        0.0   \n",
              "\n",
              "   Recall   F1  \n",
              "0  0.0000  0.0  \n",
              "1  0.0000  0.0  \n",
              "2  0.0000  0.0  \n",
              "3  0.6667  0.8  \n",
              "4  0.0000  0.0  "
            ]
          },
          "execution_count": 8,
          "metadata": {},
          "output_type": "execute_result"
        }
      ],
      "source": [
        "df = pd.DataFrame(all_results)\n",
        "csv_path = os.path.join(base_dir, \"classification_metrics_summary.csv\")\n",
        "df.to_csv(csv_path, index=False)\n",
        "print(f\"Metrics saved to:\\n{csv_path}\")\n",
        "df.head()\n"
      ]
    }
  ],
  "metadata": {
    "colab": {
      "provenance": []
    },
    "kernelspec": {
      "display_name": "base",
      "language": "python",
      "name": "python3"
    },
    "language_info": {
      "codemirror_mode": {
        "name": "ipython",
        "version": 3
      },
      "file_extension": ".py",
      "mimetype": "text/x-python",
      "name": "python",
      "nbconvert_exporter": "python",
      "pygments_lexer": "ipython3",
      "version": "3.12.7"
    }
  },
  "nbformat": 4,
  "nbformat_minor": 0
}
